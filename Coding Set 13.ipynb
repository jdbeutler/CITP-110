{
 "cells": [
  {
   "cell_type": "markdown",
   "id": "65be857a",
   "metadata": {},
   "source": [
    "# Coding Set 13\n",
    "Write a program that creates a database named phonebook.db. The database should have\n",
    "a table named Entries, with columns for a person’s name and phone number. Next, write\n",
    "a CRUD application that lets the user add rows to the Entries table, look up a person’s\n",
    "phone number, change a person’s phone number, and delete specified rows."
   ]
  },
  {
   "cell_type": "code",
   "execution_count": null,
   "id": "70dcac69",
   "metadata": {},
   "outputs": [],
   "source": [
    "import sqlite 3\n",
    "\n",
    "# realizing I need to use the main function for the program to interact with this database.\n",
    "\n",
    "def create_db():\n",
    "    connection = sqlite3.connect('phonebook.db')\n",
    "    cursor = connection.cursor()\n",
    "    \n",
    "    cursor.execute('''\n",
    "        CREATE TABLE IF NOT EXISTS Entries\n",
    "    ''')\n",
    "    \n",
    "    # need to revisit this - I know I'm missing stuff here\n",
    "    \n",
    "    connection.commit()\n",
    "    connection.close()\n",
    "    \n",
    "def add_entry(name, phone_number)\n",
    "    cursor = connection.cursor()\n",
    "    connection = sqlite3.connect('phonebook.db')\n",
    "\n",
    "def view_entry(name, phone_number)\n",
    "    cursor = connection.cursor()\n",
    "    connection = sqlite3.connect('phonebook.db')\n",
    "\n",
    "def update_entry(name, phone_number)"
   ]
  }
 ],
 "metadata": {
  "kernelspec": {
   "display_name": "Python 3 (ipykernel)",
   "language": "python",
   "name": "python3"
  },
  "language_info": {
   "codemirror_mode": {
    "name": "ipython",
    "version": 3
   },
   "file_extension": ".py",
   "mimetype": "text/x-python",
   "name": "python",
   "nbconvert_exporter": "python",
   "pygments_lexer": "ipython3",
   "version": "3.11.4"
  }
 },
 "nbformat": 4,
 "nbformat_minor": 5
}
