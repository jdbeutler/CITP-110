{
 "cells": [
  {
   "cell_type": "markdown",
   "id": "e771093e",
   "metadata": {},
   "source": [
    "# Coding Set 13\n",
    "Write a program that creates a database named phonebook.db. The database should have\n",
    "a table named Entries, with columns for a person’s name and phone number. Next, write\n",
    "a CRUD application that lets the user add rows to the Entries table, look up a person’s\n",
    "phone number, change a person’s phone number, and delete specified rows."
   ]
  },
  {
   "cell_type": "code",
   "execution_count": 1,
   "id": "3edc7e47",
   "metadata": {},
   "outputs": [
    {
     "ename": "SyntaxError",
     "evalue": "invalid syntax (4068687333.py, line 1)",
     "output_type": "error",
     "traceback": [
      "\u001b[1;36m  Cell \u001b[1;32mIn[1], line 1\u001b[1;36m\u001b[0m\n\u001b[1;33m    import sqlite 3\u001b[0m\n\u001b[1;37m                  ^\u001b[0m\n\u001b[1;31mSyntaxError\u001b[0m\u001b[1;31m:\u001b[0m invalid syntax\n"
     ]
    }
   ],
   "source": [
    "import sqlite 3\n",
    "\n",
    "# realizing I need to use the main function for the program to interact with this database.\n",
    "\n",
    "def create_db():\n",
    "    connection = sqlite3.connect('phonebook.db')\n",
    "    cursor = connection.cursor()\n",
    "    \n",
    "    cursor.execute('''\n",
    "        CREATE TABLE IF NOT EXISTS Entries\n",
    "    ''')\n",
    "    \n",
    "    # need to revisit this - I know I'm missing stuff here\n",
    "    \n",
    "    connection.commit()\n",
    "    connection.close()\n",
    "    \n",
    "def add_entry(id, name, phone_number):\n",
    "    \"\"\"This adds a new entry to the Entries table\"\"\"\n",
    "    cursor = connection.cursor()\n",
    "    connection = sqlite3.connect('phonebook.db')\n",
    "    \n",
    "    cursor.execute('''INSERT INTO Entries(name, phone_number)''')\n",
    "    \n",
    "    connection.commit()\n",
    "    connection.close()\n",
    "\n",
    "def view_entry(id, name, phone_number):\n",
    "    \"\"\"View all entries from the Entries table\"\"\"\n",
    "    cursor = connection.cursor()\n",
    "    connection = sqlite3.connect('phonebook.db')\n",
    "    \n",
    "    cursor.execute('''SELECT * FROM Entries''')\n",
    "    entries = cursor.fetchall()\n",
    "    \n",
    "    connection.close()\n",
    "\n",
    "def update_entry(id, new_name, new_phone_number):\n",
    "    # taking a chance and renaming these - I think...\n",
    "    \"\"\"Updates the phone number of an entry\"\"\"\n",
    "    cursor = connection.cursor()\n",
    "    connection = sqlite3.connect('phonebook.db')\n",
    "    \n",
    "    connection.commit()\n",
    "    connection.close()\n",
    "    \n",
    "def delete_entry(id, name, phone_number):\n",
    "    \"\"\"Deletes an entry from the Entries table\"\"\"\n",
    "    cursor = connection.cursor()\n",
    "    connection = sqlite3.connect('phonebook.db')\n",
    "    \n",
    "    connection.commit()\n",
    "    connection.close()"
   ]
  },
  {
   "cell_type": "code",
   "execution_count": null,
   "id": "f61c15ae",
   "metadata": {},
   "outputs": [],
   "source": [
    "def main():\n",
    "    while True:\n",
    "        print(\"\\nPhonebook Application\")\n",
    "        print(\"1. Add New Entry\")\n",
    "        print(\"2. View Entries\")\n",
    "        print(\"3. Update Entry\")\n",
    "        print(\"4. Delete Entry\")\n",
    "        print(\"5. Exit Program\")\n",
    "        \n",
    "        choice = Input(\"Enter choice: \")\n",
    "        \n",
    "        if choice == \"1\":\n",
    "            name = input(\"Enter Name: \")\n",
    "            phone_number = input(\"Enter Phone Number: \")\n",
    "            phonebook_db.add_entry(name, phone_number)\n",
    "            \n",
    "        elif choice == \"2\":\n",
    "            entries = phonebook_db.add_entry(name, phone_number)\n",
    "            for id, name, phone_number in entries:\n",
    "                print(f\"{id}: {name}: {phone_number}\")\n",
    "            \n",
    "        elif choice == \"3\":\n",
    "            new_name = input(\"Enter new name to update: \")\n",
    "            new_phone_number = input(\"Enter updated phone number: \")\n",
    "            phonebook_db.update_entry(id, new_name, new_phone_number)\n",
    "            \n",
    "        elif choice == \"4\":\n",
    "            id = input(\"Enter contact ID number to delete: \")\n",
    "            phonebook_db.delete_entry(id)\n",
    "            \n",
    "        elif choice == \"5\":\n",
    "            break\n",
    "            else:\n",
    "                print(\"In\")\n",
    "            \n",
    "if __name__ == \"__main__\":\n",
    "    main()"
   ]
  }
 ],
 "metadata": {
  "kernelspec": {
   "display_name": "Python 3 (ipykernel)",
   "language": "python",
   "name": "python3"
  },
  "language_info": {
   "codemirror_mode": {
    "name": "ipython",
    "version": 3
   },
   "file_extension": ".py",
   "mimetype": "text/x-python",
   "name": "python",
   "nbconvert_exporter": "python",
   "pygments_lexer": "ipython3",
   "version": "3.11.4"
  }
 },
 "nbformat": 4,
 "nbformat_minor": 5
}
