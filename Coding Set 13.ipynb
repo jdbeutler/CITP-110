{
 "cells": [
  {
   "cell_type": "markdown",
   "id": "a6366f15",
   "metadata": {},
   "source": [
    "# Coding Set 13\n",
    "Write a program that creates a database named phonebook.db. The database should have\n",
    "a table named Entries, with columns for a person’s name and phone number. Next, write\n",
    "a CRUD application that lets the user add rows to the Entries table, look up a person’s\n",
    "phone number, change a person’s phone number, and delete specified rows."
   ]
  },
  {
   "cell_type": "code",
   "execution_count": null,
   "id": "2094ba4e",
   "metadata": {},
   "outputs": [],
   "source": [
    "import sqlite 3\n",
    "\n",
    "# realizing I need to use the main function for the program to interact with this database.\n",
    "\n",
    "def create_db():\n",
    "    connection = sqlite3.connect('phonebook.db')\n",
    "    cursor = connection.cursor()\n",
    "    \n",
    "    cursor.execute('''\n",
    "        CREATE TABLE IF NOT EXISTS Entries\n",
    "    ''')\n",
    "    \n",
    "    # need to revisit this - I know I'm missing stuff here\n",
    "    \n",
    "    connection.commit()\n",
    "    connection.close()\n",
    "    \n",
    "def add_entry(name, phone_number):\n",
    "    \"\"\"This adds a new entry to the Entries table\"\"\"\n",
    "    cursor = connection.cursor()\n",
    "    connection = sqlite3.connect('phonebook.db')\n",
    "    \n",
    "    cursor.execute('''INSERT INTO Entries(name, phone_number)''')\n",
    "    \n",
    "    connection.commit()\n",
    "    connection.close()\n",
    "\n",
    "def view_entry(name, phone_number):\n",
    "    \"\"\"View all entries from the Entries table\"\"\"\n",
    "    cursor = connection.cursor()\n",
    "    connection = sqlite3.connect('phonebook.db')\n",
    "    \n",
    "    cursor.execute('''SELECT * FROM Entries''')\n",
    "    entries = cursor.fetchall()\n",
    "    \n",
    "    connection.close()\n",
    "\n",
    "def update_entry(name, phone_number):\n",
    "    # might need to change the name and phone number to reflect update - will research later\n",
    "    \"\"\"Updates the phone number of an entry\"\"\"\n",
    "    cursor = connection.cursor()\n",
    "    connection = sqlite3.connect('phonebook.db')\n",
    "    \n",
    "    connection.commit()\n",
    "    connection.close()\n",
    "    \n",
    "def delete_entry(name, phone_number):\n",
    "    \"\"\"Deletes an entry from the Entries table\"\"\"\n",
    "    cursor = connection.cursor()\n",
    "    connection = sqlite3.connect('phonebook.db')\n",
    "    \n",
    "    connection.commit()\n",
    "    connection.close()"
   ]
  }
 ],
 "metadata": {
  "kernelspec": {
   "display_name": "Python 3 (ipykernel)",
   "language": "python",
   "name": "python3"
  },
  "language_info": {
   "codemirror_mode": {
    "name": "ipython",
    "version": 3
   },
   "file_extension": ".py",
   "mimetype": "text/x-python",
   "name": "python",
   "nbconvert_exporter": "python",
   "pygments_lexer": "ipython3",
   "version": "3.11.4"
  }
 },
 "nbformat": 4,
 "nbformat_minor": 5
}
