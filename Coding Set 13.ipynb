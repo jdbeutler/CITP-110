{
 "cells": [
  {
   "cell_type": "markdown",
   "id": "59420b49",
   "metadata": {},
   "source": [
    "# Coding Set 13\n",
    "Write a program that creates a database named phonebook.db. The database should have\n",
    "a table named Entries, with columns for a person’s name and phone number. Next, write\n",
    "a CRUD application that lets the user add rows to the Entries table, look up a person’s\n",
    "phone number, change a person’s phone number, and delete specified rows."
   ]
  },
  {
   "cell_type": "code",
   "execution_count": null,
   "id": "fb09e38a",
   "metadata": {},
   "outputs": [],
   "source": [
    "import sqlite 3\n",
    "\n",
    "def main():\n",
    "    connection = sqlite3.connect('phonebook.db')\n",
    "    cursor = connection.cursor()\n",
    "    \n",
    "    cursor.execute('''\n",
    "        CREATE TABLE IF NOT EXISTS Entries\n",
    "    ''')\n",
    "    \n",
    "    connection.commit()\n",
    "    connection.close()\n",
    "    \n",
    "def add_entry(name, phone_number)\n",
    "\n",
    "def view_entry(name, phone_number)\n",
    "\n",
    "def update_entry(name, phone_numbe)"
   ]
  }
 ],
 "metadata": {
  "kernelspec": {
   "display_name": "Python 3 (ipykernel)",
   "language": "python",
   "name": "python3"
  },
  "language_info": {
   "codemirror_mode": {
    "name": "ipython",
    "version": 3
   },
   "file_extension": ".py",
   "mimetype": "text/x-python",
   "name": "python",
   "nbconvert_exporter": "python",
   "pygments_lexer": "ipython3",
   "version": "3.11.4"
  }
 },
 "nbformat": 4,
 "nbformat_minor": 5
}
