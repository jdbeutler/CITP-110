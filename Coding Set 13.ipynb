{
 "cells": [
  {
   "cell_type": "markdown",
   "id": "a02b45cf",
   "metadata": {},
   "source": [
    "# Coding Set 13\n",
    "Write a program that creates a database named phonebook.db. The database should have\n",
    "a table named Entries, with columns for a person’s name and phone number. Next, write\n",
    "a CRUD application that lets the user add rows to the Entries table, look up a person’s\n",
    "phone number, change a person’s phone number, and delete specified rows."
   ]
  },
  {
   "cell_type": "code",
   "execution_count": 18,
   "id": "3b0f0267",
   "metadata": {},
   "outputs": [],
   "source": [
    "import sqlite3\n",
    "\n",
    "# realizing I need to use the main function for the program to interact with this database.\n",
    "\n",
    "def create_db():\n",
    "    connection = sqlite3.connect('phonebook.db')\n",
    "    cursor = connection.cursor()\n",
    "    \n",
    "    cursor.execute('''\n",
    "        CREATE TABLE IF NOT EXISTS Entries\n",
    "        (\n",
    "        id INTEGER PRIMARY KEY,\n",
    "        name TEXT NOT NULL,\n",
    "        phone_number TEXT NOT NULL\n",
    "        )\n",
    "    ''')\n",
    "    \n",
    "    connection.commit()\n",
    "    connection.close()\n",
    "    \n",
    "def add_entry(name, phone_number):\n",
    "    \"\"\"This adds a new entry to the Entries table\"\"\"\n",
    "    connection = sqlite3.connect('phonebook.db')\n",
    "    cursor = connection.cursor()\n",
    "    \n",
    "    cursor.execute('''INSERT INTO Entries(name, phone_number) VALUES(?, ?)''', (name, phone_number))\n",
    "    # used ChatGPT to hammer out what was wrong here, I didn't add the values part and the actual data to insert\n",
    "    \n",
    "    connection.commit()\n",
    "    connection.close()\n",
    "\n",
    "def view_entry(name, phone_number):\n",
    "    \"\"\"View all entries from the Entries table\"\"\"\n",
    "    cursor = connection.cursor()\n",
    "    connection = sqlite3.connect('phonebook.db')\n",
    "    \n",
    "    cursor.execute('''SELECT * FROM Entries''')\n",
    "    entries = cursor.fetchall()\n",
    "    \n",
    "    connection.close()\n",
    "\n",
    "def update_entry(id, new_name, new_phone_number):\n",
    "    # needed to add the id to this, not a lot of experience with this type of code\n",
    "    \"\"\"Updates the phone number of an entry\"\"\"\n",
    "    cursor = connection.cursor()\n",
    "    connection = sqlite3.connect('phonebook.db')\n",
    "    \n",
    "    connection.commit()\n",
    "    connection.close()\n",
    "    \n",
    "def delete_entry(name, phone_number):\n",
    "    \"\"\"Deletes an entry from the Entries table\"\"\"\n",
    "    cursor = connection.cursor()\n",
    "    connection = sqlite3.connect('phonebook.db')\n",
    "    \n",
    "    connection.commit()\n",
    "    connection.close()"
   ]
  },
  {
   "cell_type": "code",
   "execution_count": 20,
   "id": "308d1d83",
   "metadata": {
    "scrolled": true
   },
   "outputs": [
    {
     "name": "stdout",
     "output_type": "stream",
     "text": [
      "\n",
      "Phonebook Application\n",
      "1. Add New Entry\n",
      "2. View Entries\n",
      "3. Update Entry\n",
      "4. Delete Entry\n",
      "5. Exit Program\n",
      "Enter choice: 1\n",
      "Enter Name: James Beutler\n",
      "Enter Phone Number: 3036671000\n"
     ]
    },
    {
     "ename": "NameError",
     "evalue": "name 'phonebook_db' is not defined",
     "output_type": "error",
     "traceback": [
      "\u001b[1;31m---------------------------------------------------------------------------\u001b[0m",
      "\u001b[1;31mNameError\u001b[0m                                 Traceback (most recent call last)",
      "Cell \u001b[1;32mIn[20], line 37\u001b[0m\n\u001b[0;32m     34\u001b[0m             \u001b[38;5;28mprint\u001b[39m(\u001b[38;5;124m\"\u001b[39m\u001b[38;5;124mInvalid choice.  Please try again.\u001b[39m\u001b[38;5;124m\"\u001b[39m)\n\u001b[0;32m     36\u001b[0m \u001b[38;5;28;01mif\u001b[39;00m \u001b[38;5;18m__name__\u001b[39m \u001b[38;5;241m==\u001b[39m \u001b[38;5;124m\"\u001b[39m\u001b[38;5;124m__main__\u001b[39m\u001b[38;5;124m\"\u001b[39m:\n\u001b[1;32m---> 37\u001b[0m     main()\n",
      "Cell \u001b[1;32mIn[20], line 15\u001b[0m, in \u001b[0;36mmain\u001b[1;34m()\u001b[0m\n\u001b[0;32m     13\u001b[0m     name \u001b[38;5;241m=\u001b[39m \u001b[38;5;28minput\u001b[39m(\u001b[38;5;124m\"\u001b[39m\u001b[38;5;124mEnter Name: \u001b[39m\u001b[38;5;124m\"\u001b[39m)\n\u001b[0;32m     14\u001b[0m     phone_number \u001b[38;5;241m=\u001b[39m \u001b[38;5;28minput\u001b[39m(\u001b[38;5;124m\"\u001b[39m\u001b[38;5;124mEnter Phone Number: \u001b[39m\u001b[38;5;124m\"\u001b[39m)\n\u001b[1;32m---> 15\u001b[0m     phonebook_db\u001b[38;5;241m.\u001b[39madd_entry(name, phone_number)\n\u001b[0;32m     17\u001b[0m \u001b[38;5;28;01melif\u001b[39;00m choice \u001b[38;5;241m==\u001b[39m \u001b[38;5;124m\"\u001b[39m\u001b[38;5;124m2\u001b[39m\u001b[38;5;124m\"\u001b[39m:\n\u001b[0;32m     18\u001b[0m     entries \u001b[38;5;241m=\u001b[39m view_entry(name, phone_number)\n",
      "\u001b[1;31mNameError\u001b[0m: name 'phonebook_db' is not defined"
     ]
    }
   ],
   "source": [
    "def main():\n",
    "    while True:\n",
    "        print(\"\\nPhonebook Application\")\n",
    "        print(\"1. Add New Entry\")\n",
    "        print(\"2. View Entries\")\n",
    "        print(\"3. Update Entry\")\n",
    "        print(\"4. Delete Entry\")\n",
    "        print(\"5. Exit Program\")\n",
    "        \n",
    "        choice = input(\"Enter choice: \")\n",
    "        \n",
    "        if choice == \"1\":\n",
    "            name = input(\"Enter Name: \")\n",
    "            phone_number = input(\"Enter Phone Number: \")\n",
    "            phonebook_db.add_entry(name, phone_number)\n",
    "            \n",
    "        elif choice == \"2\":\n",
    "            entries = view_entry(name, phone_number)\n",
    "            for id, name, phone_number in entries:\n",
    "                print(f\"{id}: {name}: {phone_number}\")\n",
    "            \n",
    "        elif choice == \"3\":\n",
    "            new_name = input(\"Enter new name to update: \")\n",
    "            new_phone_number = input(\"Enter updated phone number: \")\n",
    "            update_entry(new_name, new_phone_number)\n",
    "            \n",
    "        elif choice == \"4\":\n",
    "            id = input(\"Enter contact ID number to delete: \")\n",
    "            phonebook_db.delete_entry(id)\n",
    "            \n",
    "        elif choice == \"5\":\n",
    "            break\n",
    "        else:\n",
    "            print(\"Invalid choice.  Please try again.\")\n",
    "            \n",
    "if __name__ == \"__main__\":\n",
    "    main()"
   ]
  },
  {
   "cell_type": "code",
   "execution_count": null,
   "id": "ad246cfd",
   "metadata": {},
   "outputs": [],
   "source": []
  }
 ],
 "metadata": {
  "kernelspec": {
   "display_name": "Python 3 (ipykernel)",
   "language": "python",
   "name": "python3"
  },
  "language_info": {
   "codemirror_mode": {
    "name": "ipython",
    "version": 3
   },
   "file_extension": ".py",
   "mimetype": "text/x-python",
   "name": "python",
   "nbconvert_exporter": "python",
   "pygments_lexer": "ipython3",
   "version": "3.11.4"
  }
 },
 "nbformat": 4,
 "nbformat_minor": 5
}
