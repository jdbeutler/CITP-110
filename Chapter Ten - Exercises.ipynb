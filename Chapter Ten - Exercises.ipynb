{
 "cells": [
  {
   "cell_type": "markdown",
   "id": "fbf67687",
   "metadata": {},
   "source": [
    "# Chapter Ten - Programming Exercises"
   ]
  },
  {
   "cell_type": "markdown",
   "id": "99b910b2",
   "metadata": {},
   "source": [
    "# Programming Exercise 4\n",
    "4. Employee Class\n",
    "Write a class named Employee that holds the following data about an employee in attributes: name, ID number, department, and job title.\n",
    "Once you have written the class, write a program that creates three Employee objects to\n",
    "hold the following data:\n",
    "Name ID Number Department Job Title\n",
    "Susan Meyers 47899 Accounting Vice President\n",
    "Mark Jones 39119 IT Programmer\n",
    "Joy Rogers 81774 Manufacturing Engineer\n",
    "The program should store this data in the three objects, then display the data for each\n",
    "employee on the screen."
   ]
  },
  {
   "cell_type": "code",
   "execution_count": 8,
   "id": "4b0957c8",
   "metadata": {
    "scrolled": true
   },
   "outputs": [
    {
     "name": "stdout",
     "output_type": "stream",
     "text": [
      "Name: Susan Meyers\n",
      "ID Number: 47899\n",
      "Department: Accounting\n",
      "Job Title: Vice President\n",
      "\n",
      "Name: Mark Jones\n",
      "ID Number: 39919\n",
      "Department: IT\n",
      "Job Title: Programmer\n",
      "\n",
      "Name: Joy Rodgers\n",
      "ID Number: 81774\n",
      "Department: Manufacturing\n",
      "Job Title: Engineer\n",
      "\n"
     ]
    }
   ],
   "source": [
    "# Step One - Define the employee class\n",
    "\n",
    "class Employee:\n",
    "    def __init__(self, name, id_number, dept, title):\n",
    "        self.name = name\n",
    "        self.id_number = id_number\n",
    "        self.dept = dept\n",
    "        self.title = title\n",
    "        \n",
    "    def display_info(self):\n",
    "        print(f'Name: {self.name}')\n",
    "        print(f'ID Number: {self.id_number}')\n",
    "        print(f'Department: {self.dept}')\n",
    "        print(f'Job Title: {self.title}')\n",
    "        print(\"\")\n",
    "              \n",
    "# Step Two - Create objects\n",
    "\n",
    "employee1 = Employee('Susan Meyers', '47899', 'Accounting', 'Vice President')\n",
    "employee2 = Employee('Mark Jones', '39919', 'IT', 'Programmer')\n",
    "employee3 = Employee('Joy Rodgers', '81774', 'Manufacturing', 'Engineer')\n",
    "\n",
    "# Step Three - Display employee data\n",
    "\n",
    "employee1.display_info()\n",
    "employee2.display_info()\n",
    "employee3.display_info()"
   ]
  },
  {
   "cell_type": "code",
   "execution_count": null,
   "id": "66f3397f",
   "metadata": {},
   "outputs": [],
   "source": []
  }
 ],
 "metadata": {
  "kernelspec": {
   "display_name": "Python 3 (ipykernel)",
   "language": "python",
   "name": "python3"
  },
  "language_info": {
   "codemirror_mode": {
    "name": "ipython",
    "version": 3
   },
   "file_extension": ".py",
   "mimetype": "text/x-python",
   "name": "python",
   "nbconvert_exporter": "python",
   "pygments_lexer": "ipython3",
   "version": "3.11.4"
  }
 },
 "nbformat": 4,
 "nbformat_minor": 5
}
