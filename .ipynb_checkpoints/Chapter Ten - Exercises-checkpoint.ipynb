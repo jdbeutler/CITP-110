{
 "cells": [
  {
   "cell_type": "markdown",
   "id": "a0407086",
   "metadata": {},
   "source": [
    "# Chapter Ten - Programming Exercises"
   ]
  },
  {
   "cell_type": "markdown",
   "id": "a5282c2d",
   "metadata": {},
   "source": [
    "# Programming Exercise 4\n",
    "4. Employee Class\n",
    "Write a class named Employee that holds the following data about an employee in attributes: name, ID number, department, and job title.\n",
    "Once you have written the class, write a program that creates three Employee objects to\n",
    "hold the following data:\n",
    "Name ID Number Department Job Title\n",
    "Susan Meyers 47899 Accounting Vice President\n",
    "Mark Jones 39119 IT Programmer\n",
    "Joy Rogers 81774 Manufacturing Engineer\n",
    "The program should store this data in the three objects, then display the data for each\n",
    "employee on the screen."
   ]
  },
  {
   "cell_type": "code",
   "execution_count": 8,
   "id": "1514796a",
   "metadata": {
    "scrolled": true
   },
   "outputs": [
    {
     "name": "stdout",
     "output_type": "stream",
     "text": [
      "Name: Susan Meyers\n",
      "ID Number: 47899\n",
      "Department: Accounting\n",
      "Job Title: Vice President\n",
      "\n",
      "Name: Mark Jones\n",
      "ID Number: 39919\n",
      "Department: IT\n",
      "Job Title: Programmer\n",
      "\n",
      "Name: Joy Rodgers\n",
      "ID Number: 81774\n",
      "Department: Manufacturing\n",
      "Job Title: Engineer\n",
      "\n"
     ]
    }
   ],
   "source": [
    "# Step One - Define the employee class\n",
    "\n",
    "class Employee:\n",
    "    def __init__(self, name, id_number, dept, title):\n",
    "        self.name = name\n",
    "        self.id_number = id_number\n",
    "        self.dept = dept\n",
    "        self.title = title\n",
    "        \n",
    "    def display_info(self):\n",
    "        print(f'Name: {self.name}')\n",
    "        print(f'ID Number: {self.id_number}')\n",
    "        print(f'Department: {self.dept}')\n",
    "        print(f'Job Title: {self.title}')\n",
    "        print(\"\")\n",
    "              \n",
    "# Step Two - Create objects\n",
    "\n",
    "employee1 = Employee('Susan Meyers', '47899', 'Accounting', 'Vice President')\n",
    "employee2 = Employee('Mark Jones', '39919', 'IT', 'Programmer')\n",
    "employee3 = Employee('Joy Rodgers', '81774', 'Manufacturing', 'Engineer')\n",
    "\n",
    "# Step Three - Display employee data\n",
    "\n",
    "employee1.display_info()\n",
    "employee2.display_info()\n",
    "employee3.display_info()"
   ]
  },
  {
   "cell_type": "markdown",
   "id": "6639072a",
   "metadata": {},
   "source": [
    "# Programming Exercise 5\n",
    "Write a class named RetailItem that holds data about an item in a retail store. The class\n",
    "should store the following data in attributes: item description, units in inventory, and price.\n",
    "Once you have written the class, write a program that creates three RetailItem objects\n",
    "and stores the following data in them:\n",
    "Description Units in Inventory Price\n",
    "Item #1 Jacket 12 59.95\n",
    "Item #2 Designer Jeans 40 34.95\n",
    "Item #3 Shirt 20 24.95\n"
   ]
  },
  {
   "cell_type": "code",
   "execution_count": 11,
   "id": "aab9a54f",
   "metadata": {
    "scrolled": true
   },
   "outputs": [
    {
     "ename": "NameError",
     "evalue": "name 'description' is not defined",
     "output_type": "error",
     "traceback": [
      "\u001b[1;31m---------------------------------------------------------------------------\u001b[0m",
      "\u001b[1;31mNameError\u001b[0m                                 Traceback (most recent call last)",
      "Cell \u001b[1;32mIn[11], line 22\u001b[0m\n\u001b[0;32m     20\u001b[0m \u001b[38;5;66;03m# Step Three - Display the data\u001b[39;00m\n\u001b[0;32m     21\u001b[0m \u001b[38;5;28;01mfor\u001b[39;00m item \u001b[38;5;129;01min\u001b[39;00m items:\n\u001b[1;32m---> 22\u001b[0m     \u001b[38;5;28mprint\u001b[39m(\u001b[38;5;124mf\u001b[39m\u001b[38;5;124m\"\u001b[39m\u001b[38;5;124mDescription: \u001b[39m\u001b[38;5;132;01m{\u001b[39;00mdescription\u001b[38;5;132;01m}\u001b[39;00m\u001b[38;5;124m\"\u001b[39m)\n\u001b[0;32m     23\u001b[0m     \u001b[38;5;28mprint\u001b[39m(\u001b[38;5;124mf\u001b[39m\u001b[38;5;124m\"\u001b[39m\u001b[38;5;124mUnits in Inventory: \u001b[39m\u001b[38;5;132;01m{\u001b[39;00munits\u001b[38;5;132;01m}\u001b[39;00m\u001b[38;5;124m\"\u001b[39m)\n\u001b[0;32m     24\u001b[0m     \u001b[38;5;28mprint\u001b[39m(\u001b[38;5;124mf\u001b[39m\u001b[38;5;124m\"\u001b[39m\u001b[38;5;124mMSRP: \u001b[39m\u001b[38;5;132;01m{\u001b[39;00mprice\u001b[38;5;132;01m}\u001b[39;00m\u001b[38;5;124m\"\u001b[39m)\n",
      "\u001b[1;31mNameError\u001b[0m: name 'description' is not defined"
     ]
    }
   ],
   "source": [
    "# Step One - define the RetailItem class\n",
    "\n",
    "class RetailItem:\n",
    "    def __init__(self, description, units, price, cost):\n",
    "        self.description = description\n",
    "        self.units = units\n",
    "        self.price = price\n",
    "        self.cost = cost\n",
    "        # Added cost to assignment - I deal with this type of thing regularly\n",
    "        # and it felt odd not to include it.\n",
    "\n",
    "# Step Two - create instances of the RetailItem class\n",
    "\n",
    "jacket = RetailItem('Jacket', '12', 59.99, 30)\n",
    "jeans = RetailItem('Designer Jeans', '40', 34.99, 20)\n",
    "shirt = RetailItem('Shirt', '20', 24.99, 12)\n",
    "\n",
    "items = [jacket, jeans, shirt]\n",
    "\n",
    "# Step Three - Display the data\n",
    "for item in items:\n",
    "    print(f\"Description: {description}\")\n",
    "    print(f\"Units in Inventory: {units}\")\n",
    "    print(f\"MSRP: {price}\")\n",
    "    print(f\"Unit Cost: {cost}\")"
   ]
  },
  {
   "cell_type": "code",
   "execution_count": null,
   "id": "bf6637cb",
   "metadata": {},
   "outputs": [],
   "source": []
  }
 ],
 "metadata": {
  "kernelspec": {
   "display_name": "Python 3 (ipykernel)",
   "language": "python",
   "name": "python3"
  },
  "language_info": {
   "codemirror_mode": {
    "name": "ipython",
    "version": 3
   },
   "file_extension": ".py",
   "mimetype": "text/x-python",
   "name": "python",
   "nbconvert_exporter": "python",
   "pygments_lexer": "ipython3",
   "version": "3.11.4"
  }
 },
 "nbformat": 4,
 "nbformat_minor": 5
}
