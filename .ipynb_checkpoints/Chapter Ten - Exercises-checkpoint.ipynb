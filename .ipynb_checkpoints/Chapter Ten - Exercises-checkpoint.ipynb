{
 "cells": [
  {
   "cell_type": "markdown",
   "id": "3fec4659",
   "metadata": {},
   "source": [
    "# Chapter Ten - Programming Exercises"
   ]
  },
  {
   "cell_type": "markdown",
   "id": "7347ef28",
   "metadata": {},
   "source": [
    "# Programming Exercise 4\n",
    "4. Employee Class\n",
    "Write a class named Employee that holds the following data about an employee in attributes: name, ID number, department, and job title.\n",
    "Once you have written the class, write a program that creates three Employee objects to\n",
    "hold the following data:\n",
    "Name ID Number Department Job Title\n",
    "Susan Meyers 47899 Accounting Vice President\n",
    "Mark Jones 39119 IT Programmer\n",
    "Joy Rogers 81774 Manufacturing Engineer\n",
    "The program should store this data in the three objects, then display the data for each\n",
    "employee on the screen."
   ]
  },
  {
   "cell_type": "code",
   "execution_count": null,
   "id": "16d601f3",
   "metadata": {},
   "outputs": [],
   "source": [
    "# Step One - Define the employee class\n",
    "\n",
    "class Employee:\n",
    "    def __init__(name, id_number, dept, title)\n",
    "\n",
    "# Step Two - Create objects\n",
    "\n",
    "# Step Three - Display employee data"
   ]
  }
 ],
 "metadata": {
  "kernelspec": {
   "display_name": "Python 3 (ipykernel)",
   "language": "python",
   "name": "python3"
  },
  "language_info": {
   "codemirror_mode": {
    "name": "ipython",
    "version": 3
   },
   "file_extension": ".py",
   "mimetype": "text/x-python",
   "name": "python",
   "nbconvert_exporter": "python",
   "pygments_lexer": "ipython3",
   "version": "3.11.4"
  }
 },
 "nbformat": 4,
 "nbformat_minor": 5
}
