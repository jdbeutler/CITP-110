{
 "cells": [
  {
   "cell_type": "markdown",
   "id": "e21d3742",
   "metadata": {},
   "source": [
    "# Chapter Ten - Programming Exercises"
   ]
  },
  {
   "cell_type": "markdown",
   "id": "aa4e9f82",
   "metadata": {},
   "source": [
    "# Programming Exercise 4\n",
    "4. Employee Class\n",
    "Write a class named Employee that holds the following data about an employee in attributes: name, ID number, department, and job title.\n",
    "Once you have written the class, write a program that creates three Employee objects to\n",
    "hold the following data:\n",
    "Name ID Number Department Job Title\n",
    "Susan Meyers 47899 Accounting Vice President\n",
    "Mark Jones 39119 IT Programmer\n",
    "Joy Rogers 81774 Manufacturing Engineer\n",
    "The program should store this data in the three objects, then display the data for each\n",
    "employee on the screen."
   ]
  },
  {
   "cell_type": "code",
   "execution_count": 2,
   "id": "0db3f124",
   "metadata": {},
   "outputs": [
    {
     "ename": "TypeError",
     "evalue": "Employee.__init__() takes 4 positional arguments but 5 were given",
     "output_type": "error",
     "traceback": [
      "\u001b[1;31m---------------------------------------------------------------------------\u001b[0m",
      "\u001b[1;31mTypeError\u001b[0m                                 Traceback (most recent call last)",
      "Cell \u001b[1;32mIn[2], line 12\u001b[0m\n\u001b[0;32m      8\u001b[0m         \u001b[38;5;28mself\u001b[39m\u001b[38;5;241m.\u001b[39mtitle \u001b[38;5;241m=\u001b[39m title\n\u001b[0;32m     10\u001b[0m \u001b[38;5;66;03m# Step Two - Create objects\u001b[39;00m\n\u001b[1;32m---> 12\u001b[0m employee1 \u001b[38;5;241m=\u001b[39m Employee(\u001b[38;5;124m'\u001b[39m\u001b[38;5;124mSusan Meyers\u001b[39m\u001b[38;5;124m'\u001b[39m, \u001b[38;5;124m'\u001b[39m\u001b[38;5;124m47899\u001b[39m\u001b[38;5;124m'\u001b[39m, \u001b[38;5;124m'\u001b[39m\u001b[38;5;124mAccounting\u001b[39m\u001b[38;5;124m'\u001b[39m, \u001b[38;5;124m'\u001b[39m\u001b[38;5;124mVice President\u001b[39m\u001b[38;5;124m'\u001b[39m)\n\u001b[0;32m     13\u001b[0m employee2 \u001b[38;5;241m=\u001b[39m Employee(\u001b[38;5;124m'\u001b[39m\u001b[38;5;124mMark Jones\u001b[39m\u001b[38;5;124m'\u001b[39m, \u001b[38;5;124m'\u001b[39m\u001b[38;5;124m39919\u001b[39m\u001b[38;5;124m'\u001b[39m, \u001b[38;5;124m'\u001b[39m\u001b[38;5;124mIT\u001b[39m\u001b[38;5;124m'\u001b[39m, \u001b[38;5;124m'\u001b[39m\u001b[38;5;124mProgrammer\u001b[39m\u001b[38;5;124m'\u001b[39m)\n\u001b[0;32m     14\u001b[0m employee3 \u001b[38;5;241m=\u001b[39m Employee(\u001b[38;5;124m'\u001b[39m\u001b[38;5;124mJoy Rodgers\u001b[39m\u001b[38;5;124m'\u001b[39m, \u001b[38;5;124m'\u001b[39m\u001b[38;5;124m81774\u001b[39m\u001b[38;5;124m'\u001b[39m, \u001b[38;5;124m'\u001b[39m\u001b[38;5;124mManufacturing\u001b[39m\u001b[38;5;124m'\u001b[39m, \u001b[38;5;124m'\u001b[39m\u001b[38;5;124mEngineer\u001b[39m\u001b[38;5;124m'\u001b[39m)\n",
      "\u001b[1;31mTypeError\u001b[0m: Employee.__init__() takes 4 positional arguments but 5 were given"
     ]
    }
   ],
   "source": [
    "# Step One - Define the employee class\n",
    "\n",
    "class Employee:\n",
    "    def __init__(name, id_number, dept, title):\n",
    "        self.name = name\n",
    "        self.id_number = id_number\n",
    "        self.dept = dept\n",
    "        self.title = title\n",
    "\n",
    "# Step Two - Create objects\n",
    "\n",
    "employee1 = Employee('Susan Meyers', '47899', 'Accounting', 'Vice President')\n",
    "employee2 = Employee('Mark Jones', '39919', 'IT', 'Programmer')\n",
    "employee3 = Employee('Joy Rodgers', '81774', 'Manufacturing', 'Engineer')\n",
    "\n",
    "# Step Three - Display employee data\n",
    "\n",
    "employee1.display_info()\n",
    "employee2.display_info()\n",
    "employee3.display_info()"
   ]
  },
  {
   "cell_type": "code",
   "execution_count": null,
   "id": "e3ea562f",
   "metadata": {},
   "outputs": [],
   "source": []
  }
 ],
 "metadata": {
  "kernelspec": {
   "display_name": "Python 3 (ipykernel)",
   "language": "python",
   "name": "python3"
  },
  "language_info": {
   "codemirror_mode": {
    "name": "ipython",
    "version": 3
   },
   "file_extension": ".py",
   "mimetype": "text/x-python",
   "name": "python",
   "nbconvert_exporter": "python",
   "pygments_lexer": "ipython3",
   "version": "3.11.4"
  }
 },
 "nbformat": 4,
 "nbformat_minor": 5
}
