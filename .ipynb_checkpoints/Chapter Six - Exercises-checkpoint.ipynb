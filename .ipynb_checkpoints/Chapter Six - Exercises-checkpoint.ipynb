{
 "cells": [
  {
   "cell_type": "markdown",
   "id": "47ab562e",
   "metadata": {},
   "source": [
    "# Chapter Six Exercises\n",
    "Alg workbench - any 2\n",
    "Prog exercises 1, 6, 9, and ?"
   ]
  },
  {
   "cell_type": "markdown",
   "id": "0fdacd77",
   "metadata": {},
   "source": [
    "# Algorithm Workbench - Problem 1\n",
    "Write a program that opens an output file with the filename my_name.txt, writes your\n",
    "name to the file, then closes the file."
   ]
  },
  {
   "cell_type": "code",
   "execution_count": 7,
   "id": "0214e0f5",
   "metadata": {},
   "outputs": [
    {
     "name": "stdout",
     "output_type": "stream",
     "text": [
      "Your name is now written to my_name.txt\n"
     ]
    }
   ],
   "source": [
    "# Step one - Open file\n",
    "\n",
    "file_name = \"my_name.txt\"\n",
    "\n",
    "# Step two - Write name, to file\n",
    "\n",
    "try:\n",
    "    with open(file_name, 'w') as file:\n",
    "        your_name = \"James Beutler\"\n",
    "        file.write(your_name)\n",
    "        \n",
    "# Step three - Close file\n",
    "\n",
    "    print(f\"Your name is now written to {file_name}\")\n",
    "\n",
    "except IOError as e:\n",
    "    print(\"An error occured.\")"
   ]
  },
  {
   "cell_type": "markdown",
   "id": "8ed5dd6e",
   "metadata": {},
   "source": [
    "# Alg WB Problem 2\n",
    "Write a program that opens the my_name.txt file that was created by the program\n",
    "in problem 1, reads your name from the file, displays the name on the screen, then\n",
    "closes the file."
   ]
  },
  {
   "cell_type": "code",
   "execution_count": 8,
   "id": "7dafeea0",
   "metadata": {},
   "outputs": [
    {
     "name": "stdout",
     "output_type": "stream",
     "text": [
      "Your name is: James Beutler\n"
     ]
    }
   ],
   "source": [
    "# Step one - copy code from previous problem\n",
    "\n",
    "file_name = \"my_name.txt\"\n",
    "\n",
    "try:\n",
    "    with open(file_name, 'r') as file: # switched w to r from write to read\n",
    "        your_name = file.read()\n",
    "        print(f\"Your name is: {your_name}\")\n",
    "        \n",
    "# deleted pieces I won't use for this program\n",
    "\n",
    "except IOError as e:\n",
    "    print(\"An error occured.\")"
   ]
  },
  {
   "cell_type": "markdown",
   "id": "6d5a87fa",
   "metadata": {},
   "source": [
    "# Programming Exercise 1\n",
    "1. File Display\n",
    "Assume a file containing a series of integers is named numbers.txt and exists on the computer’s disk. Write a program that displays all of the numbers in the file"
   ]
  },
  {
   "cell_type": "code",
   "execution_count": 12,
   "id": "3e649e25",
   "metadata": {},
   "outputs": [
    {
     "name": "stdout",
     "output_type": "stream",
     "text": [
      "An error occured: [Errno 2] No such file or directory: 'numbers.txt'\n"
     ]
    }
   ],
   "source": [
    "# step one - open file in read mode\n",
    "\n",
    "file_name = \"numbers.txt\"\n",
    "\n",
    "# step 2 use a with statement to read and display each number in the file\n",
    "\n",
    "try:\n",
    "    with open(file_name, 'r') as file:\n",
    "        for line in file:\n",
    "            print(line)\n",
    "\n",
    "# step three - close the file\n",
    "\n",
    "# put in except IOError statement\n",
    "\n",
    "except IOError as e:\n",
    "    print(f\"An error occured: {str(e)}\") #ChatGPT helper on this print line"
   ]
  },
  {
   "cell_type": "markdown",
   "id": "694af34a",
   "metadata": {},
   "source": [
    "# Programming Exercise 3\n",
    "Write a program that asks the user for the name of a file. The program should display the\n",
    "contents of the file with each line preceded with a line number followed by a colon. The\n",
    "line numbering should start at 1."
   ]
  },
  {
   "cell_type": "code",
   "execution_count": 17,
   "id": "32149996",
   "metadata": {
    "scrolled": true
   },
   "outputs": [
    {
     "name": "stdout",
     "output_type": "stream",
     "text": [
      "Enter the name of the file: my_name.txt\n",
      "1: James Beutler\n"
     ]
    }
   ],
   "source": [
    "# step one - ask user for the name of the file\n",
    "\n",
    "file_name = input(\"Enter the name of the file: \")\n",
    "\n",
    "# step two - open the file in read mode\n",
    "\n",
    "try:\n",
    "    with open(file_name, 'r') as file:\n",
    "\n",
    "# step three - use a with statement to start a line counter, be sure to increment it, and read/display\n",
    "# each line with a corresponding line number\n",
    "\n",
    "        line_number = 1\n",
    "    \n",
    "        for line in file:\n",
    "            print(f\"{line_number}: {line}\")\n",
    "            line_number += 1\n",
    "\n",
    "# step four - print line number and content\n",
    "\n",
    "# step five - error messages\n",
    "except IOError as e:\n",
    "    print(f\"An error occured: {str(e)}\")"
   ]
  },
  {
   "cell_type": "markdown",
   "id": "356ee19b",
   "metadata": {},
   "source": [
    "# Programming Problem 6\n",
    "Assume a file containing a series of integers is named numbers.txt and exists on the\n",
    "computer’s disk. Write a program that calculates the average of all the numbers stored in\n",
    "the file."
   ]
  },
  {
   "cell_type": "code",
   "execution_count": 20,
   "id": "79ab4b4d",
   "metadata": {},
   "outputs": [
    {
     "name": "stdout",
     "output_type": "stream",
     "text": [
      "An error occured: [Errno 2] No such file or directory: 'numbers.txt'\n"
     ]
    }
   ],
   "source": [
    "# step one - open file in read mode\n",
    "\n",
    "file_name = \"numbers.txt\"\n",
    "\n",
    "# step two - need to use a with statement to read and add up each number in file\n",
    "# I'll need variables to track a running total and count to average with later.\n",
    "\n",
    "try:\n",
    "    with open(file_name, 'r') as file:\n",
    "        total = 0\n",
    "        count = 0\n",
    "        \n",
    "        for line in file:\n",
    "            number = float(line)\n",
    "            total += number\n",
    "            count += 1\n",
    "            \n",
    "# step three - calculate the average  \n",
    "\n",
    "        if count > 0:\n",
    "            average = total / count\n",
    "            print(f\"The average of the numbers is: {average}\")\n",
    "        else:\n",
    "            print(\"No valid numbers found in your file\")\n",
    "\n",
    "# step four - print the average and add except IOError statement.\n",
    "\n",
    "except IOError as e:\n",
    "    print(f\"An error occured: {str(e)}\")"
   ]
  },
  {
   "cell_type": "markdown",
   "id": "1c636dfe",
   "metadata": {},
   "source": [
    "# Programming Exercise 9\n",
    "Modify the program that you wrote for Exercise 6 so it handles the following exceptions:\n",
    "• It should handle any IOError exceptions that are raised when the file is opened and data\n",
    "is read from it.\n",
    "• It should handle any ValueError exceptions that are raised when the items that are read\n",
    "from the file are converted to a number."
   ]
  },
  {
   "cell_type": "code",
   "execution_count": null,
   "id": "ff9ad7fd",
   "metadata": {},
   "outputs": [],
   "source": [
    "file_name = \"numbers.txt\"\n",
    "\n",
    "try:\n",
    "    with open(file_name, 'r') as file:\n",
    "        total = 0\n",
    "        count = 0\n",
    "        \n",
    "        for line in file:\n",
    "            try:\n",
    "                number = float(line)\n",
    "                total += number\n",
    "                count += 1 \n",
    "            except:\n",
    "        if count > 0:\n",
    "            average = total / count\n",
    "            print(f\"The average of the numbers is: {average}\")\n",
    "        else:\n",
    "            print(\"No valid numbers found in your file\")\n",
    "\n",
    "except IOError as e:\n",
    "    print(f\"An error occured: {str(e)}\")"
   ]
  }
 ],
 "metadata": {
  "kernelspec": {
   "display_name": "Python 3 (ipykernel)",
   "language": "python",
   "name": "python3"
  },
  "language_info": {
   "codemirror_mode": {
    "name": "ipython",
    "version": 3
   },
   "file_extension": ".py",
   "mimetype": "text/x-python",
   "name": "python",
   "nbconvert_exporter": "python",
   "pygments_lexer": "ipython3",
   "version": "3.11.4"
  }
 },
 "nbformat": 4,
 "nbformat_minor": 5
}
