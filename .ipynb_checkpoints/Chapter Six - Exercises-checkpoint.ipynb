{
 "cells": [
  {
   "cell_type": "markdown",
   "id": "efb0ca57",
   "metadata": {},
   "source": [
    "# Chapter Six Exercises\n",
    "Alg workbench - any 2\n",
    "Prog exercises 1, 6, 9, and ?"
   ]
  },
  {
   "cell_type": "markdown",
   "id": "01c45db3",
   "metadata": {},
   "source": [
    "# Algorithm Workbench - Problem 1\n",
    "Write a program that opens an output file with the filename my_name.txt, writes your\n",
    "name to the file, then closes the file."
   ]
  },
  {
   "cell_type": "code",
   "execution_count": 7,
   "id": "101f54cf",
   "metadata": {},
   "outputs": [
    {
     "name": "stdout",
     "output_type": "stream",
     "text": [
      "Your name is now written to my_name.txt\n"
     ]
    }
   ],
   "source": [
    "# Step one - Open file\n",
    "\n",
    "file_name = \"my_name.txt\"\n",
    "\n",
    "# Step two - Write name, to file\n",
    "\n",
    "try:\n",
    "    with open(file_name, 'w') as file:\n",
    "        your_name = \"James Beutler\"\n",
    "        file.write(your_name)\n",
    "        \n",
    "# Step three - Close file\n",
    "\n",
    "    print(f\"Your name is now written to {file_name}\")\n",
    "\n",
    "except IOError as e:\n",
    "    print(\"An error occured.\")"
   ]
  },
  {
   "cell_type": "markdown",
   "id": "f6b2e4ca",
   "metadata": {},
   "source": [
    "# Alg WB Problem 2\n",
    "Write a program that opens the my_name.txt file that was created by the program\n",
    "in problem 1, reads your name from the file, displays the name on the screen, then\n",
    "closes the file."
   ]
  },
  {
   "cell_type": "code",
   "execution_count": 8,
   "id": "6a529164",
   "metadata": {},
   "outputs": [
    {
     "name": "stdout",
     "output_type": "stream",
     "text": [
      "Your name is: James Beutler\n"
     ]
    }
   ],
   "source": [
    "# Step one - copy code from previous problem\n",
    "\n",
    "file_name = \"my_name.txt\"\n",
    "\n",
    "try:\n",
    "    with open(file_name, 'r') as file: # switched w to r from write to read\n",
    "        your_name = file.read()\n",
    "        print(f\"Your name is: {your_name}\")\n",
    "        \n",
    "# deleted pieces I won't use for this program\n",
    "\n",
    "except IOError as e:\n",
    "    print(\"An error occured.\")"
   ]
  },
  {
   "cell_type": "markdown",
   "id": "09d698b5",
   "metadata": {},
   "source": [
    "# Programming Exercise 1\n",
    "1. File Display\n",
    "Assume a file containing a series of integers is named numbers.txt and exists on the computer’s disk. Write a program that displays all of the numbers in the file"
   ]
  },
  {
   "cell_type": "code",
   "execution_count": null,
   "id": "f1715314",
   "metadata": {},
   "outputs": [],
   "source": [
    "# step one - open file in read mode\n",
    "\n",
    "file_name = \"numbers.txt\"\n",
    "\n",
    "# step 2 use a with statement to read and display each number in the file\n",
    "\n",
    "try\n",
    "    with oepn(file_name, 'r') as file:\n",
    "\n",
    "# step three - close the file\n",
    "\n",
    "# put in except IOError statement\n",
    "\n",
    "except IOError as e:\n",
    "    print(\"An error has occured.\")"
   ]
  }
 ],
 "metadata": {
  "kernelspec": {
   "display_name": "Python 3 (ipykernel)",
   "language": "python",
   "name": "python3"
  },
  "language_info": {
   "codemirror_mode": {
    "name": "ipython",
    "version": 3
   },
   "file_extension": ".py",
   "mimetype": "text/x-python",
   "name": "python",
   "nbconvert_exporter": "python",
   "pygments_lexer": "ipython3",
   "version": "3.11.4"
  }
 },
 "nbformat": 4,
 "nbformat_minor": 5
}
