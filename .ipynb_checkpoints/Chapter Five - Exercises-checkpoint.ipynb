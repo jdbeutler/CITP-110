{
 "cells": [
  {
   "cell_type": "markdown",
   "id": "a9398d48",
   "metadata": {},
   "source": [
    "# Chapter Five Exercises\n",
    "Workbench 2 problems, exercises 1, 17, 18, and ?"
   ]
  },
  {
   "cell_type": "code",
   "execution_count": null,
   "id": "26c532f6",
   "metadata": {},
   "outputs": [],
   "source": [
    "# Alg workbench problem 1\n",
    "# Write a function named times_ten. The function should accept an argument and\n",
    "# display the product of its argument multiplied times 10."
   ]
  },
  {
   "cell_type": "code",
   "execution_count": 3,
   "id": "5b5314d2",
   "metadata": {},
   "outputs": [
    {
     "name": "stdout",
     "output_type": "stream",
     "text": [
      "Enter a number: 4\n",
      "Result: 40.0\n"
     ]
    }
   ],
   "source": [
    "# Step one - define function\n",
    "\n",
    "def ten_times():\n",
    "    \n",
    "# Step two - get a value from the user\n",
    "\n",
    "    user_input = input(\"Enter a number: \")\n",
    "    \n",
    "# Step three - convert number to a float from a string\n",
    "\n",
    "    user_number = float(user_input)\n",
    "\n",
    "# Step four - do the math\n",
    "\n",
    "    result = user_number * 10\n",
    "\n",
    "# Step five - print result\n",
    "\n",
    "    print(\"Result:\", result) #ChatGPT caught this error for me\n",
    "    \n",
    "# Step six - call the function\n",
    "\n",
    "ten_times()"
   ]
  },
  {
   "cell_type": "markdown",
   "id": "a743f7f0",
   "metadata": {},
   "source": [
    "# Alg Workbench problem 2"
   ]
  },
  {
   "cell_type": "code",
   "execution_count": 4,
   "id": "ad694a1f",
   "metadata": {},
   "outputs": [],
   "source": [
    "# Examine the following function header, then write a statement that calls the function,\n",
    "# passing 12 as an argument.\n",
    "# def show_value(quantity):"
   ]
  },
  {
   "cell_type": "code",
   "execution_count": 6,
   "id": "6b75391b",
   "metadata": {},
   "outputs": [
    {
     "ename": "SyntaxError",
     "evalue": "expected ':' (2979080617.py, line 3)",
     "output_type": "error",
     "traceback": [
      "\u001b[1;36m  Cell \u001b[1;32mIn[6], line 3\u001b[1;36m\u001b[0m\n\u001b[1;33m    def show_value()\u001b[0m\n\u001b[1;37m                    ^\u001b[0m\n\u001b[1;31mSyntaxError\u001b[0m\u001b[1;31m:\u001b[0m expected ':'\n"
     ]
    }
   ],
   "source": [
    "# Step one - define function header\n",
    "\n",
    "def show_value()\n",
    "\n",
    "# Step two - call the function w/ an argument\n",
    "\n",
    "show_value(12)"
   ]
  },
  {
   "cell_type": "code",
   "execution_count": null,
   "id": "de7b41ff",
   "metadata": {},
   "outputs": [],
   "source": []
  }
 ],
 "metadata": {
  "kernelspec": {
   "display_name": "Python 3 (ipykernel)",
   "language": "python",
   "name": "python3"
  },
  "language_info": {
   "codemirror_mode": {
    "name": "ipython",
    "version": 3
   },
   "file_extension": ".py",
   "mimetype": "text/x-python",
   "name": "python",
   "nbconvert_exporter": "python",
   "pygments_lexer": "ipython3",
   "version": "3.11.4"
  }
 },
 "nbformat": 4,
 "nbformat_minor": 5
}
