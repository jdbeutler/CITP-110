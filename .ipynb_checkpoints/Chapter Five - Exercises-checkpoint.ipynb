{
 "cells": [
  {
   "cell_type": "markdown",
   "id": "e086f38d",
   "metadata": {},
   "source": [
    "# Chapter Five Exercises\n",
    "Workbench 2 problems 1 and 2, exercises 1, 3, 17, 18"
   ]
  },
  {
   "cell_type": "code",
   "execution_count": null,
   "id": "81569b05",
   "metadata": {},
   "outputs": [],
   "source": [
    "# Alg workbench problem 1\n",
    "# Write a function named times_ten. The function should accept an argument and\n",
    "# display the product of its argument multiplied times 10."
   ]
  },
  {
   "cell_type": "code",
   "execution_count": null,
   "id": "4ac0c687",
   "metadata": {},
   "outputs": [],
   "source": [
    "# Step one - define function\n",
    "\n",
    "def ten_times():\n",
    "    \n",
    "# Step two - get a value from the user\n",
    "\n",
    "    user_input = input(\"Enter a number: \")\n",
    "    \n",
    "# Step three - convert number to a float from a string\n",
    "\n",
    "    user_number = float(user_input)\n",
    "\n",
    "# Step four - do the math\n",
    "\n",
    "    result = user_number * 10\n",
    "\n",
    "# Step five - print result\n",
    "\n",
    "    print(\"Result:\", result) #ChatGPT caught this error for me\n",
    "    \n",
    "# Step six - call the function\n",
    "\n",
    "ten_times()"
   ]
  },
  {
   "cell_type": "markdown",
   "id": "5cdb0a94",
   "metadata": {},
   "source": [
    "# Alg Workbench problem 2"
   ]
  },
  {
   "cell_type": "code",
   "execution_count": null,
   "id": "e408562c",
   "metadata": {},
   "outputs": [],
   "source": [
    "# Examine the following function header, then write a statement that calls the function,\n",
    "# passing 12 as an argument.\n",
    "# def show_value(quantity):"
   ]
  },
  {
   "cell_type": "code",
   "execution_count": null,
   "id": "7751aed1",
   "metadata": {},
   "outputs": [],
   "source": [
    "# Step one - define function header\n",
    "\n",
    "def show_value(quantity):\n",
    "\n",
    "# Step two - call the function w/ an argument\n",
    "\n",
    "    show_value(12)\n",
    "    \n",
    "# This defines the function show_value, function code would define what I would\n",
    "# want to do with quantity"
   ]
  },
  {
   "cell_type": "markdown",
   "id": "187f2ecb",
   "metadata": {},
   "source": [
    "# Programming Exercise 1"
   ]
  },
  {
   "cell_type": "code",
   "execution_count": 1,
   "id": "b2da8d86",
   "metadata": {},
   "outputs": [
    {
     "name": "stdout",
     "output_type": "stream",
     "text": [
      "Enter a distance in kilometers: 45\n",
      "45.0 km is equal to 27.962999999999997 miles.\n"
     ]
    }
   ],
   "source": [
    "# Step one - ask user to enter a distance in kilometers.\n",
    "\n",
    "kilometers = float(input(\"Enter a distance in kilometers: \"))\n",
    "\n",
    "# Step two - use the conversion formula to calculate distance in miles.\n",
    "\n",
    "miles = kilometers * 0.6214\n",
    "\n",
    "# Step three - display miles to user\n",
    "\n",
    "print(f\"{kilometers} km is equal to {miles} miles.\")\n",
    "\n",
    "# Wrong approach for this assignment type - but useful to help me work"
   ]
  },
  {
   "cell_type": "code",
   "execution_count": 7,
   "id": "6b2c73a7",
   "metadata": {
    "scrolled": true
   },
   "outputs": [
    {
     "name": "stdout",
     "output_type": "stream",
     "text": [
      "Enter a distance in kilometers: 66\n",
      "66.0 kilometers is equal to 41.0124 miles.\n"
     ]
    }
   ],
   "source": [
    "# Ask user for distance in km.\n",
    "\n",
    "def get_distance_in_km():\n",
    "    kilometers = float(input(\"Enter a distance in kilometers: \"))\n",
    "    return kilometers\n",
    "\n",
    "# Convert km to miles\n",
    "\n",
    "def km_to_miles(kilometers): #ChatGPT caught this - needed to pass kilometers variable as an argument.\n",
    "    miles = kilometers * 0.6214\n",
    "    return miles\n",
    "    \n",
    "# Display converted distance in miles\n",
    "\n",
    "def the_output():\n",
    "    kilometers = get_distance_in_km()\n",
    "    miles = km_to_miles(kilometers) #same issue as above - fixed\n",
    "    print(f\"{kilometers} kilometers is equal to {miles} miles.\")\n",
    "    \n",
    "# Call the function\n",
    "\n",
    "the_output()"
   ]
  },
  {
   "cell_type": "markdown",
   "id": "d0e9f7e4",
   "metadata": {},
   "source": [
    "# Programming Exercise - 3\n",
    "How much Insurance?\n",
    "Many financial experts advise that property owners should insure their homes or buildings\n",
    "for at least 80 percent of the amount it would cost to replace the structure. Write a program\n",
    "that asks the user to enter the replacement cost of a building, then displays the minimum\n",
    "amount of insurance he or she should buy for the property."
   ]
  },
  {
   "cell_type": "code",
   "execution_count": 9,
   "id": "bdabe099",
   "metadata": {},
   "outputs": [
    {
     "name": "stdout",
     "output_type": "stream",
     "text": [
      "Enter the replacement cost of the building: 500000\n",
      "You should buy at least $400000.00 in insurance for your property\n"
     ]
    }
   ],
   "source": [
    "# Step one - build the function to calculate insurance based on replacement cost\n",
    "\n",
    "def calculate_insurance():\n",
    "    minimum_coverage = .8 * replacement_cost\n",
    "    return minimum_coverage\n",
    "\n",
    "# Step two - get the replacement cost from user\n",
    "\n",
    "replacement_cost = float(input(\"Enter the replacement cost of the building: \"))\n",
    "\n",
    "# Step three - calculate the minimum insurance coverage\n",
    "\n",
    "min_insurance = calculate_insurance()\n",
    "\n",
    "# Step four - display the result\n",
    "\n",
    "print(f\"You should buy at least ${min_insurance:.2f} in insurance for your property\")"
   ]
  },
  {
   "cell_type": "markdown",
   "id": "a5669c3f",
   "metadata": {},
   "source": [
    "# Programming Problem 17\n",
    "A prime number is a number that is only evenly divisible by itself and 1. For example, the\n",
    "number 5 is prime because it can only be evenly divided by 1 and 5. The number 6, however, is not prime because it can be divided evenly by 1, 2, 3, and 6.\n",
    "Write a Boolean function named is_prime which takes an integer as an argument and\n",
    "returns true if the argument is a prime number, or false otherwise. Use the function in\n",
    "a program that prompts the user to enter a number then displays a message indicating\n",
    "whether the number is prime.\n",
    "TIP: Recall that the % operator divides one number by another and returns the\n",
    "remainder of the division. In an expression such as num1 % num2, the % operator will\n",
    "return 0 if num1 is evenly divisible by num2."
   ]
  },
  {
   "cell_type": "code",
   "execution_count": 20,
   "id": "ad0c0c9b",
   "metadata": {},
   "outputs": [
    {
     "name": "stdout",
     "output_type": "stream",
     "text": [
      "Enter a number: 15\n",
      "15 is not a prime number.\n"
     ]
    }
   ],
   "source": [
    "# Step one - define a function that checks if a number is prime.  0 and 1 are not\n",
    "# prime numbers, 2 is prime, even numbers greater than 2 are not prime.\n",
    "\n",
    "def is_prime(num):\n",
    "    if num <= 1: # 1 or anything less is not a prime number\n",
    "        return False\n",
    "    elif num == 2: # 2 is the only even number that is prime\n",
    "        return True\n",
    "    elif num % 2 == 0:\n",
    "        return False\n",
    "    # num % 2 == 0 will eliminate all even numbers.\n",
    "\n",
    "    for i in range (3, int(num**0.5) +1, 2):\n",
    "        if num % i == 0:\n",
    "            return False\n",
    "    \n",
    "    return True # if no divisors found, the num is prime\n",
    "    \n",
    "# Used ChatGPT to help create this loop since we only need to check numbers up to the square\n",
    "# root of the input number.  The 2 at the end increments so we skip even numbers\n",
    "# and continue to only check odd\n",
    "\n",
    "# Step two - use a for loop to check for divisibility of the number starting from 3\n",
    "# and up to the square root of that number.  This needs to iterate only with odd numbers\n",
    "# If the number is divisible by any number in this range, it's not a prime number.\n",
    "\n",
    "# Step three - if the loop completes without finding a number it can be divided by, it's\n",
    "# a prime number.\n",
    "\n",
    "# Step four - get user input for a number to check\n",
    "\n",
    "user_input = input(\"Enter a number: \")\n",
    "\n",
    "# Step five - call the function above to check if a number is prime.\n",
    "\n",
    "try:\n",
    "    num = int(user_input) #converting to int here instead\n",
    "    if is_prime(num):\n",
    "        print(f\"{num} is a prime number.\")\n",
    "    else:\n",
    "        print(f\"{num} is not a prime number.\")\n",
    "except ValueError:\n",
    "    print(\"Invalid input - please enter a valid integer.\")\n",
    "# ChatGPT catch - didn't have this except valueerror in my code.\n"
   ]
  },
  {
   "cell_type": "code",
   "execution_count": null,
   "id": "69230a2e",
   "metadata": {},
   "outputs": [],
   "source": []
  }
 ],
 "metadata": {
  "kernelspec": {
   "display_name": "Python 3 (ipykernel)",
   "language": "python",
   "name": "python3"
  },
  "language_info": {
   "codemirror_mode": {
    "name": "ipython",
    "version": 3
   },
   "file_extension": ".py",
   "mimetype": "text/x-python",
   "name": "python",
   "nbconvert_exporter": "python",
   "pygments_lexer": "ipython3",
   "version": "3.11.4"
  }
 },
 "nbformat": 4,
 "nbformat_minor": 5
}
