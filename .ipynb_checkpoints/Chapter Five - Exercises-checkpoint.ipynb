{
 "cells": [
  {
   "cell_type": "markdown",
   "id": "a80547d9",
   "metadata": {},
   "source": [
    "# Chapter Five Exercises\n",
    "Workbench 2 problems, exercises 1, 17, 18, and ?"
   ]
  },
  {
   "cell_type": "code",
   "execution_count": null,
   "id": "7a77f40f",
   "metadata": {},
   "outputs": [],
   "source": [
    "# Alg workbench problem 1\n",
    "# Write a function named times_ten. The function should accept an argument and\n",
    "# display the product of its argument multiplied times 10."
   ]
  },
  {
   "cell_type": "code",
   "execution_count": 3,
   "id": "5d668866",
   "metadata": {},
   "outputs": [
    {
     "name": "stdout",
     "output_type": "stream",
     "text": [
      "Enter a number: 4\n",
      "Result: 40.0\n"
     ]
    }
   ],
   "source": [
    "# Step one - define function\n",
    "\n",
    "def ten_times():\n",
    "    \n",
    "# Step two - get a value from the user\n",
    "\n",
    "    user_input = input(\"Enter a number: \")\n",
    "    \n",
    "# Step three - convert number to a float from a string\n",
    "\n",
    "    user_number = float(user_input)\n",
    "\n",
    "# Step four - do the math\n",
    "\n",
    "    result = user_number * 10\n",
    "\n",
    "# Step five - print result\n",
    "\n",
    "    print(\"Result:\", result) #ChatGPT caught this error for me\n",
    "    \n",
    "# Step six - call the function\n",
    "\n",
    "ten_times()"
   ]
  },
  {
   "cell_type": "markdown",
   "id": "ffd19362",
   "metadata": {},
   "source": [
    "# Alg Workbench problem 2"
   ]
  },
  {
   "cell_type": "code",
   "execution_count": 4,
   "id": "226a8fbe",
   "metadata": {},
   "outputs": [],
   "source": [
    "# Examine the following function header, then write a statement that calls the function,\n",
    "# passing 12 as an argument.\n",
    "# def show_value(quantity):"
   ]
  },
  {
   "cell_type": "code",
   "execution_count": 5,
   "id": "e0d05915",
   "metadata": {},
   "outputs": [
    {
     "ename": "NameError",
     "evalue": "name 'show_value' is not defined",
     "output_type": "error",
     "traceback": [
      "\u001b[1;31m---------------------------------------------------------------------------\u001b[0m",
      "\u001b[1;31mNameError\u001b[0m                                 Traceback (most recent call last)",
      "Cell \u001b[1;32mIn[5], line 3\u001b[0m\n\u001b[0;32m      1\u001b[0m \u001b[38;5;66;03m# Step one - define function header\u001b[39;00m\n\u001b[1;32m----> 3\u001b[0m show_value()\n\u001b[0;32m      5\u001b[0m \u001b[38;5;66;03m# Step two - call the function w/ an argument\u001b[39;00m\n\u001b[0;32m      7\u001b[0m show_value(\u001b[38;5;241m12\u001b[39m)\n",
      "\u001b[1;31mNameError\u001b[0m: name 'show_value' is not defined"
     ]
    }
   ],
   "source": [
    "# Step one - define function header\n",
    "\n",
    "show_value()\n",
    "\n",
    "# Step two - call the function w/ an argument\n",
    "\n",
    "show_value(12)"
   ]
  },
  {
   "cell_type": "code",
   "execution_count": null,
   "id": "587aa663",
   "metadata": {},
   "outputs": [],
   "source": []
  }
 ],
 "metadata": {
  "kernelspec": {
   "display_name": "Python 3 (ipykernel)",
   "language": "python",
   "name": "python3"
  },
  "language_info": {
   "codemirror_mode": {
    "name": "ipython",
    "version": 3
   },
   "file_extension": ".py",
   "mimetype": "text/x-python",
   "name": "python",
   "nbconvert_exporter": "python",
   "pygments_lexer": "ipython3",
   "version": "3.11.4"
  }
 },
 "nbformat": 4,
 "nbformat_minor": 5
}
