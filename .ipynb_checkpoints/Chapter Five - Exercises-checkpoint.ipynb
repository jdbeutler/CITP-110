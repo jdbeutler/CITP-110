{
 "cells": [
  {
   "cell_type": "markdown",
   "id": "ceda240f",
   "metadata": {},
   "source": [
    "# Chapter Five Exercises\n",
    "Workbench 2 problems, exercises 1, 17, 18, and ?"
   ]
  },
  {
   "cell_type": "code",
   "execution_count": null,
   "id": "fdf10293",
   "metadata": {},
   "outputs": [],
   "source": [
    "# Alg workbench problem 1\n",
    "# Write a function named times_ten. The function should accept an argument and\n",
    "# display the product of its argument multiplied times 10."
   ]
  },
  {
   "cell_type": "code",
   "execution_count": null,
   "id": "303e5db2",
   "metadata": {},
   "outputs": [],
   "source": [
    "# Step one - define function\n",
    "\n",
    "def ten_times():\n",
    "    \n",
    "# Step two - get a value from the user\n",
    "\n",
    "    user_input = input(\"Enter a number: \")\n",
    "    \n",
    "# Step three - convert number to a float from a string\n",
    "\n",
    "    user_number = float(user_input)\n",
    "\n",
    "# Step four - do the math\n",
    "\n",
    "    result = user_number * 10\n",
    "\n",
    "# Step five - print result\n",
    "\n",
    "    print(\"Result:\", result) #ChatGPT caught this error for me\n",
    "    \n",
    "# Step six - call the function\n",
    "\n",
    "ten_times()"
   ]
  },
  {
   "cell_type": "markdown",
   "id": "6db458b1",
   "metadata": {},
   "source": [
    "# Alg Workbench problem 2"
   ]
  },
  {
   "cell_type": "code",
   "execution_count": null,
   "id": "2cc89790",
   "metadata": {},
   "outputs": [],
   "source": [
    "# Examine the following function header, then write a statement that calls the function,\n",
    "# passing 12 as an argument.\n",
    "# def show_value(quantity):"
   ]
  },
  {
   "cell_type": "code",
   "execution_count": null,
   "id": "7ed8cd05",
   "metadata": {},
   "outputs": [],
   "source": [
    "# Step one - define function header\n",
    "\n",
    "def show_value(quantity):\n",
    "\n",
    "# Step two - call the function w/ an argument\n",
    "\n",
    "    show_value(12)\n",
    "    \n",
    "# This defines the function show_value, function code would define what I would\n",
    "# want to do with quantity"
   ]
  },
  {
   "cell_type": "markdown",
   "id": "de1bc02d",
   "metadata": {},
   "source": [
    "# Programming Exercise 1"
   ]
  },
  {
   "cell_type": "code",
   "execution_count": 1,
   "id": "7c05dffb",
   "metadata": {},
   "outputs": [
    {
     "name": "stdout",
     "output_type": "stream",
     "text": [
      "Enter a distance in kilometers: 45\n",
      "45.0 km is equal to 27.962999999999997 miles.\n"
     ]
    }
   ],
   "source": [
    "# Step one - ask user to enter a distance in kilometers.\n",
    "\n",
    "kilometers = float(input(\"Enter a distance in kilometers: \"))\n",
    "\n",
    "# Step two - use the conversion formula to calculate distance in miles.\n",
    "\n",
    "miles = kilometers * 0.6214\n",
    "\n",
    "# Step three - display miles to user\n",
    "\n",
    "print(f\"{kilometers} km is equal to {miles} miles.\")"
   ]
  },
  {
   "cell_type": "code",
   "execution_count": 3,
   "id": "037677ce",
   "metadata": {},
   "outputs": [],
   "source": [
    "# Ask user for distance in km.\n",
    "\n",
    "def get_distance_in_km():\n",
    "    kilometers = float(input(\"Enter a distance in kilometers: \"))\n",
    "    return kilometers\n",
    "\n",
    "# Convert km to miles\n",
    "\n",
    "def km_to_miles():\n",
    "    miles = kilometers * 0.6214\n",
    "    return miles\n",
    "    \n",
    "# Display converted distance in miles\n",
    "\n",
    "def the_output():\n",
    "    kilometers = get_distance_in_km()\n",
    "    miles = km_to_miles()\n",
    "    print(f\"{kilometers} kilometers is equal to {miles} miles.\")"
   ]
  },
  {
   "cell_type": "code",
   "execution_count": null,
   "id": "c9e081b5",
   "metadata": {},
   "outputs": [],
   "source": []
  }
 ],
 "metadata": {
  "kernelspec": {
   "display_name": "Python 3 (ipykernel)",
   "language": "python",
   "name": "python3"
  },
  "language_info": {
   "codemirror_mode": {
    "name": "ipython",
    "version": 3
   },
   "file_extension": ".py",
   "mimetype": "text/x-python",
   "name": "python",
   "nbconvert_exporter": "python",
   "pygments_lexer": "ipython3",
   "version": "3.11.4"
  }
 },
 "nbformat": 4,
 "nbformat_minor": 5
}
