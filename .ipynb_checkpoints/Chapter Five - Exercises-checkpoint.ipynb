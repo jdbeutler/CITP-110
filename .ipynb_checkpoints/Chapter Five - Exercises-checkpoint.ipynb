{
 "cells": [
  {
   "cell_type": "markdown",
   "id": "900f2b64",
   "metadata": {},
   "source": [
    "# Chapter Five Exercises\n",
    "Workbench 2 problems, exercises 1, 17, 18, and ?"
   ]
  },
  {
   "cell_type": "code",
   "execution_count": null,
   "id": "39b86f1e",
   "metadata": {},
   "outputs": [],
   "source": [
    "# Alg workbench problem 1\n",
    "# Write a function named times_ten. The function should accept an argument and\n",
    "# display the product of its argument multiplied times 10."
   ]
  },
  {
   "cell_type": "code",
   "execution_count": null,
   "id": "89405994",
   "metadata": {},
   "outputs": [],
   "source": [
    "# Step one - define function\n",
    "\n",
    "def ten_times():\n",
    "    \n",
    "# Step two - get a value from the user\n",
    "\n",
    "    user_input = input(\"Enter a number: \")\n",
    "    \n",
    "# Step three - convert number to a float from a string\n",
    "\n",
    "    user_number = float(user_input)\n",
    "\n",
    "# Step four - do the math\n",
    "\n",
    "    result = user_number * 10\n",
    "\n",
    "# Step five - print result\n",
    "\n",
    "    print(\"Result:\", result) #ChatGPT caught this error for me\n",
    "    \n",
    "# Step six - call the function\n",
    "\n",
    "ten_times()"
   ]
  },
  {
   "cell_type": "markdown",
   "id": "6e4e56ec",
   "metadata": {},
   "source": [
    "# Alg Workbench problem 2"
   ]
  },
  {
   "cell_type": "code",
   "execution_count": null,
   "id": "7ea220cd",
   "metadata": {},
   "outputs": [],
   "source": [
    "# Examine the following function header, then write a statement that calls the function,\n",
    "# passing 12 as an argument.\n",
    "# def show_value(quantity):"
   ]
  },
  {
   "cell_type": "code",
   "execution_count": null,
   "id": "dddb9a7b",
   "metadata": {},
   "outputs": [],
   "source": [
    "# Step one - define function header\n",
    "\n",
    "def show_value(quantity):\n",
    "\n",
    "# Step two - call the function w/ an argument\n",
    "\n",
    "    show_value(12)\n",
    "    \n",
    "# This defines the function show_value, function code would define what I would\n",
    "# want to do with quantity"
   ]
  },
  {
   "cell_type": "markdown",
   "id": "697dbffc",
   "metadata": {},
   "source": [
    "# Programming Exercise 1"
   ]
  },
  {
   "cell_type": "code",
   "execution_count": 1,
   "id": "720fb32a",
   "metadata": {},
   "outputs": [
    {
     "name": "stdout",
     "output_type": "stream",
     "text": [
      "Enter a distance in kilometers: 45\n",
      "45.0 km is equal to 27.962999999999997 miles.\n"
     ]
    }
   ],
   "source": [
    "# Step one - ask user to enter a distance in kilometers.\n",
    "\n",
    "kilometers = float(input(\"Enter a distance in kilometers: \"))\n",
    "\n",
    "# Step two - use the conversion formula to calculate distance in miles.\n",
    "\n",
    "miles = kilometers * 0.6214\n",
    "\n",
    "# Step three - display miles to user\n",
    "\n",
    "print(f\"{kilometers} km is equal to {miles} miles.\")\n",
    "\n",
    "# Wrong approach for this assignment type - but useful to help me work"
   ]
  },
  {
   "cell_type": "code",
   "execution_count": 7,
   "id": "fb36cd5e",
   "metadata": {
    "scrolled": true
   },
   "outputs": [
    {
     "name": "stdout",
     "output_type": "stream",
     "text": [
      "Enter a distance in kilometers: 66\n",
      "66.0 kilometers is equal to 41.0124 miles.\n"
     ]
    }
   ],
   "source": [
    "# Ask user for distance in km.\n",
    "\n",
    "def get_distance_in_km():\n",
    "    kilometers = float(input(\"Enter a distance in kilometers: \"))\n",
    "    return kilometers\n",
    "\n",
    "# Convert km to miles\n",
    "\n",
    "def km_to_miles(kilometers): #ChatGPT caught this - needed to pass kilometers variable as an argument.\n",
    "    miles = kilometers * 0.6214\n",
    "    return miles\n",
    "    \n",
    "# Display converted distance in miles\n",
    "\n",
    "def the_output():\n",
    "    kilometers = get_distance_in_km()\n",
    "    miles = km_to_miles(kilometers) #same issue as above - fixed\n",
    "    print(f\"{kilometers} kilometers is equal to {miles} miles.\")\n",
    "    \n",
    "# Call the function\n",
    "\n",
    "the_output()"
   ]
  },
  {
   "cell_type": "markdown",
   "id": "dc338fe2",
   "metadata": {},
   "source": [
    "# Programming Exercise - 3\n",
    "How much Insurance?\n",
    "Many financial experts advise that property owners should insure their homes or buildings\n",
    "for at least 80 percent of the amount it would cost to replace the structure. Write a program\n",
    "that asks the user to enter the replacement cost of a building, then displays the minimum\n",
    "amount of insurance he or she should buy for the property."
   ]
  },
  {
   "cell_type": "code",
   "execution_count": 9,
   "id": "ee592561",
   "metadata": {},
   "outputs": [
    {
     "name": "stdout",
     "output_type": "stream",
     "text": [
      "Enter the replacement cost of the building: 500000\n",
      "You should buy at least $400000.00 in insurance for your property\n"
     ]
    }
   ],
   "source": [
    "# Step one - build the function to calculate insurance based on replacement cost\n",
    "\n",
    "def calculate_insurance():\n",
    "    minimum_coverage = .8 * replacement_cost\n",
    "    return minimum_coverage\n",
    "\n",
    "# Step two - get the replacement cost from user\n",
    "\n",
    "replacement_cost = float(input(\"Enter the replacement cost of the building: \"))\n",
    "\n",
    "# Step three - calculate the minimum insurance coverage\n",
    "\n",
    "min_insurance = calculate_insurance()\n",
    "\n",
    "# Step four - display the result\n",
    "\n",
    "print(f\"You should buy at least ${min_insurance:.2f} in insurance for your property\")"
   ]
  },
  {
   "cell_type": "code",
   "execution_count": null,
   "id": "2d6e11d0",
   "metadata": {},
   "outputs": [],
   "source": []
  }
 ],
 "metadata": {
  "kernelspec": {
   "display_name": "Python 3 (ipykernel)",
   "language": "python",
   "name": "python3"
  },
  "language_info": {
   "codemirror_mode": {
    "name": "ipython",
    "version": 3
   },
   "file_extension": ".py",
   "mimetype": "text/x-python",
   "name": "python",
   "nbconvert_exporter": "python",
   "pygments_lexer": "ipython3",
   "version": "3.11.4"
  }
 },
 "nbformat": 4,
 "nbformat_minor": 5
}
