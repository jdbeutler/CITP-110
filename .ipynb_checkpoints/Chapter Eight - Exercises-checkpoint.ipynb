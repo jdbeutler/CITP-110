{
 "cells": [
  {
   "cell_type": "markdown",
   "id": "99e60694",
   "metadata": {},
   "source": [
    "# Chapter 8 - Exercises\n",
    "Alg WB Problem 1"
   ]
  },
  {
   "cell_type": "markdown",
   "id": "3d214776",
   "metadata": {},
   "source": [
    "Assume choice references a string. The following if statement determines whether\n",
    "choice is equal to ‘Y’ or ‘y’:\n",
    "if choice == 'Y' or choice == 'y':\n",
    "Rewrite this statement so it only makes one comparison, and does not use the or\n",
    "operator. (Hint: use either the upper or lower methods.)"
   ]
  },
  {
   "cell_type": "code",
   "execution_count": null,
   "id": "4bbd455e",
   "metadata": {},
   "outputs": [],
   "source": [
    "# Going to use the upper() function to compare the input and see if it's true.\n",
    "\n",
    "if choice.upper () == 'Y':\n",
    "    \n",
    "# If the input was Y, it should report as true, if it isn't, it'll report as false."
   ]
  },
  {
   "cell_type": "markdown",
   "id": "30d5353b",
   "metadata": {},
   "source": [
    "# Alg WB problem 10\n",
    "Look at the following statement:\n",
    "mystring = 'cookies>milk>fudge>cake>ice cream'\n",
    "Write a statement that splits this string, creating the following list:\n",
    "['cookies', 'milk', 'fudge', 'cake', 'ice cream']"
   ]
  },
  {
   "cell_type": "code",
   "execution_count": null,
   "id": "4e18a27f",
   "metadata": {},
   "outputs": [],
   "source": [
    "# need to split this string with > as the delimiter"
   ]
  }
 ],
 "metadata": {
  "kernelspec": {
   "display_name": "Python 3 (ipykernel)",
   "language": "python",
   "name": "python3"
  },
  "language_info": {
   "codemirror_mode": {
    "name": "ipython",
    "version": 3
   },
   "file_extension": ".py",
   "mimetype": "text/x-python",
   "name": "python",
   "nbconvert_exporter": "python",
   "pygments_lexer": "ipython3",
   "version": "3.11.4"
  }
 },
 "nbformat": 4,
 "nbformat_minor": 5
}
