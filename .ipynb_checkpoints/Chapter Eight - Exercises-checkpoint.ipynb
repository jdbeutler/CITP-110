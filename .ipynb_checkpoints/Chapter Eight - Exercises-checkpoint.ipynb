{
 "cells": [
  {
   "cell_type": "markdown",
   "id": "83bbd987",
   "metadata": {},
   "source": [
    "# Chapter 8 - Exercises\n",
    "Alg WB Problem 1"
   ]
  },
  {
   "cell_type": "markdown",
   "id": "4d6f65c9",
   "metadata": {},
   "source": [
    "Assume choice references a string. The following if statement determines whether\n",
    "choice is equal to ‘Y’ or ‘y’:\n",
    "if choice == 'Y' or choice == 'y':\n",
    "Rewrite this statement so it only makes one comparison, and does not use the or\n",
    "operator. (Hint: use either the upper or lower methods.)"
   ]
  },
  {
   "cell_type": "code",
   "execution_count": null,
   "id": "d3329e25",
   "metadata": {},
   "outputs": [],
   "source": [
    "# Going to use the upper() function to compare the input and see if it's true.\n",
    "\n",
    "if choice.upper () == 'Y':\n",
    "    \n",
    "# If the input was Y, it should report as true, if it isn't, it'll report as false."
   ]
  },
  {
   "cell_type": "markdown",
   "id": "8aca55ef",
   "metadata": {},
   "source": [
    "# Alg WB problem 10\n",
    "Look at the following statement:\n",
    "mystring = 'cookies>milk>fudge>cake>ice cream'\n",
    "Write a statement that splits this string, creating the following list:\n",
    "['cookies', 'milk', 'fudge', 'cake', 'ice cream']"
   ]
  },
  {
   "cell_type": "code",
   "execution_count": 2,
   "id": "50d5ca62",
   "metadata": {},
   "outputs": [
    {
     "name": "stdout",
     "output_type": "stream",
     "text": [
      "['cookies', 'milk', 'fudge', 'cake', 'ice cream']\n"
     ]
    }
   ],
   "source": [
    "# need to split this string with > as the delimiter\n",
    "\n",
    "mystring = \"cookies>milk>fudge>cake>ice cream\"\n",
    "\n",
    "snacklist = mystring.split('>')\n",
    "\n",
    "print(snacklist)"
   ]
  },
  {
   "cell_type": "markdown",
   "id": "1478c146",
   "metadata": {},
   "source": [
    "# Programming Exercise 1\n",
    "Write a program that gets a string containing a person’s first, middle, and last names, and\n",
    "displays their first, middle, and last initials. For example, if the user enters John William\n",
    "Smith, the program should display J. W. S."
   ]
  },
  {
   "cell_type": "code",
   "execution_count": 5,
   "id": "93b56783",
   "metadata": {},
   "outputs": [
    {
     "name": "stdout",
     "output_type": "stream",
     "text": [
      "Please enter your full name, including middle name: James David Beutler\n",
      "Your initials are: J.D.B\n"
     ]
    }
   ],
   "source": [
    "# Step one - get user input\n",
    "\n",
    "full_name = input(\"Please enter your full name, including middle name: \")\n",
    "\n",
    "# Step two - split the name string into individual names to breakdown\n",
    "\n",
    "names = full_name.split()\n",
    "\n",
    "# Step three - get the first initial of each name - need to use len to check number of elements in string.\n",
    "\n",
    "if len(names) != 3:\n",
    "    print(\"Please enter your first, middle, and last name.\")\n",
    "\n",
    "else:\n",
    "    first_initial = names[0][0]\n",
    "    middle_initial = names[1][0]\n",
    "    last_initial = names[2][0]\n",
    "    \n",
    "# Step four - display the initials\n",
    "\n",
    "print(f\"Your initials are: {first_initial}.{middle_initial}.{last_initial}\")"
   ]
  },
  {
   "cell_type": "markdown",
   "id": "b69601b6",
   "metadata": {},
   "source": [
    "# Programming Exercise 10\n",
    "Write a program that lets the user enter a string and displays the character that appears most\n",
    "frequently in the string."
   ]
  },
  {
   "cell_type": "code",
   "execution_count": 9,
   "id": "b986592b",
   "metadata": {},
   "outputs": [
    {
     "name": "stdout",
     "output_type": "stream",
     "text": [
      "Enter a word or phrase to reveal the most frequently used character: The Detroit Lions are going to win the NFC North and have a chance to go to the Super Bowl!\n",
      "The most frequent character is o with a count of 9.\n"
     ]
    }
   ],
   "source": [
    "# Step one - get input from user\n",
    "\n",
    "user_input = input(\"Enter a word or phrase to reveal the most frequently used character: \")\n",
    "\n",
    "# Step two - initialize variables to keep track of most frequent character\n",
    "\n",
    "most_freq_char = None # Set to none since this isn't known yet\n",
    "max_count = 0\n",
    "\n",
    "# Step three - iterate through all of the characters in the string and count occurences of each character\n",
    "\n",
    "for char in user_input:\n",
    "    if char != ' ':\n",
    "        char_count = user_input.count(char)\n",
    "    \n",
    "    if char_count > max_count:\n",
    "        most_freq_char = char\n",
    "        max_count = char_count\n",
    "# Step four - Display the result\n",
    "\n",
    "print(f\"The most frequent character is {most_freq_char} with a count of {max_count}.\")"
   ]
  },
  {
   "cell_type": "markdown",
   "id": "b5ab4d35",
   "metadata": {},
   "source": [
    "# Programming Exercise 2\n",
    "Write a program that asks the user to enter a series of single-digit numbers with nothing\n",
    "separating them. The program should display the sum of all the single digit numbers in the\n",
    "string. For example, if the user enters 2514, the method should return 12, which is the sum\n",
    "of 2, 5, 1, and 4"
   ]
  },
  {
   "cell_type": "code",
   "execution_count": 10,
   "id": "edb5f08c",
   "metadata": {},
   "outputs": [
    {
     "name": "stdout",
     "output_type": "stream",
     "text": [
      "Enter a string of single digit numbers: 51348\n"
     ]
    },
    {
     "ename": "NameError",
     "evalue": "name 'total_sum' is not defined",
     "output_type": "error",
     "traceback": [
      "\u001b[1;31m---------------------------------------------------------------------------\u001b[0m",
      "\u001b[1;31mNameError\u001b[0m                                 Traceback (most recent call last)",
      "Cell \u001b[1;32mIn[10], line 14\u001b[0m\n\u001b[0;32m     12\u001b[0m     \u001b[38;5;28;01mif\u001b[39;00m dig_char\u001b[38;5;241m.\u001b[39misdigit():\n\u001b[0;32m     13\u001b[0m         digit \u001b[38;5;241m=\u001b[39m \u001b[38;5;28mint\u001b[39m(dig_char) \u001b[38;5;66;03m#converting to integer\u001b[39;00m\n\u001b[1;32m---> 14\u001b[0m         total_sum \u001b[38;5;241m+\u001b[39m\u001b[38;5;241m=\u001b[39m digit\n\u001b[0;32m     16\u001b[0m \u001b[38;5;66;03m# Step four - check to ensure that the input is actually numbers - done above\u001b[39;00m\n\u001b[0;32m     17\u001b[0m \n\u001b[0;32m     18\u001b[0m \u001b[38;5;66;03m# Step five - print the result\u001b[39;00m\n\u001b[0;32m     20\u001b[0m \u001b[38;5;28mprint\u001b[39m(\u001b[38;5;124m\"\u001b[39m\u001b[38;5;124mThe sum of the single digit numbers is: \u001b[39m\u001b[38;5;132;01m{total_sum}\u001b[39;00m\u001b[38;5;124m\"\u001b[39m)\n",
      "\u001b[1;31mNameError\u001b[0m: name 'total_sum' is not defined"
     ]
    }
   ],
   "source": [
    "# Step one - initialize a variable to store the sum\n",
    "\n",
    "total_number = 0\n",
    "\n",
    "# Step two - Ask the user for a series of numbers\n",
    "\n",
    "the_input = input(\"Enter a string of single digit numbers: \")\n",
    "\n",
    "# Step three - Iterate through each character in the input\n",
    "\n",
    "for dig_char in the_input:\n",
    "    if dig_char.isdigit():\n",
    "        digit = int(dig_char) #converting to integer\n",
    "        total_sum += digit\n",
    "\n",
    "# Step four - check to ensure that the input is actually numbers - done above\n",
    "\n",
    "# Step five - print the result\n",
    "\n",
    "print(\"The sum of the single digit numbers is: {total_sum}\")"
   ]
  },
  {
   "cell_type": "code",
   "execution_count": null,
   "id": "6d12662a",
   "metadata": {},
   "outputs": [],
   "source": []
  }
 ],
 "metadata": {
  "kernelspec": {
   "display_name": "Python 3 (ipykernel)",
   "language": "python",
   "name": "python3"
  },
  "language_info": {
   "codemirror_mode": {
    "name": "ipython",
    "version": 3
   },
   "file_extension": ".py",
   "mimetype": "text/x-python",
   "name": "python",
   "nbconvert_exporter": "python",
   "pygments_lexer": "ipython3",
   "version": "3.11.4"
  }
 },
 "nbformat": 4,
 "nbformat_minor": 5
}
