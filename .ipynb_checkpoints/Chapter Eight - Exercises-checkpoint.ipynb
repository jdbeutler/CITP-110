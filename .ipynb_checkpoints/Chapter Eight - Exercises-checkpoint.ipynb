{
 "cells": [
  {
   "cell_type": "markdown",
   "id": "a9c4758f",
   "metadata": {},
   "source": [
    "# Chapter 8 - Exercises\n",
    "Alg WB Problem 1"
   ]
  },
  {
   "cell_type": "markdown",
   "id": "a5cbee5e",
   "metadata": {},
   "source": [
    "Assume choice references a string. The following if statement determines whether\n",
    "choice is equal to ‘Y’ or ‘y’:\n",
    "if choice == 'Y' or choice == 'y':\n",
    "Rewrite this statement so it only makes one comparison, and does not use the or\n",
    "operator. (Hint: use either the upper or lower methods.)"
   ]
  },
  {
   "cell_type": "code",
   "execution_count": null,
   "id": "d81bd633",
   "metadata": {},
   "outputs": [],
   "source": [
    "# Going to use the upper() function to compare the input and see if it's true.\n",
    "\n",
    "if choice.upper () == 'Y':\n",
    "    \n",
    "# If the input was Y, it should report as true, if it isn't, it'll report as false."
   ]
  },
  {
   "cell_type": "markdown",
   "id": "7c12671f",
   "metadata": {},
   "source": [
    "# Alg WB problem 10\n",
    "Look at the following statement:\n",
    "mystring = 'cookies>milk>fudge>cake>ice cream'\n",
    "Write a statement that splits this string, creating the following list:\n",
    "['cookies', 'milk', 'fudge', 'cake', 'ice cream']"
   ]
  },
  {
   "cell_type": "code",
   "execution_count": 2,
   "id": "f7c3ae3f",
   "metadata": {},
   "outputs": [
    {
     "name": "stdout",
     "output_type": "stream",
     "text": [
      "['cookies', 'milk', 'fudge', 'cake', 'ice cream']\n"
     ]
    }
   ],
   "source": [
    "# need to split this string with > as the delimiter\n",
    "\n",
    "mystring = \"cookies>milk>fudge>cake>ice cream\"\n",
    "\n",
    "snacklist = mystring.split('>')\n",
    "\n",
    "print(snacklist)"
   ]
  },
  {
   "cell_type": "markdown",
   "id": "14ca396b",
   "metadata": {},
   "source": [
    "# Programming Exercise 1\n",
    "Write a program that gets a string containing a person’s first, middle, and last names, and\n",
    "displays their first, middle, and last initials. For example, if the user enters John William\n",
    "Smith, the program should display J. W. S."
   ]
  },
  {
   "cell_type": "code",
   "execution_count": null,
   "id": "d235ddfb",
   "metadata": {},
   "outputs": [],
   "source": [
    "# Step one - get user input\n",
    "\n",
    "# Step two - split the name string into individual names to breakdown\n",
    "\n",
    "# Step three - get the first initial of each name\n",
    "\n",
    "# Step four - display the initials"
   ]
  }
 ],
 "metadata": {
  "kernelspec": {
   "display_name": "Python 3 (ipykernel)",
   "language": "python",
   "name": "python3"
  },
  "language_info": {
   "codemirror_mode": {
    "name": "ipython",
    "version": 3
   },
   "file_extension": ".py",
   "mimetype": "text/x-python",
   "name": "python",
   "nbconvert_exporter": "python",
   "pygments_lexer": "ipython3",
   "version": "3.11.4"
  }
 },
 "nbformat": 4,
 "nbformat_minor": 5
}
