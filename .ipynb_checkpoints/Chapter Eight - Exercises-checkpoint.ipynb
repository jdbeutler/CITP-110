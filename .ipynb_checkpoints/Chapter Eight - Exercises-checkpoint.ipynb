{
 "cells": [
  {
   "cell_type": "markdown",
   "id": "f88d1498",
   "metadata": {},
   "source": [
    "# Chapter 8 - Exercises\n",
    "Alg WB Problem 1"
   ]
  },
  {
   "cell_type": "markdown",
   "id": "27b76e85",
   "metadata": {},
   "source": [
    "Assume choice references a string. The following if statement determines whether\n",
    "choice is equal to ‘Y’ or ‘y’:\n",
    "if choice == 'Y' or choice == 'y':\n",
    "Rewrite this statement so it only makes one comparison, and does not use the or\n",
    "operator. (Hint: use either the upper or lower methods.)"
   ]
  },
  {
   "cell_type": "code",
   "execution_count": null,
   "id": "3c5f7d43",
   "metadata": {},
   "outputs": [],
   "source": [
    "# Going to use the upper() function to compare the input and see if it's true.\n",
    "\n",
    "if choice.upper () == 'Y':\n",
    "    \n",
    "# If the input was Y, it should report as true, if it isn't, it'll report as false."
   ]
  },
  {
   "cell_type": "markdown",
   "id": "3df439ab",
   "metadata": {},
   "source": [
    "# Alg WB problem 10\n",
    "Look at the following statement:\n",
    "mystring = 'cookies>milk>fudge>cake>ice cream'\n",
    "Write a statement that splits this string, creating the following list:\n",
    "['cookies', 'milk', 'fudge', 'cake', 'ice cream']"
   ]
  },
  {
   "cell_type": "code",
   "execution_count": 2,
   "id": "d0c8d1b4",
   "metadata": {},
   "outputs": [
    {
     "name": "stdout",
     "output_type": "stream",
     "text": [
      "['cookies', 'milk', 'fudge', 'cake', 'ice cream']\n"
     ]
    }
   ],
   "source": [
    "# need to split this string with > as the delimiter\n",
    "\n",
    "mystring = \"cookies>milk>fudge>cake>ice cream\"\n",
    "\n",
    "snacklist = mystring.split('>')\n",
    "\n",
    "print(snacklist)"
   ]
  },
  {
   "cell_type": "markdown",
   "id": "b67860f7",
   "metadata": {},
   "source": [
    "# Programming Exercise 1\n",
    "Write a program that gets a string containing a person’s first, middle, and last names, and\n",
    "displays their first, middle, and last initials. For example, if the user enters John William\n",
    "Smith, the program should display J. W. S."
   ]
  },
  {
   "cell_type": "code",
   "execution_count": 5,
   "id": "139ea885",
   "metadata": {},
   "outputs": [
    {
     "name": "stdout",
     "output_type": "stream",
     "text": [
      "Please enter your full name, including middle name: James David Beutler\n",
      "Your initials are: J.D.B\n"
     ]
    }
   ],
   "source": [
    "# Step one - get user input\n",
    "\n",
    "full_name = input(\"Please enter your full name, including middle name: \")\n",
    "\n",
    "# Step two - split the name string into individual names to breakdown\n",
    "\n",
    "names = full_name.split()\n",
    "\n",
    "# Step three - get the first initial of each name - need to use len to check number of elements in string.\n",
    "\n",
    "if len(names) != 3:\n",
    "    print(\"Please enter your first, middle, and last name.\")\n",
    "\n",
    "else:\n",
    "    first_initial = names[0][0]\n",
    "    middle_initial = names[1][0]\n",
    "    last_initial = names[2][0]\n",
    "    \n",
    "# Step four - display the initials\n",
    "\n",
    "print(f\"Your initials are: {first_initial}.{middle_initial}.{last_initial}\")"
   ]
  },
  {
   "cell_type": "markdown",
   "id": "02eda57d",
   "metadata": {},
   "source": [
    "# Programming Exercise 10\n",
    "Write a program that lets the user enter a string and displays the character that appears most\n",
    "frequently in the string."
   ]
  },
  {
   "cell_type": "code",
   "execution_count": 9,
   "id": "18d9fd7c",
   "metadata": {},
   "outputs": [
    {
     "name": "stdout",
     "output_type": "stream",
     "text": [
      "Enter a word or phrase to reveal the most frequently used character: The Detroit Lions are going to win the NFC North and have a chance to go to the Super Bowl!\n",
      "The most frequent character is o with a count of 9.\n"
     ]
    }
   ],
   "source": [
    "# Step one - get input from user\n",
    "\n",
    "user_input = input(\"Enter a word or phrase to reveal the most frequently used character: \")\n",
    "\n",
    "# Step two - initialize variables to keep track of most frequent character\n",
    "\n",
    "most_freq_char = None # Set to none since this isn't known yet\n",
    "max_count = 0\n",
    "\n",
    "# Step three - iterate through all of the characters in the string and count occurences of each character\n",
    "\n",
    "for char in user_input:\n",
    "    if char != ' ':\n",
    "        char_count = user_input.count(char)\n",
    "    \n",
    "    if char_count > max_count:\n",
    "        most_freq_char = char\n",
    "        max_count = char_count\n",
    "# Step four - Display the result\n",
    "\n",
    "print(f\"The most frequent character is {most_freq_char} with a count of {max_count}.\")"
   ]
  },
  {
   "cell_type": "markdown",
   "id": "ffe59a0e",
   "metadata": {},
   "source": [
    "# Programming Exercise 2\n",
    "Write a program that asks the user to enter a series of single-digit numbers with nothing\n",
    "separating them. The program should display the sum of all the single digit numbers in the\n",
    "string. For example, if the user enters 2514, the method should return 12, which is the sum\n",
    "of 2, 5, 1, and 4"
   ]
  },
  {
   "cell_type": "code",
   "execution_count": null,
   "id": "e4660ba2",
   "metadata": {},
   "outputs": [],
   "source": [
    "# Step one - initialize a variable to store the sum\n",
    "\n",
    "# Step two - Ask the user for a series of numbers\n",
    "\n",
    "# Step three - Iterate through each character in the input\n",
    "\n",
    "# Step four - check to ensure that the input is actually numbers\n",
    "\n",
    "# Step five - print the result"
   ]
  }
 ],
 "metadata": {
  "kernelspec": {
   "display_name": "Python 3 (ipykernel)",
   "language": "python",
   "name": "python3"
  },
  "language_info": {
   "codemirror_mode": {
    "name": "ipython",
    "version": 3
   },
   "file_extension": ".py",
   "mimetype": "text/x-python",
   "name": "python",
   "nbconvert_exporter": "python",
   "pygments_lexer": "ipython3",
   "version": "3.11.4"
  }
 },
 "nbformat": 4,
 "nbformat_minor": 5
}
