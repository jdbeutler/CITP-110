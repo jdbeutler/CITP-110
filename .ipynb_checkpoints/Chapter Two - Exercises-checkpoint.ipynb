{
 "cells": [
  {
   "cell_type": "code",
   "execution_count": 1,
   "id": "4a1acfcc",
   "metadata": {},
   "outputs": [],
   "source": [
    "# Chapter 2 Exercises"
   ]
  },
  {
   "cell_type": "code",
   "execution_count": 2,
   "id": "457f723e",
   "metadata": {},
   "outputs": [],
   "source": [
    "## Algorithm Workbench - Number 6\n",
    "\n",
    "## Write a Python statement that subtracts the variable down_payment from the\n",
    "## variable total and assigns the result to the variable due."
   ]
  },
  {
   "cell_type": "code",
   "execution_count": 3,
   "id": "77254379",
   "metadata": {},
   "outputs": [
    {
     "name": "stdout",
     "output_type": "stream",
     "text": [
      "4000\n"
     ]
    }
   ],
   "source": [
    "# Initializing Variables for total balance and down payment\n",
    "\n",
    "total_balance = 5000\n",
    "down_payment = 1000\n",
    "\n",
    "total_due = total_balance - down_payment\n",
    "\n",
    "# total_due is what my program should print. I've defined the variables above\n",
    "# so the math will produce the expected result.\n",
    "\n",
    "print(total_due)\n",
    "\n",
    "# Total due is a simple calculation starting with total balance and subtracting\n",
    "# the down payment to arrive at total due.  Originally made the mistake of\n",
    "# using quotes and turning total_due into a string instead calling the function."
   ]
  },
  {
   "cell_type": "code",
   "execution_count": 4,
   "id": "3e807c56",
   "metadata": {},
   "outputs": [],
   "source": [
    "## Programming Exercises - Number 3 - Land Calculation\n",
    "## One acre of land is equivelant to 43560 sq/ft.  Write a program that asks\n",
    "## a user to enter total square feet in a tract of land and calculates # of acres."
   ]
  },
  {
   "cell_type": "code",
   "execution_count": 5,
   "id": "15c23065",
   "metadata": {},
   "outputs": [
    {
     "name": "stdout",
     "output_type": "stream",
     "text": [
      "Please enter the total square feet of your land 5\n",
      "The total number of acres is 0.00\n"
     ]
    }
   ],
   "source": [
    "# First I need to define the square footage of an acre\n",
    "acre = 43560\n",
    "\n",
    "# I need a prompt for the user to enter total square feet. Forgot to define the\n",
    "# result as a float since the output will not always be a whole number.\n",
    "total_sqr_feet = float(input(\"Please enter the total square feet of your land \"))\n",
    "\n",
    "# I need to define the equation to arrive at the answer\n",
    "total_acres = total_sqr_feet / acre\n",
    "\n",
    "# I need to print the result for the user.  I've used the print-f function.\n",
    "# I'm calling the total_acres function and limiting to 2 decimal places.\n",
    "print(f\"The total number of acres is {total_acres:.2f}\")"
   ]
  },
  {
   "cell_type": "code",
   "execution_count": 6,
   "id": "8df669f8",
   "metadata": {},
   "outputs": [],
   "source": [
    "## Programming Exercises - Number 13 - Grapevines\n",
    "# notes - to start I need to create 3 print functions to capture user data.\n",
    "# I need the length of the row, space used by end-post assembly, and space between vines."
   ]
  },
  {
   "cell_type": "code",
   "execution_count": 14,
   "id": "3a8a8105",
   "metadata": {},
   "outputs": [
    {
     "name": "stdout",
     "output_type": "stream",
     "text": [
      "What is the length of the row, in feet?\n",
      "112\n",
      "What is the space used by the end post assembly, in feet?\n",
      "4.88\n",
      "What is the space between vines\n",
      "4.1\n",
      "The number of grapevines that will fit in this row is:\n",
      "24\n"
     ]
    }
   ],
   "source": [
    "# prompt user to enter length of the row. Defining R as a float since this\n",
    "# number can be whole or have decimals.\n",
    "print(\"What is the length of the row, in feet?\")\n",
    "R = input()\n",
    "R = float(R)\n",
    "\n",
    "# prompt user to enter space used by end-post assembly.  Defining E as a float\n",
    "# to allow more accurate measurements.\n",
    "print(\"What is the space used by the end post assembly, in feet?\")\n",
    "E = input()\n",
    "E = float(E)\n",
    "\n",
    "# prompt user to enter amount of space between vines.  Same as above, this\n",
    "# will likely not be a whole number.\n",
    "print(\"What is the space between vines\")\n",
    "S = input()\n",
    "S = float(S)\n",
    "\n",
    "# The formula is R - 2*E / S = V - I need to break each of these down into steps\n",
    "# total end post = 2 * E\n",
    "total_endpost_space = 2 * E\n",
    "\n",
    "# Now to calculate the remaining space available for vines, I need to create a\n",
    "# new variable to show R (total length) - total_endpost_space.\n",
    "remaining_space = R - total_endpost_space\n",
    "\n",
    "# I have total endpost space and remaining space solved for.  Now the program\n",
    "# needs to divide that information by how much space is needed between each vine.\n",
    "V = remaining_space / S\n",
    "\n",
    "# After some testing I realized I was getting decimals, and that doesn't make\n",
    "# sense for grapevines so I've defined that V (the answer) is only a whole number\n",
    "# by using the int(V) function.\n",
    "V = int(V)\n",
    "\n",
    "# Finally I need a print function to display the answer.\n",
    "print(\"The number of grapevines that will fit in this row is:\")\n",
    "print(V)"
   ]
  },
  {
   "cell_type": "code",
   "execution_count": null,
   "id": "249f3afa",
   "metadata": {},
   "outputs": [],
   "source": []
  }
 ],
 "metadata": {
  "kernelspec": {
   "display_name": "Python 3 (ipykernel)",
   "language": "python",
   "name": "python3"
  },
  "language_info": {
   "codemirror_mode": {
    "name": "ipython",
    "version": 3
   },
   "file_extension": ".py",
   "mimetype": "text/x-python",
   "name": "python",
   "nbconvert_exporter": "python",
   "pygments_lexer": "ipython3",
   "version": "3.11.4"
  }
 },
 "nbformat": 4,
 "nbformat_minor": 5
}
