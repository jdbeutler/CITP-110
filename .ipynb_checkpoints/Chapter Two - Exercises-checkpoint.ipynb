{
 "cells": [
  {
   "cell_type": "code",
   "execution_count": 1,
   "id": "67cda7f6",
   "metadata": {},
   "outputs": [],
   "source": [
    "# Chapter 2 Exercises"
   ]
  },
  {
   "cell_type": "code",
   "execution_count": 2,
   "id": "251c79fa",
   "metadata": {},
   "outputs": [],
   "source": [
    "## Algorithm Workbench - Number 6\n",
    "\n",
    "## Write a Python statement that subtracts the variable down_payment from the\n",
    "## variable total and assigns the result to the variable due."
   ]
  },
  {
   "cell_type": "code",
   "execution_count": 6,
   "id": "5921554a",
   "metadata": {},
   "outputs": [
    {
     "name": "stdout",
     "output_type": "stream",
     "text": [
      "4000\n"
     ]
    }
   ],
   "source": [
    "# Initializing Variables for total balance and down payment\n",
    "\n",
    "total_balance = 5000\n",
    "down_payment = 1000\n",
    "\n",
    "total_due = total_balance - down_payment\n",
    "\n",
    "print(total_due)\n",
    "\n",
    "# Total due is a simple calculation starting with total balance and subtracting\n",
    "# the down payment to arrive at total due."
   ]
  },
  {
   "cell_type": "code",
   "execution_count": null,
   "id": "dea87ed6",
   "metadata": {},
   "outputs": [],
   "source": []
  },
  {
   "cell_type": "code",
   "execution_count": null,
   "id": "8f5c5db4",
   "metadata": {},
   "outputs": [],
   "source": []
  }
 ],
 "metadata": {
  "kernelspec": {
   "display_name": "Python 3 (ipykernel)",
   "language": "python",
   "name": "python3"
  },
  "language_info": {
   "codemirror_mode": {
    "name": "ipython",
    "version": 3
   },
   "file_extension": ".py",
   "mimetype": "text/x-python",
   "name": "python",
   "nbconvert_exporter": "python",
   "pygments_lexer": "ipython3",
   "version": "3.11.4"
  }
 },
 "nbformat": 4,
 "nbformat_minor": 5
}
