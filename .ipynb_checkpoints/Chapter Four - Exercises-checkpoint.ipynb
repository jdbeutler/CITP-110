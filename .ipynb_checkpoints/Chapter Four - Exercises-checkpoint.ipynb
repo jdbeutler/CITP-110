{
 "cells": [
  {
   "cell_type": "markdown",
   "id": "1c1d3c27",
   "metadata": {},
   "source": [
    "# Chapter 4 - Exercises\n",
    "Working with the 5th edition text.\n",
    "\n",
    "Algorithm Workbench: Problem 1"
   ]
  },
  {
   "cell_type": "code",
   "execution_count": 1,
   "id": "c883eebb",
   "metadata": {},
   "outputs": [
    {
     "name": "stdout",
     "output_type": "stream",
     "text": [
      "Please enter a number under 100: .004\n",
      "The product is: 0.04\n",
      "The product is: 0.4\n",
      "The product is: 4.0\n",
      "The product is: 40.0\n",
      "The product is: 400.0\n",
      "The loop has ended.\n"
     ]
    }
   ],
   "source": [
    "# Step 1 - get user input for number less than 100.\n",
    "\n",
    "product = float(input(\"Please enter a number under 100: \"))\n",
    "\n",
    "# Step 2 - Create a loop\n",
    "\n",
    "while product < 100: # This starts the loop\n",
    "\n",
    "# Step 3 - Calculate user input * 10 while product < 100\n",
    "    \n",
    "    product *= 10 # I'm telling the program to multiply by 10 while the result is less than 100.\n",
    "    \n",
    "# Step 4 - print the result\n",
    "\n",
    "    print(\"The product is:\", product)\n",
    "\n",
    "# Step 5 - Terminate the loop\n",
    "\n",
    "print(\"The loop has ended.\")"
   ]
  },
  {
   "cell_type": "markdown",
   "id": "ee6b0e00",
   "metadata": {},
   "source": [
    "# Problem Two - Algorithm Workbench"
   ]
  },
  {
   "cell_type": "code",
   "execution_count": 2,
   "id": "814c688c",
   "metadata": {},
   "outputs": [
    {
     "ename": "SyntaxError",
     "evalue": "invalid syntax (576483108.py, line 3)",
     "output_type": "error",
     "traceback": [
      "\u001b[1;36m  Cell \u001b[1;32mIn[2], line 3\u001b[1;36m\u001b[0m\n\u001b[1;33m    continue = yes\u001b[0m\n\u001b[1;37m             ^\u001b[0m\n\u001b[1;31mSyntaxError\u001b[0m\u001b[1;31m:\u001b[0m invalid syntax\n"
     ]
    }
   ],
   "source": [
    "# Step one - initialize a variable - made this mistake on the first one\n",
    "\n",
    "continue = yes\n",
    "\n",
    "# Step two - Start a while loop\n",
    "\n",
    "while continue() == yes:\n",
    "\n",
    "# Step three - ask the user to enter two numbers\n",
    "    \n",
    "    num1 = float(input(\"Please enter your first number: \"))\n",
    "    num2 = float(input(\"Please enter your second number: \"))\n",
    "\n",
    "# Step four - Calculate the sum of the two user numbers\n",
    "\n",
    "    sum = num1 + num2\n",
    "\n",
    "# Step five - print the sum\n",
    "\n",
    "    print(f\"The sum of both numbers is {sum}.\")\n",
    "\n",
    "# Step six - ask user if they want to calculate again\n",
    "\n",
    "    continue = input(\"Do you want to perform the operation again? (yes/no): \")\n",
    "\n",
    "# Step seven - terminate the loop.\n",
    "\n",
    "print(\"The loop has ended.\")"
   ]
  },
  {
   "cell_type": "code",
   "execution_count": null,
   "id": "02bd626e",
   "metadata": {},
   "outputs": [],
   "source": []
  }
 ],
 "metadata": {
  "kernelspec": {
   "display_name": "Python 3 (ipykernel)",
   "language": "python",
   "name": "python3"
  },
  "language_info": {
   "codemirror_mode": {
    "name": "ipython",
    "version": 3
   },
   "file_extension": ".py",
   "mimetype": "text/x-python",
   "name": "python",
   "nbconvert_exporter": "python",
   "pygments_lexer": "ipython3",
   "version": "3.11.4"
  }
 },
 "nbformat": 4,
 "nbformat_minor": 5
}
