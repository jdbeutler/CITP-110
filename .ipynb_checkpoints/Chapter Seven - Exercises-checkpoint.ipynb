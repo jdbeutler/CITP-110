{
 "cells": [
  {
   "cell_type": "markdown",
   "id": "a99f1fc1",
   "metadata": {},
   "source": [
    "# Chapter 7 - Exercises\n",
    "Alg WB any 2, prog exercises 1, 14, ?, ?"
   ]
  },
  {
   "cell_type": "markdown",
   "id": "0b804453",
   "metadata": {},
   "source": [
    "# Alg WB 1\n",
    "Write a statement that creates a list with the following strings: 'Einstein', 'Newton',\n",
    "'Copernicus', and 'Kepler'."
   ]
  },
  {
   "cell_type": "code",
   "execution_count": 1,
   "id": "66ae25e0",
   "metadata": {},
   "outputs": [],
   "source": [
    "science_guys = [\"Einstein\", \"Newton\", \"Copernicus\", \"Kepler\"]\n",
    "\n",
    "# Looks good - will check in chatGPT to be sure.\n",
    "\n",
    "# yup - all set"
   ]
  },
  {
   "cell_type": "markdown",
   "id": "1ee6c3aa",
   "metadata": {},
   "source": [
    "# Alg WB 5\n",
    "Write a function that accepts a list as an argument (assume the list contains integers)\n",
    "and returns the total of the values in the list."
   ]
  },
  {
   "cell_type": "code",
   "execution_count": 14,
   "id": "43cdc012",
   "metadata": {},
   "outputs": [
    {
     "name": "stdout",
     "output_type": "stream",
     "text": [
      "17\n"
     ]
    }
   ],
   "source": [
    "# Step one - call a function that will add up all the integers in the string\n",
    "\n",
    "def calculate_total(numbers):\n",
    "\n",
    "# Step two - need a variable\n",
    "\n",
    "    total = 0\n",
    "        \n",
    "    for num in numbers:\n",
    "        try:\n",
    "            num = int(num) # need to convert to an integer\n",
    "            total += num # moving this into the loop\n",
    "        except ValueError:\n",
    "            continue\n",
    "            \n",
    "    return total\n",
    "\n",
    "# Step three - need to call sum\n",
    "answer = calculate_total(['1', '5', '11'])\n",
    "\n",
    "print (answer)\n",
    "\n",
    "# Step four - return result"
   ]
  },
  {
   "cell_type": "markdown",
   "id": "ea717731",
   "metadata": {},
   "source": [
    "# Programming Exercise 1\n",
    "Design a program that asks the user to enter a store’s sales for each day of the week. The\n",
    "amounts should be stored in a list. Use a loop to calculate the total sales for the week and\n",
    "display the result."
   ]
  },
  {
   "cell_type": "code",
   "execution_count": 17,
   "id": "645095f3",
   "metadata": {},
   "outputs": [
    {
     "name": "stdout",
     "output_type": "stream",
     "text": [
      "Enter sales for Monday: $500\n"
     ]
    },
    {
     "ename": "NameError",
     "evalue": "name 'sales_add' is not defined",
     "output_type": "error",
     "traceback": [
      "\u001b[1;31m---------------------------------------------------------------------------\u001b[0m",
      "\u001b[1;31mNameError\u001b[0m                                 Traceback (most recent call last)",
      "Cell \u001b[1;32mIn[17], line 11\u001b[0m\n\u001b[0;32m      9\u001b[0m \u001b[38;5;28;01mtry\u001b[39;00m:\n\u001b[0;32m     10\u001b[0m     sales_amount \u001b[38;5;241m=\u001b[39m \u001b[38;5;28minput\u001b[39m(\u001b[38;5;124mf\u001b[39m\u001b[38;5;124m\"\u001b[39m\u001b[38;5;124mEnter sales for \u001b[39m\u001b[38;5;132;01m{\u001b[39;00mday\u001b[38;5;132;01m}\u001b[39;00m\u001b[38;5;124m: $\u001b[39m\u001b[38;5;124m\"\u001b[39m)\n\u001b[1;32m---> 11\u001b[0m     sales_add(sales_amount)\n\u001b[0;32m     12\u001b[0m \u001b[38;5;28;01mexcept\u001b[39;00m \u001b[38;5;167;01mValueError\u001b[39;00m:\n\u001b[0;32m     13\u001b[0m     \u001b[38;5;28mprint\u001b[39m(\u001b[38;5;124m\"\u001b[39m\u001b[38;5;124mInvalid input. Please input a valid number\u001b[39m\u001b[38;5;124m\"\u001b[39m)\n",
      "\u001b[1;31mNameError\u001b[0m: name 'sales_add' is not defined"
     ]
    }
   ],
   "source": [
    "# Step one - initialize a list\n",
    "\n",
    "sales = []\n",
    "\n",
    "# Step two - Use a loop to input sales for each day\n",
    "days_of_week = [\"Monday\", \"Tuesday\", \"Wednesday\", \"Thursday\", \"Friday\", \"Saturday\", \"Sunday\"]\n",
    "# whoops - didn't start that loop right\n",
    "for day in days_of_week:\n",
    "    try:\n",
    "        sales_amount = input(f\"Enter sales for {day}: $\")\n",
    "        sales_add(sales_amount)\n",
    "    except ValueError:\n",
    "        print(\"Invalid input. Please input a valid number\")\n",
    "\n",
    "# Step three - calculate total sales for the week\n",
    "\n",
    "total_sales = sum(sales)\n",
    "\n",
    "# Step four - display result\n",
    "\n",
    "print(f\"Total sales for the week: ${total_sales:.2f}\")"
   ]
  },
  {
   "cell_type": "code",
   "execution_count": null,
   "id": "0dfd8390",
   "metadata": {},
   "outputs": [],
   "source": []
  }
 ],
 "metadata": {
  "kernelspec": {
   "display_name": "Python 3 (ipykernel)",
   "language": "python",
   "name": "python3"
  },
  "language_info": {
   "codemirror_mode": {
    "name": "ipython",
    "version": 3
   },
   "file_extension": ".py",
   "mimetype": "text/x-python",
   "name": "python",
   "nbconvert_exporter": "python",
   "pygments_lexer": "ipython3",
   "version": "3.11.4"
  }
 },
 "nbformat": 4,
 "nbformat_minor": 5
}
