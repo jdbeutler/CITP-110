{
 "cells": [
  {
   "cell_type": "code",
   "execution_count": 6,
   "id": "93aaae20",
   "metadata": {},
   "outputs": [],
   "source": [
    "## Chapter One - Exercises\n",
    "\n",
    "# Exercises 1, 3, and TBD...\n",
    "\n",
    "# Exercise one"
   ]
  },
  {
   "cell_type": "code",
   "execution_count": 2,
   "id": "338a24ab",
   "metadata": {},
   "outputs": [
    {
     "name": "stdout",
     "output_type": "stream",
     "text": [
      "This is a test of the Python Interpreter.\n"
     ]
    }
   ],
   "source": [
    "print(\"This is a test of the Python Interpreter.\")"
   ]
  },
  {
   "cell_type": "code",
   "execution_count": 3,
   "id": "e26b24ce",
   "metadata": {},
   "outputs": [
    {
     "name": "stdout",
     "output_type": "stream",
     "text": [
      "This shift-enter thing is going to take some getting used to\n"
     ]
    }
   ],
   "source": [
    "print(\"This shift-enter thing is going to take some getting used to\")"
   ]
  },
  {
   "cell_type": "code",
   "execution_count": 4,
   "id": "1efe7bb1",
   "metadata": {},
   "outputs": [
    {
     "name": "stdout",
     "output_type": "stream",
     "text": [
      "I will someday be an adequate programmer.\n"
     ]
    }
   ],
   "source": [
    "print(\"I will someday be an adequate programmer.\")"
   ]
  },
  {
   "cell_type": "code",
   "execution_count": 5,
   "id": "6d62aee7",
   "metadata": {},
   "outputs": [
    {
     "name": "stdout",
     "output_type": "stream",
     "text": [
      "shift-enter... you got me again\n"
     ]
    }
   ],
   "source": [
    "print(\"shift-enter... you got me again\")"
   ]
  },
  {
   "cell_type": "code",
   "execution_count": null,
   "id": "f6e5084e",
   "metadata": {},
   "outputs": [],
   "source": [
    "# Exercise three"
   ]
  }
 ],
 "metadata": {
  "kernelspec": {
   "display_name": "Python 3 (ipykernel)",
   "language": "python",
   "name": "python3"
  },
  "language_info": {
   "codemirror_mode": {
    "name": "ipython",
    "version": 3
   },
   "file_extension": ".py",
   "mimetype": "text/x-python",
   "name": "python",
   "nbconvert_exporter": "python",
   "pygments_lexer": "ipython3",
   "version": "3.11.4"
  }
 },
 "nbformat": 4,
 "nbformat_minor": 5
}
