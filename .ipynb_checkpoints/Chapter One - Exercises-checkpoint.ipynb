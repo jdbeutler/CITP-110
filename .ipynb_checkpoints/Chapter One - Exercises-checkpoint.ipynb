{
 "cells": [
  {
   "cell_type": "code",
   "execution_count": 1,
   "id": "93aaae20",
   "metadata": {},
   "outputs": [],
   "source": [
    "## Chapter One - Exercises\n",
    "\n",
    "# Exercises 1, 3, and 6...\n",
    "\n",
    "# Exercise One"
   ]
  },
  {
   "cell_type": "code",
   "execution_count": 2,
   "id": "338a24ab",
   "metadata": {},
   "outputs": [
    {
     "name": "stdout",
     "output_type": "stream",
     "text": [
      "This is a test of the Python Interpreter.\n"
     ]
    }
   ],
   "source": [
    "# Demonstration of print function in Python\n",
    "print(\"This is a test of the Python Interpreter.\")"
   ]
  },
  {
   "cell_type": "code",
   "execution_count": 3,
   "id": "e26b24ce",
   "metadata": {},
   "outputs": [
    {
     "name": "stdout",
     "output_type": "stream",
     "text": [
      "This shift-enter thing is going to take some getting used to\n"
     ]
    }
   ],
   "source": [
    "print(\"This shift-enter thing is going to take some getting used to\")"
   ]
  },
  {
   "cell_type": "code",
   "execution_count": 4,
   "id": "1efe7bb1",
   "metadata": {},
   "outputs": [
    {
     "name": "stdout",
     "output_type": "stream",
     "text": [
      "I will someday be an adequate programmer.\n"
     ]
    }
   ],
   "source": [
    "print(\"I will someday be an adequate programmer.\")"
   ]
  },
  {
   "cell_type": "code",
   "execution_count": 5,
   "id": "6d62aee7",
   "metadata": {},
   "outputs": [
    {
     "name": "stdout",
     "output_type": "stream",
     "text": [
      "shift-enter... you got me again\n"
     ]
    }
   ],
   "source": [
    "print(\"shift-enter... you got me again\")"
   ]
  },
  {
   "cell_type": "code",
   "execution_count": 6,
   "id": "f6e5084e",
   "metadata": {},
   "outputs": [],
   "source": [
    "## Exercise Three"
   ]
  },
  {
   "cell_type": "code",
   "execution_count": 7,
   "id": "71cb162c",
   "metadata": {},
   "outputs": [],
   "source": [
    "#11 in binary - 00001101\n",
    "#I did these with mental math.  I know that 11 can only be achieved by adding 8, 2, and 1.  Those \"switches\" are turned on, and the remainder are 0.\n",
    "#If I were to teach this, I would use the visual of which switch corresponds to which number, and start with the number I intend to recreate in binary.  Starting with 11, I can ask students to simply subtract numbers that correspond with switches from this until you reach 0.  The numbers you used to subtract from 11 would be 8, 2, and 1.  Those are the switches we turn on, everything else stays off. This may require a bit of trial and error depending on mental math ability, and there are certainly other ways to learn it, but this is how I did it."
   ]
  },
  {
   "cell_type": "code",
   "execution_count": 8,
   "id": "4db48a2f",
   "metadata": {},
   "outputs": [],
   "source": [
    "#65 in binary - 01000001 (curious if numbers can be presented in more than one way in binary)\n",
    "#More mental math.  64 + 1 is the only way to get 65, so I activated those \"switches\" and the remainder are 0."
   ]
  },
  {
   "cell_type": "code",
   "execution_count": 9,
   "id": "10af77f2",
   "metadata": {},
   "outputs": [],
   "source": [
    "#100 in binary - 01100100\n",
    "#Mental math again, I knew 64 and 32 we're going to be necessary which brought me to 96, so activating the 4 brought me to 100."
   ]
  },
  {
   "cell_type": "code",
   "execution_count": 10,
   "id": "24c6bb20",
   "metadata": {},
   "outputs": [],
   "source": [
    "#255 in binary - 11111111 (probably a better way to do that then my phone calculator adding up the values...)\n",
    "#Initially I didn't expect this to be all 1's, however I used my phone calculator and realized all 8 numbers add up to 255, so this was easy."
   ]
  },
  {
   "cell_type": "code",
   "execution_count": 11,
   "id": "d50b69a8",
   "metadata": {},
   "outputs": [],
   "source": [
    "## Exercise Six"
   ]
  },
  {
   "cell_type": "code",
   "execution_count": 12,
   "id": "8183dae4",
   "metadata": {},
   "outputs": [],
   "source": [
    "#Who created Python? Guido van Rossum.\n",
    "#when was it created?  The first version, 0.9.0 was released in February 1991.  Work began in the late 1980s.\n",
    "#BDFL - Benevolent Dictator For Life.  Sounds like my boss, hopefully more benevolent though.\n",
    "#I used Google to research this and read Wikipedia articles as well as forum posts about both the creator and creation of Python."
   ]
  },
  {
   "cell_type": "code",
   "execution_count": 13,
   "id": "2c900ad4",
   "metadata": {},
   "outputs": [],
   "source": [
    "#adding this to test github commit - practice for showing iteration in later assignments."
   ]
  }
 ],
 "metadata": {
  "kernelspec": {
   "display_name": "Python 3 (ipykernel)",
   "language": "python",
   "name": "python3"
  },
  "language_info": {
   "codemirror_mode": {
    "name": "ipython",
    "version": 3
   },
   "file_extension": ".py",
   "mimetype": "text/x-python",
   "name": "python",
   "nbconvert_exporter": "python",
   "pygments_lexer": "ipython3",
   "version": "3.11.4"
  }
 },
 "nbformat": 4,
 "nbformat_minor": 5
}
