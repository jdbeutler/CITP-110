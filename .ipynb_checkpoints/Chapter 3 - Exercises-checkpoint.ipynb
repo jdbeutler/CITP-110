{
 "cells": [
  {
   "cell_type": "markdown",
   "id": "95eef048",
   "metadata": {},
   "source": [
    "# Code Set 3\n",
    "Algorithm Workbench problem 4 and 5"
   ]
  },
  {
   "cell_type": "code",
   "execution_count": null,
   "id": "f77e494a",
   "metadata": {},
   "outputs": [],
   "source": [
    "## Problem 4\n",
    "if score >= A_score: #If score is equal to or greater than A_score, then it should print an A.\n",
    "    print('Your grade is A.')\n",
    "else:\n",
    "    if score >= B_score: #If score is equal to or greater than B_score, but below A_score, then it will print a B.\n",
    "        print('Your grade is B.')\n",
    "    else:\n",
    "        if score >= C_score: #If score falls in the range of C_score, it will print a C.\n",
    "            print('Your grade is C.')\n",
    "        else:\n",
    "            if score >= D_score: #If score falls in the range of D_score, it will print a D.\n",
    "                print('Your grade is D.')\n",
    "            else: #If score falls below the range of A - D scores, it will print an F.\n",
    "                print('Your grade is F.')\n",
    "    \n",
    "## Indenting for problem 4 - now getting a new error for name.  Score is not defined.\n",
    "## Pretty sure I have the indentation right, code being incomplete makes it difficult to test but I'm no longer getting a\n",
    "## syntax error, and just an error telling me that A_score and such is not defined."
   ]
  },
  {
   "cell_type": "code",
   "execution_count": null,
   "id": "b7486e6c",
   "metadata": {},
   "outputs": [],
   "source": [
    "## Problem 5\n",
    "## Write nested decision structures that perform the following: If amount1 is greater than\n",
    "## 10 and amount2 is less than 100, display the greater of amount1 and amount2.\n",
    "\n",
    "amount1 = float(input(\"Enter a number between 10 and 100: \")) # Switching to a user input for all the bonus points\n",
    "amount2 = float(input(\"Enter another number between 10 and 100: \")) # Switching to a user input to be a better coder too\n",
    "\n",
    "## First step is I'm going to define amount1 and amount2 so they meet the parameters of this decision structure so I can\n",
    "## test that it's working.\n",
    "\n",
    "if amount1 > 10: # checking to see if the value for amount1 is greater than 10 - added colons\n",
    "    if amount2 < 100: # checking to see if the value for amount2 is less than 100 - added colons\n",
    "        if amount1 > amount2:\n",
    "            print(\"The greater amount is:\", amount1) # added a space after the comma for formatting. added colons.\n",
    "        else: print(\"The greater amount is:\", amount2)\n",
    "    else: print(\"amount2 is not less than 100\")\n",
    "else: print(\"amount1 is not greater than 10\")\n",
    "\n",
    "## Second, I'll use if statements to compare the numbers to verify that they meet the parameters.\n",
    "\n",
    "\n",
    "## Third, I need to tell the program what to print if it meets the parameters, and an else statement if it doesn't."
   ]
  },
  {
   "cell_type": "markdown",
   "id": "15f2b9c4",
   "metadata": {},
   "source": [
    "## Programming Questions 1, 5, 15, and ?"
   ]
  },
  {
   "cell_type": "code",
   "execution_count": null,
   "id": "e5aee011",
   "metadata": {},
   "outputs": [],
   "source": [
    "## Question 1\n",
    "\n",
    "## Step 1: I need to prompt the user for an input\n",
    "theinput = input(\"Enter a number between 1 and 7: \")\n",
    "\n",
    "## Step 2: Realizing I need to convert the input string to an integer.\n",
    "theinput = int(theinput)\n",
    "\n",
    "## Step 3: I need to check if the input is in the specified range.\n",
    "if 1 <= theinput <= 7: #defining the acceptable range of inputs\n",
    "    if theinput == 1: #double equal signs to specify it needs to be an exact match.\n",
    "        print(\"The corresponding day is Sunday\") #doing the Sunday thru Saturday calendar.\n",
    "    elif theinput == 2:\n",
    "        print(\"The corresponding day is Monday\")\n",
    "    elif theinput == 3:\n",
    "        print(\"The corresponding day is Tuesday\")\n",
    "    elif theinput == 4:\n",
    "        print(\"The corresponding day is Wednesday\")\n",
    "    elif theinput == 5:\n",
    "        print(\"The corresponding day is Thursday\")\n",
    "    elif theinput == 6:\n",
    "        print(\"The corresponding day is Friday, so happy Friday!\")\n",
    "    elif theinput == 7:\n",
    "        print(\"The corresponding day is Saturday\")\n",
    "else:\n",
    "    print(\"Error: Please enter a number between 1 and 7.\")\n",
    "## Step 4: I need to use if/elif to associate each possible user input with\n",
    "## the corresponding day of the week.  I know there are list functions but\n",
    "## I'm a simple man that doesn't mind longer code, so I'll write each print statement\n",
    "## so that I can get practice.\n",
    "\n",
    "## Step 5: I need an else statement to act as a catch-all for any input that falls\n",
    "## outside of the parameters. This will require a print statement."
   ]
  },
  {
   "cell_type": "markdown",
   "id": "96c87d83",
   "metadata": {},
   "source": [
    "## Question 5\n",
    "\n",
    "Scientists measure an object’s mass in kilograms and its weight in newtons. If you know\n",
    "the amount of mass of an object in kilograms, you can calculate its weight in newtons with\n",
    "the following formula:\n",
    "weight 5 mass 3 9.8\n",
    "Write a program that asks the user to enter an object’s mass, then calculates its weight. If\n",
    "the object weighs more than 500 newtons, display a message indicating that it is too heavy.\n",
    "If the object weighs less than 100 newtons, display a message indicating that it is too light."
   ]
  },
  {
   "cell_type": "code",
   "execution_count": 4,
   "id": "f357431a",
   "metadata": {},
   "outputs": [
    {
     "name": "stdout",
     "output_type": "stream",
     "text": [
      "Enter the mass of your object in kilograms: 12\n",
      "Your object is just right!\n"
     ]
    }
   ],
   "source": [
    "## Step 1 - prompt the user to enter the mass of an object in kg.\n",
    "## Step 2 - store the user input as a float\n",
    "\n",
    "mass = float(input(\"Enter the mass of your object in kilograms: \"))\n",
    "\n",
    "## This statement asks the user to input the mass and converts it to a float.\n",
    "\n",
    "## Step 3 - calculate the weight (weight = mass * 9.8)\n",
    "\n",
    "weight = mass * 9.8\n",
    "\n",
    "## Step 4 - check if calculated weight is > 500 newtons, if so display message that it's too heavy.\n",
    "\n",
    "if weight > 500:\n",
    "    print(\"Your object is too heavy.\")\n",
    "\n",
    "## Step 5 - check if calculated weight is < 100 newtons, if so display message that it's too light.\n",
    "\n",
    "elif weight < 100:\n",
    "    print(\"Your object is too light.\")\n",
    "    \n",
    "## Step 6 - not specified, but include a message if the weight falls within the above parameters.\n",
    "\n",
    "else:\n",
    "    print(\"Your object is just right!\")"
   ]
  },
  {
   "cell_type": "markdown",
   "id": "d8fbaba8",
   "metadata": {},
   "source": [
    "# Question 15\n",
    "Write a program that asks the user to enter a number of seconds and works as follows:\n",
    "• There are 60 seconds in a minute. If the number of seconds entered by the user is greater\n",
    "than or equal to 60, the program should convert the number of seconds to minutes and\n",
    "seconds.\n",
    "• There are 3,600 seconds in an hour. If the number of seconds entered by the user is\n",
    "greater than or equal to 3,600, the program should convert the number of seconds to\n",
    "hours, minutes, and seconds.\n",
    "• There are 86,400 seconds in a day. If the number of seconds entered by the user is\n",
    "greater than or equal to 86,400, the program should convert the number of seconds to\n",
    "days, hours, minutes, and seconds."
   ]
  },
  {
   "cell_type": "code",
   "execution_count": null,
   "id": "2b709cec",
   "metadata": {},
   "outputs": [],
   "source": [
    "## Step 1 - prompt the user to enter the number of seconds.  I want this to be an integer.\n",
    "\n",
    "seconds = int(input(\"Enter the number of seconds: \"))\n",
    "\n",
    "## Step 2 - I need the program to display days, hours, minutes, and seconds, so I'm\n",
    "## going to put each calculation on it's own line of code. I'm going to use the %= function\n",
    "## to carry over any remainder to the next calculation.\n",
    "\n",
    "days = seconds / 86400\n",
    "seconds %= 86400\n",
    "\n",
    "## Calculate days above - this should divide the number of seconds and report a number of days if it\n",
    "## is greater than 86400 - otherwise should carry over to next calculation.\n",
    "\n",
    "hours = seconds / 3600\n",
    "seconds %= 3600\n",
    "\n",
    "## Calculate hours above - same logic as above as well\n",
    "\n",
    "minutes = seconds / 60\n",
    "seconds %= 60\n",
    "\n",
    "## Calculate minutes above - same logic as above as well\n",
    "\n",
    "## Step 3 - Display the time - use a print f function to pull in each value.\n",
    "\n",
    "print(f\"[days] days, [hours] hours, [minutes] minutes, and [seconds] seconds\")"
   ]
  },
  {
   "cell_type": "code",
   "execution_count": null,
   "id": "4b0b9b7f",
   "metadata": {},
   "outputs": [],
   "source": []
  }
 ],
 "metadata": {
  "kernelspec": {
   "display_name": "Python 3 (ipykernel)",
   "language": "python",
   "name": "python3"
  },
  "language_info": {
   "codemirror_mode": {
    "name": "ipython",
    "version": 3
   },
   "file_extension": ".py",
   "mimetype": "text/x-python",
   "name": "python",
   "nbconvert_exporter": "python",
   "pygments_lexer": "ipython3",
   "version": "3.11.4"
  }
 },
 "nbformat": 4,
 "nbformat_minor": 5
}
