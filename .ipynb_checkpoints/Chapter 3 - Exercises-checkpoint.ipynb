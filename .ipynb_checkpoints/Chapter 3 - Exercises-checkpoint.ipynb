{
 "cells": [
  {
   "cell_type": "markdown",
   "id": "39f92453",
   "metadata": {},
   "source": [
    "# Code Set 3\n",
    "Algorithm Workbench problem 4 and 5"
   ]
  },
  {
   "cell_type": "code",
   "execution_count": 3,
   "id": "89ab8575",
   "metadata": {},
   "outputs": [
    {
     "ename": "SyntaxError",
     "evalue": "invalid syntax (3149683172.py, line 3)",
     "output_type": "error",
     "traceback": [
      "\u001b[1;36m  Cell \u001b[1;32mIn[3], line 3\u001b[1;36m\u001b[0m\n\u001b[1;33m    else:\u001b[0m\n\u001b[1;37m    ^\u001b[0m\n\u001b[1;31mSyntaxError\u001b[0m\u001b[1;31m:\u001b[0m invalid syntax\n"
     ]
    }
   ],
   "source": [
    "if score >= A_score:\n",
    "    print('Your grade is A.')\n",
    "    else:\n",
    "if score >= B_score:\n",
    "    print('Your grade is B.')\n",
    "    else:\n",
    "if score >= C_score:\n",
    "    print('Your grade is C.')\n",
    "    else:\n",
    "if score >= D_score:\n",
    "    print('Your grade is D.')\n",
    "    else:\n",
    "    print('Your grade is F.')\n",
    "    \n",
    "## Indenting for problem 4 - getting a syntax error."
   ]
  },
  {
   "cell_type": "code",
   "execution_count": null,
   "id": "972d76c6",
   "metadata": {},
   "outputs": [],
   "source": []
  }
 ],
 "metadata": {
  "kernelspec": {
   "display_name": "Python 3 (ipykernel)",
   "language": "python",
   "name": "python3"
  },
  "language_info": {
   "codemirror_mode": {
    "name": "ipython",
    "version": 3
   },
   "file_extension": ".py",
   "mimetype": "text/x-python",
   "name": "python",
   "nbconvert_exporter": "python",
   "pygments_lexer": "ipython3",
   "version": "3.11.4"
  }
 },
 "nbformat": 4,
 "nbformat_minor": 5
}
