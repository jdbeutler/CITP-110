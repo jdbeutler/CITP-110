{
 "cells": [
  {
   "cell_type": "markdown",
   "id": "d4bdccb1",
   "metadata": {},
   "source": [
    "# Code Set 3\n",
    "Algorithm Workbench problem 4 and 5"
   ]
  },
  {
   "cell_type": "code",
   "execution_count": 1,
   "id": "7ebf778e",
   "metadata": {},
   "outputs": [
    {
     "ename": "NameError",
     "evalue": "name 'score' is not defined",
     "output_type": "error",
     "traceback": [
      "\u001b[1;31m---------------------------------------------------------------------------\u001b[0m",
      "\u001b[1;31mNameError\u001b[0m                                 Traceback (most recent call last)",
      "Cell \u001b[1;32mIn[1], line 2\u001b[0m\n\u001b[0;32m      1\u001b[0m \u001b[38;5;66;03m## Problem 4\u001b[39;00m\n\u001b[1;32m----> 2\u001b[0m \u001b[38;5;28;01mif\u001b[39;00m score \u001b[38;5;241m>\u001b[39m\u001b[38;5;241m=\u001b[39m A_score: \u001b[38;5;66;03m#If score is equal to or greater than A_score, then it should print an A.\u001b[39;00m\n\u001b[0;32m      3\u001b[0m     \u001b[38;5;28mprint\u001b[39m(\u001b[38;5;124m'\u001b[39m\u001b[38;5;124mYour grade is A.\u001b[39m\u001b[38;5;124m'\u001b[39m)\n\u001b[0;32m      4\u001b[0m \u001b[38;5;28;01melse\u001b[39;00m:\n",
      "\u001b[1;31mNameError\u001b[0m: name 'score' is not defined"
     ]
    }
   ],
   "source": [
    "## Problem 4\n",
    "if score >= A_score: #If score is equal to or greater than A_score, then it should print an A.\n",
    "    print('Your grade is A.')\n",
    "else:\n",
    "    if score >= B_score: #If score is equal to or greater than B_score, but below A_score, then it will print a B.\n",
    "        print('Your grade is B.')\n",
    "    else:\n",
    "        if score >= C_score: #If score falls in the range of C_score, it will print a C.\n",
    "            print('Your grade is C.')\n",
    "        else:\n",
    "            if score >= D_score: #If score falls in the range of D_score, it will print a D.\n",
    "                print('Your grade is D.')\n",
    "            else: #If score falls below the range of A - D scores, it will print an F.\n",
    "                print('Your grade is F.')\n",
    "    \n",
    "## Indenting for problem 4 - now getting a new error for name.  Score is not defined.\n",
    "## Pretty sure I have the indentation right, code being incomplete makes it difficult to test but I'm no longer getting a\n",
    "## syntax error, and just an error telling me that A_score and such is not defined."
   ]
  },
  {
   "cell_type": "code",
   "execution_count": null,
   "id": "44ac0432",
   "metadata": {},
   "outputs": [],
   "source": [
    "## Problem 5\n",
    "# Write nested decision structures that perform the following: If amount1 is greater than\n",
    "# 10 and amount2 is less than 100, display the greater of amount1 and amount2.\n",
    "\n",
    "amount1 = float(input(\"Enter a number between 10 and 100: \")) # Switching to a user input for all the bonus points\n",
    "amount2 = float(input(\"Enter another number between 10 and 100: \")) # Switching to a user input to be a better coder too\n",
    "\n",
    "# First step is I'm going to define amount1 and amount2 so they meet the parameters of this decision structure so I can\n",
    "# test that it's working.\n",
    "\n",
    "if amount1 > 10: # checking to see if the value for amount1 is greater than 10 - added colons\n",
    "    if amount2 < 100: # checking to see if the value for amount2 is less than 100 - added colons\n",
    "        if amount1 > amount2:\n",
    "            print(\"The greater amount is:\", amount1) # added a space after the comma for formatting. added colons.\n",
    "        else: print(\"The greater amount is:\", amount2)\n",
    "    else: print(\"amount2 is not less than 100\")\n",
    "else: print(\"amount1 is not greater than 10\")\n",
    "\n",
    "# Second, I'll use if statements to compare the numbers to verify that they meet the parameters.\n",
    "\n",
    "\n",
    "# Third, I need to tell the program what to print if it meets the parameters, and an else statement if it doesn't."
   ]
  },
  {
   "cell_type": "code",
   "execution_count": null,
   "id": "d3596ab2",
   "metadata": {},
   "outputs": [],
   "source": [
    "# Programming Questions 1, 5, 2 between 15-18."
   ]
  },
  {
   "cell_type": "code",
   "execution_count": 3,
   "id": "a51e3600",
   "metadata": {},
   "outputs": [
    {
     "name": "stdout",
     "output_type": "stream",
     "text": [
      "Enter a number between 1 and 7: 4\n",
      "The corresponding day is Wednesday\n"
     ]
    }
   ],
   "source": [
    "# Step 1: I need to prompt the user for an input\n",
    "theinput = input(\"Enter a number between 1 and 7: \")\n",
    "\n",
    "# Step 2: Realizing I need to convert the input string to an integer.\n",
    "theinput = int(theinput)\n",
    "\n",
    "# Step 3: I need to check if the input is in the specified range.\n",
    "if theinput == 1: #double equal signs to specify it needs to be an exact match.\n",
    "    print(\"The corresponding day is Sunday\") #doing the Sunday thru Saturday calendar.\n",
    "elif theinput == 2:\n",
    "    print(\"The corresponding day is Monday\")\n",
    "elif theinput == 3:\n",
    "    print(\"The corresponding day is Tuesday\")\n",
    "elif theinput == 4:\n",
    "    print(\"The corresponding day is Wednesday\")\n",
    "elif theinput == 5:\n",
    "    print(\"The corresponding day is Thursday\")\n",
    "elif theinput == 6:\n",
    "    print(\"The corresponding day is Friday, so happy Friday!\")\n",
    "elif theinput == 7:\n",
    "    print(\"The corresponding day is Saturday\")\n",
    "else:\n",
    "    print(\"Error: Please enter a number between 1 and 7.\")\n",
    "# Step 4: I need to use if/elif to associate each possible user input with\n",
    "# the corresponding day of the week.  I know there are list functions but\n",
    "# I'm a simple man that doesn't mind longer code, so I'll write each print statement\n",
    "# so that I can get practice.\n",
    "\n",
    "# Step 5: I need an else statement to act as a catch-all for any input that falls\n",
    "# outside of the parameters. This will require a print statement."
   ]
  },
  {
   "cell_type": "code",
   "execution_count": null,
   "id": "6c72fbca",
   "metadata": {},
   "outputs": [],
   "source": []
  }
 ],
 "metadata": {
  "kernelspec": {
   "display_name": "Python 3 (ipykernel)",
   "language": "python",
   "name": "python3"
  },
  "language_info": {
   "codemirror_mode": {
    "name": "ipython",
    "version": 3
   },
   "file_extension": ".py",
   "mimetype": "text/x-python",
   "name": "python",
   "nbconvert_exporter": "python",
   "pygments_lexer": "ipython3",
   "version": "3.11.4"
  }
 },
 "nbformat": 4,
 "nbformat_minor": 5
}
