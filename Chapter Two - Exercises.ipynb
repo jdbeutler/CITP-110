{
 "cells": [
  {
   "cell_type": "code",
   "execution_count": 1,
   "id": "da5ee657",
   "metadata": {},
   "outputs": [],
   "source": [
    "# Chapter 2 Exercises"
   ]
  },
  {
   "cell_type": "code",
   "execution_count": 2,
   "id": "1b7b12e8",
   "metadata": {},
   "outputs": [],
   "source": [
    "## Algorithm Workbench - Number 6\n",
    "\n",
    "## Write a Python statement that subtracts the variable down_payment from the\n",
    "## variable total and assigns the result to the variable due."
   ]
  },
  {
   "cell_type": "code",
   "execution_count": 3,
   "id": "38fe03ce",
   "metadata": {},
   "outputs": [
    {
     "name": "stdout",
     "output_type": "stream",
     "text": [
      "4000\n"
     ]
    }
   ],
   "source": [
    "# Initializing Variables for total balance and down payment\n",
    "\n",
    "total_balance = 5000\n",
    "down_payment = 1000\n",
    "\n",
    "total_due = total_balance - down_payment\n",
    "\n",
    "# total_due is what my program should print. I've defined the variables above\n",
    "# so the math will produce the expected result.\n",
    "\n",
    "print(total_due)\n",
    "\n",
    "# Total due is a simple calculation starting with total balance and subtracting\n",
    "# the down payment to arrive at total due.  Originally made the mistake of\n",
    "# using quotes and turning total_due into a string instead calling the function."
   ]
  },
  {
   "cell_type": "code",
   "execution_count": 4,
   "id": "858237bf",
   "metadata": {},
   "outputs": [],
   "source": [
    "## Programming Exercises - Number 3 - Land Calculation\n",
    "## One acre of land is equivelant to 43560 sq/ft.  Write a program that asks\n",
    "## a user to enter total square feet in a tract of land and calculates # of acres."
   ]
  },
  {
   "cell_type": "code",
   "execution_count": 5,
   "id": "55a32517",
   "metadata": {},
   "outputs": [
    {
     "name": "stdout",
     "output_type": "stream",
     "text": [
      "Please enter the total square feet of your land 5\n",
      "The total number of acres is 0.00\n"
     ]
    }
   ],
   "source": [
    "# First I need to define the square footage of an acre\n",
    "acre = 43560\n",
    "\n",
    "# I need a prompt for the user to enter total square feet. Forgot to define the\n",
    "# result as a float since the output will not always be a whole number.\n",
    "total_sqr_feet = float(input(\"Please enter the total square feet of your land \"))\n",
    "\n",
    "# I need to define the equation to arrive at the answer\n",
    "total_acres = total_sqr_feet / acre\n",
    "\n",
    "# I need to print the result for the user.  I've used the print-f function.\n",
    "# I'm calling the total_acres function and limiting to 2 decimal places.\n",
    "print(f\"The total number of acres is {total_acres:.2f}\")"
   ]
  },
  {
   "cell_type": "code",
   "execution_count": 6,
   "id": "dfc8fc7d",
   "metadata": {},
   "outputs": [],
   "source": [
    "## Programming Exercises - Number 13 - Grapevines\n",
    "# notes - to start I need to create 3 print functions to capture user data.\n",
    "# I need the length of the row, space used by end-post assembly, and space between vines."
   ]
  },
  {
   "cell_type": "code",
   "execution_count": 8,
   "id": "162640fb",
   "metadata": {},
   "outputs": [
    {
     "name": "stdout",
     "output_type": "stream",
     "text": [
      "What is the length of the row, in feet?\n",
      "5\n",
      "What is the space used by the end post assembly, in feet?\n",
      "5\n",
      "What is the space between vines\n",
      "5\n"
     ]
    }
   ],
   "source": [
    "print(\"What is the length of the row, in feet?\")\n",
    "R = input()\n",
    "print(\"What is the space used by the end post assembly, in feet?\")\n",
    "E = input()\n",
    "print(\"What is the space between vines\")\n",
    "S = input()"
   ]
  },
  {
   "cell_type": "code",
   "execution_count": null,
   "id": "f48e8662",
   "metadata": {},
   "outputs": [],
   "source": []
  }
 ],
 "metadata": {
  "kernelspec": {
   "display_name": "Python 3 (ipykernel)",
   "language": "python",
   "name": "python3"
  },
  "language_info": {
   "codemirror_mode": {
    "name": "ipython",
    "version": 3
   },
   "file_extension": ".py",
   "mimetype": "text/x-python",
   "name": "python",
   "nbconvert_exporter": "python",
   "pygments_lexer": "ipython3",
   "version": "3.11.4"
  }
 },
 "nbformat": 4,
 "nbformat_minor": 5
}
