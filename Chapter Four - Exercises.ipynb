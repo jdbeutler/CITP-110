{
 "cells": [
  {
   "cell_type": "markdown",
   "id": "6de2d1d9",
   "metadata": {},
   "source": [
    "# Chapter 4 - Exercises\n",
    "Working with the 5th edition text.\n",
    "\n",
    "Algorithm Workbench: Problem 1"
   ]
  },
  {
   "cell_type": "code",
   "execution_count": null,
   "id": "b7289896",
   "metadata": {},
   "outputs": [
    {
     "name": "stdout",
     "output_type": "stream",
     "text": [
      "Please enter a number: .004\n",
      "The product is: 0.04\n",
      "Please enter a number: .2\n",
      "The product is: 2.0\n"
     ]
    }
   ],
   "source": [
    "# Step 1 - get user input for number less than 100.\n",
    "\n",
    "product = 0 #forgot to define product variable - starting at 0.\n",
    "\n",
    "# Step 2 - Create a loop\n",
    "\n",
    "while product < 100:\n",
    "\n",
    "# Step 3 - Calculate user input * 10 while product < 100\n",
    "\n",
    "    user_input = float(input(\"Please enter a number: \"))\n",
    "    \n",
    "    product = user_input * 10\n",
    "    \n",
    "    print(\"The product is:\", product)\n",
    "\n",
    "# Step 4 - Terminate the loop\n",
    "\n",
    "print(\"The loop has ended.\")\n",
    "\n",
    "# Step 5 - Display the result"
   ]
  },
  {
   "cell_type": "code",
   "execution_count": null,
   "id": "8aa7e53c",
   "metadata": {},
   "outputs": [],
   "source": []
  }
 ],
 "metadata": {
  "kernelspec": {
   "display_name": "Python 3 (ipykernel)",
   "language": "python",
   "name": "python3"
  },
  "language_info": {
   "codemirror_mode": {
    "name": "ipython",
    "version": 3
   },
   "file_extension": ".py",
   "mimetype": "text/x-python",
   "name": "python",
   "nbconvert_exporter": "python",
   "pygments_lexer": "ipython3",
   "version": "3.11.4"
  }
 },
 "nbformat": 4,
 "nbformat_minor": 5
}
