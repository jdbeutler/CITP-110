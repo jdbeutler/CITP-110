{
 "cells": [
  {
   "cell_type": "markdown",
   "id": "9f2485a7",
   "metadata": {},
   "source": [
    "# Chapter 4 - Exercises\n",
    "Working with the 5th edition text.\n",
    "\n",
    "Algorithm Workbench: Problem 1"
   ]
  },
  {
   "cell_type": "code",
   "execution_count": 1,
   "id": "62e2a272",
   "metadata": {},
   "outputs": [
    {
     "name": "stdout",
     "output_type": "stream",
     "text": [
      "Please enter a number: 1\n"
     ]
    },
    {
     "ename": "NameError",
     "evalue": "name 'product' is not defined",
     "output_type": "error",
     "traceback": [
      "\u001b[1;31m---------------------------------------------------------------------------\u001b[0m",
      "\u001b[1;31mNameError\u001b[0m                                 Traceback (most recent call last)",
      "Cell \u001b[1;32mIn[1], line 7\u001b[0m\n\u001b[0;32m      3\u001b[0m user_input \u001b[38;5;241m=\u001b[39m \u001b[38;5;28mint\u001b[39m(\u001b[38;5;28minput\u001b[39m(\u001b[38;5;124m\"\u001b[39m\u001b[38;5;124mPlease enter a number: \u001b[39m\u001b[38;5;124m\"\u001b[39m))\n\u001b[0;32m      5\u001b[0m \u001b[38;5;66;03m# Step 2 - Create a loop\u001b[39;00m\n\u001b[1;32m----> 7\u001b[0m \u001b[38;5;28;01mwhile\u001b[39;00m product \u001b[38;5;241m<\u001b[39m \u001b[38;5;241m100\u001b[39m:\n\u001b[0;32m      8\u001b[0m \n\u001b[0;32m      9\u001b[0m \u001b[38;5;66;03m# Step 3 - Calculate user input * 10 while product < 100\u001b[39;00m\n\u001b[0;32m     11\u001b[0m     product \u001b[38;5;241m=\u001b[39m user_input \u001b[38;5;241m*\u001b[39m \u001b[38;5;241m10\u001b[39m\n\u001b[0;32m     12\u001b[0m     \u001b[38;5;28mprint\u001b[39m(\u001b[38;5;124m\"\u001b[39m\u001b[38;5;124mThe product is:\u001b[39m\u001b[38;5;124m\"\u001b[39m, product)\n",
      "\u001b[1;31mNameError\u001b[0m: name 'product' is not defined"
     ]
    }
   ],
   "source": [
    "# Step 1 - get user input for number less than 100.\n",
    "\n",
    "user_input = int(input(\"Please enter a number: \"))\n",
    "\n",
    "# Step 2 - Create a loop\n",
    "\n",
    "while product < 100:\n",
    "\n",
    "# Step 3 - Calculate user input * 10 while product < 100\n",
    "    \n",
    "    product = user_input * 10\n",
    "    print(\"The product is:\", product)\n",
    "\n",
    "# Step 4 - Terminate the loop\n",
    "\n",
    "print(\"The loop has ended.\")\n",
    "\n",
    "# Step 5 - Display the result"
   ]
  },
  {
   "cell_type": "code",
   "execution_count": null,
   "id": "fd526486",
   "metadata": {},
   "outputs": [],
   "source": []
  }
 ],
 "metadata": {
  "kernelspec": {
   "display_name": "Python 3 (ipykernel)",
   "language": "python",
   "name": "python3"
  },
  "language_info": {
   "codemirror_mode": {
    "name": "ipython",
    "version": 3
   },
   "file_extension": ".py",
   "mimetype": "text/x-python",
   "name": "python",
   "nbconvert_exporter": "python",
   "pygments_lexer": "ipython3",
   "version": "3.11.4"
  }
 },
 "nbformat": 4,
 "nbformat_minor": 5
}
