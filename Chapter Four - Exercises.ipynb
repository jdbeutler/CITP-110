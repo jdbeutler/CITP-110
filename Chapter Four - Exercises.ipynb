{
 "cells": [
  {
   "cell_type": "markdown",
   "id": "72a88a74",
   "metadata": {},
   "source": [
    "# Chapter 4 - Exercises\n",
    "Working with the 5th edition text.\n",
    "\n",
    "Algorithm Workbench: Problem 1"
   ]
  },
  {
   "cell_type": "code",
   "execution_count": 1,
   "id": "fa0bf851",
   "metadata": {},
   "outputs": [
    {
     "name": "stdout",
     "output_type": "stream",
     "text": [
      "Please enter a number under 100: .004\n",
      "The product is: 0.04\n",
      "The product is: 0.4\n",
      "The product is: 4.0\n",
      "The product is: 40.0\n",
      "The product is: 400.0\n",
      "The loop has ended.\n"
     ]
    }
   ],
   "source": [
    "# Step 1 - get user input for number less than 100.\n",
    "\n",
    "product = float(input(\"Please enter a number under 100: \"))\n",
    "\n",
    "# Step 2 - Create a loop\n",
    "\n",
    "while product < 100: # This starts the loop\n",
    "\n",
    "# Step 3 - Calculate user input * 10 while product < 100\n",
    "    \n",
    "    product *= 10 # I'm telling the program to multiply by 10 while the result is less than 100.\n",
    "    \n",
    "# Step 4 - print the result\n",
    "\n",
    "    print(\"The product is:\", product)\n",
    "\n",
    "# Step 5 - Terminate the loop\n",
    "\n",
    "print(\"The loop has ended.\")"
   ]
  },
  {
   "cell_type": "markdown",
   "id": "0d63174a",
   "metadata": {},
   "source": [
    "# Problem Two - Algorithm Workbench"
   ]
  },
  {
   "cell_type": "code",
   "execution_count": 6,
   "id": "c43afa0a",
   "metadata": {},
   "outputs": [
    {
     "name": "stdout",
     "output_type": "stream",
     "text": [
      "Please enter your first number: 2\n",
      "Please enter your second number: 3\n",
      "The sum of both numbers is 5.0.\n",
      "Do you want to perform the operation again? (yes/no): yes\n",
      "Please enter your first number: 4\n",
      "Please enter your second number: 5\n",
      "The sum of both numbers is 9.0.\n",
      "Do you want to perform the operation again? (yes/no): no\n",
      "The loop has ended.\n"
     ]
    }
   ],
   "source": [
    "# Step one - initialize a variable - made this mistake on the first one\n",
    "\n",
    "continue_calculation = 'yes' #need to identify yes as a string\n",
    "\n",
    "# Step two - Start a while loop\n",
    "\n",
    "while continue_calculation == 'yes': #removed the parenthesis, .\n",
    "\n",
    "# Step three - ask the user to enter two numbers\n",
    "    \n",
    "    num1 = float(input(\"Please enter your first number: \"))\n",
    "    num2 = float(input(\"Please enter your second number: \"))\n",
    "\n",
    "# Step four - Calculate the sum of the two user numbers\n",
    "\n",
    "    sum_sum = num1 + num2 #was using sum, a reserved word, swapped to sum_sum.\n",
    "\n",
    "# Step five - print the sum\n",
    "\n",
    "    print(f\"The sum of both numbers is {sum_sum}.\")\n",
    "\n",
    "# Step six - ask user if they want to calculate again\n",
    "\n",
    "    continue_calculation = input(\"Do you want to perform the operation again? (yes/no): \")\n",
    "\n",
    "# Step seven - terminate the loop.\n",
    "\n",
    "print(\"The loop has ended.\")"
   ]
  },
  {
   "cell_type": "code",
   "execution_count": null,
   "id": "ee984602",
   "metadata": {},
   "outputs": [],
   "source": []
  }
 ],
 "metadata": {
  "kernelspec": {
   "display_name": "Python 3 (ipykernel)",
   "language": "python",
   "name": "python3"
  },
  "language_info": {
   "codemirror_mode": {
    "name": "ipython",
    "version": 3
   },
   "file_extension": ".py",
   "mimetype": "text/x-python",
   "name": "python",
   "nbconvert_exporter": "python",
   "pygments_lexer": "ipython3",
   "version": "3.11.4"
  }
 },
 "nbformat": 4,
 "nbformat_minor": 5
}
