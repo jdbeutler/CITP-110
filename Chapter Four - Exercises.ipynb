{
 "cells": [
  {
   "cell_type": "markdown",
   "id": "34e5b76f",
   "metadata": {},
   "source": [
    "# Chapter 4 - Exercises\n",
    "Working with the 5th edition text.\n",
    "\n",
    "Algorithm Workbench: Problem 1"
   ]
  },
  {
   "cell_type": "code",
   "execution_count": null,
   "id": "57715ea5",
   "metadata": {},
   "outputs": [],
   "source": [
    "#Step 1 - get user input for number less than 100.\n",
    "\n",
    "#Step 2 - "
   ]
  }
 ],
 "metadata": {
  "kernelspec": {
   "display_name": "Python 3 (ipykernel)",
   "language": "python",
   "name": "python3"
  },
  "language_info": {
   "codemirror_mode": {
    "name": "ipython",
    "version": 3
   },
   "file_extension": ".py",
   "mimetype": "text/x-python",
   "name": "python",
   "nbconvert_exporter": "python",
   "pygments_lexer": "ipython3",
   "version": "3.11.4"
  }
 },
 "nbformat": 4,
 "nbformat_minor": 5
}
