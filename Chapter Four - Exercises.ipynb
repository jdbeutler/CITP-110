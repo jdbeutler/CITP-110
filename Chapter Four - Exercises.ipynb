{
 "cells": [
  {
   "cell_type": "markdown",
   "id": "1e4eb719",
   "metadata": {},
   "source": [
    "# Chapter 4 - Exercises\n",
    "\n",
    "Working with the 5th edition text for all problems.\n",
    "\n",
    "Algorithm Workbench: Problem 1"
   ]
  },
  {
   "cell_type": "code",
   "execution_count": 1,
   "id": "01e9bf55",
   "metadata": {},
   "outputs": [
    {
     "name": "stdout",
     "output_type": "stream",
     "text": [
      "Please enter a number under 100: .004\n",
      "The product is: 0.04\n",
      "The product is: 0.4\n",
      "The product is: 4.0\n",
      "The product is: 40.0\n",
      "The product is: 400.0\n",
      "The loop has ended.\n"
     ]
    }
   ],
   "source": [
    "# Step 1 - get user input for number less than 100.\n",
    "\n",
    "product = float(input(\"Please enter a number under 100: \"))\n",
    "\n",
    "# Step 2 - Create a loop\n",
    "\n",
    "while product < 100: # This starts the loop\n",
    "\n",
    "# Step 3 - Calculate user input * 10 while product < 100\n",
    "    \n",
    "    product *= 10 # I'm telling the program to multiply by 10 while the result is less than 100.\n",
    "    \n",
    "# Step 4 - print the result\n",
    "\n",
    "    print(\"The product is:\", product)\n",
    "\n",
    "# Step 5 - Terminate the loop\n",
    "\n",
    "print(\"The loop has ended.\")"
   ]
  },
  {
   "cell_type": "markdown",
   "id": "e121ea25",
   "metadata": {},
   "source": [
    "# Problem Two - Algorithm Workbench"
   ]
  },
  {
   "cell_type": "code",
   "execution_count": 6,
   "id": "ad7e939a",
   "metadata": {},
   "outputs": [
    {
     "name": "stdout",
     "output_type": "stream",
     "text": [
      "Please enter your first number: 2\n",
      "Please enter your second number: 3\n",
      "The sum of both numbers is 5.0.\n",
      "Do you want to perform the operation again? (yes/no): yes\n",
      "Please enter your first number: 4\n",
      "Please enter your second number: 5\n",
      "The sum of both numbers is 9.0.\n",
      "Do you want to perform the operation again? (yes/no): no\n",
      "The loop has ended.\n"
     ]
    }
   ],
   "source": [
    "# Step one - initialize a variable - made this mistake on the first one\n",
    "\n",
    "continue_calculation = 'yes' #need to identify yes as a string\n",
    "\n",
    "# Step two - Start a while loop\n",
    "\n",
    "while continue_calculation == 'yes': #removed the parenthesis, .\n",
    "\n",
    "# Step three - ask the user to enter two numbers\n",
    "    \n",
    "    num1 = float(input(\"Please enter your first number: \"))\n",
    "    num2 = float(input(\"Please enter your second number: \"))\n",
    "\n",
    "# Step four - Calculate the sum of the two user numbers\n",
    "\n",
    "    sum_sum = num1 + num2 #was using sum, a reserved word, swapped to sum_sum.\n",
    "\n",
    "# Step five - print the sum\n",
    "\n",
    "    print(f\"The sum of both numbers is {sum_sum}.\")\n",
    "\n",
    "# Step six - ask user if they want to calculate again\n",
    "\n",
    "    continue_calculation = input(\"Do you want to perform the operation again? (yes/no): \")\n",
    "\n",
    "# Step seven - terminate the loop.\n",
    "\n",
    "print(\"The loop has ended.\")"
   ]
  },
  {
   "cell_type": "markdown",
   "id": "1c3fdcf1",
   "metadata": {},
   "source": [
    "# Problem Four"
   ]
  },
  {
   "cell_type": "code",
   "execution_count": 8,
   "id": "d1f3b4b5",
   "metadata": {},
   "outputs": [
    {
     "name": "stdout",
     "output_type": "stream",
     "text": [
      "Enter number: 1\n",
      "Enter number: 2\n",
      "Enter number: 3\n",
      "Enter number: 4\n",
      "Enter number: 5\n",
      "Enter number: 6\n",
      "Enter number: 7\n",
      "Enter number: 8\n",
      "Enter number: 9\n",
      "Enter number: 9\n",
      "The total sum of all the numbers entered is: 54.0\n"
     ]
    }
   ],
   "source": [
    "# Step one - I need to initialize a counter to ensure the program runs 10\n",
    "# times, and I also need to keep a total sum as we go.\n",
    "\n",
    "counter = 0\n",
    "total_sum = 0\n",
    "\n",
    "# Step two - create a while loop with counter variable < 10.\n",
    "\n",
    "while counter < 10:\n",
    "\n",
    "# Step three - Get the user to enter a number.\n",
    "\n",
    "    user_input = float(input(\"Enter number: \"))\n",
    "\n",
    "# Step four - Add that number to the running total sum\n",
    "\n",
    "    total_sum += user_input\n",
    "\n",
    "# Step five - Add 1 to the counter when the user inputs a number.\n",
    "\n",
    "    counter += 1\n",
    "\n",
    "# Step six - Display the total final sum when the loop has hit 10 on the counter\n",
    "\n",
    "print(f\"The total sum of all the numbers entered is: {total_sum}\")"
   ]
  },
  {
   "cell_type": "code",
   "execution_count": null,
   "id": "6b39f7ee",
   "metadata": {},
   "outputs": [],
   "source": []
  }
 ],
 "metadata": {
  "kernelspec": {
   "display_name": "Python 3 (ipykernel)",
   "language": "python",
   "name": "python3"
  },
  "language_info": {
   "codemirror_mode": {
    "name": "ipython",
    "version": 3
   },
   "file_extension": ".py",
   "mimetype": "text/x-python",
   "name": "python",
   "nbconvert_exporter": "python",
   "pygments_lexer": "ipython3",
   "version": "3.11.4"
  }
 },
 "nbformat": 4,
 "nbformat_minor": 5
}
