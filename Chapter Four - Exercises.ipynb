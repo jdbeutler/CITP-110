{
 "cells": [
  {
   "cell_type": "markdown",
   "id": "20a07023",
   "metadata": {},
   "source": [
    "# Chapter 4 - Exercises\n",
    "Working with the 5th edition text.\n",
    "\n",
    "Algorithm Workbench: Problem 1"
   ]
  },
  {
   "cell_type": "code",
   "execution_count": 1,
   "id": "a0fcfa76",
   "metadata": {},
   "outputs": [
    {
     "name": "stdout",
     "output_type": "stream",
     "text": [
      "Please enter a number under 100: .004\n",
      "The product is: 0.04\n",
      "The product is: 0.4\n",
      "The product is: 4.0\n",
      "The product is: 40.0\n",
      "The product is: 400.0\n",
      "The loop has ended.\n"
     ]
    }
   ],
   "source": [
    "# Step 1 - get user input for number less than 100.\n",
    "\n",
    "product = float(input(\"Please enter a number under 100: \"))\n",
    "\n",
    "# Step 2 - Create a loop\n",
    "\n",
    "while product < 100: # This starts the loop\n",
    "\n",
    "# Step 3 - Calculate user input * 10 while product < 100\n",
    "    \n",
    "    product *= 10 # I'm telling the program to multiply by 10 while the result is less than 100.\n",
    "    \n",
    "# Step 4 - print the result\n",
    "\n",
    "    print(\"The product is:\", product)\n",
    "\n",
    "# Step 5 - Terminate the loop\n",
    "\n",
    "print(\"The loop has ended.\")"
   ]
  },
  {
   "cell_type": "code",
   "execution_count": null,
   "id": "19665898",
   "metadata": {},
   "outputs": [],
   "source": []
  }
 ],
 "metadata": {
  "kernelspec": {
   "display_name": "Python 3 (ipykernel)",
   "language": "python",
   "name": "python3"
  },
  "language_info": {
   "codemirror_mode": {
    "name": "ipython",
    "version": 3
   },
   "file_extension": ".py",
   "mimetype": "text/x-python",
   "name": "python",
   "nbconvert_exporter": "python",
   "pygments_lexer": "ipython3",
   "version": "3.11.4"
  }
 },
 "nbformat": 4,
 "nbformat_minor": 5
}
