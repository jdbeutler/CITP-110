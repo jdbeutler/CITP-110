{
 "cells": [
  {
   "cell_type": "markdown",
   "id": "813864b4",
   "metadata": {},
   "source": [
    "# Chapter Nine - Programming Exercise 2\n",
    "Write a program that creates a dictionary containing the U.S. states as keys, and their capitals as values. (Use the Internet to get a list of the states and their capitals.) The program\n",
    "should then randomly quiz the user by displaying the name of a state and asking the user\n",
    "to enter that state’s capital. The program should keep a count of the number of correct and\n",
    "incorrect responses. (As an alternative to the U.S. states, the program can use the names of\n",
    "countries and their capitals.)"
   ]
  },
  {
   "cell_type": "code",
   "execution_count": null,
   "id": "2814a744",
   "metadata": {},
   "outputs": [],
   "source": [
    "# Step one - Build the dictionary\n",
    "\n",
    "# Step two - "
   ]
  }
 ],
 "metadata": {
  "kernelspec": {
   "display_name": "Python 3 (ipykernel)",
   "language": "python",
   "name": "python3"
  },
  "language_info": {
   "codemirror_mode": {
    "name": "ipython",
    "version": 3
   },
   "file_extension": ".py",
   "mimetype": "text/x-python",
   "name": "python",
   "nbconvert_exporter": "python",
   "pygments_lexer": "ipython3",
   "version": "3.11.4"
  }
 },
 "nbformat": 4,
 "nbformat_minor": 5
}
