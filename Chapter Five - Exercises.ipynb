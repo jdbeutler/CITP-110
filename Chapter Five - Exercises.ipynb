{
 "cells": [
  {
   "cell_type": "markdown",
   "id": "55307312",
   "metadata": {},
   "source": [
    "# Chapter Five Exercises\n",
    "Workbench 2 problems, exercises 1, 17, 18, and ?"
   ]
  },
  {
   "cell_type": "code",
   "execution_count": null,
   "id": "5bd71cd3",
   "metadata": {},
   "outputs": [],
   "source": [
    "# Alg workbench problem 1\n",
    "# Write a function named times_ten. The function should accept an argument and\n",
    "# display the product of its argument multiplied times 10."
   ]
  },
  {
   "cell_type": "code",
   "execution_count": null,
   "id": "d5e3982d",
   "metadata": {},
   "outputs": [],
   "source": [
    "# Step one - define function\n",
    "\n",
    "def ten_times():\n",
    "    \n",
    "# Step two - get a value from the user\n",
    "\n",
    "    user_input = input(\"Enter a number: \")\n",
    "    \n",
    "# Step three - convert number to a float from a string\n",
    "\n",
    "    user_number = float(user_input)\n",
    "\n",
    "# Step four - do the math\n",
    "\n",
    "    result = user_number * 10\n",
    "\n",
    "# Step five - print result\n",
    "\n",
    "    print(\"Result:\", result) #ChatGPT caught this error for me\n",
    "    \n",
    "# Step six - call the function\n",
    "\n",
    "ten_times()"
   ]
  },
  {
   "cell_type": "markdown",
   "id": "52f04331",
   "metadata": {},
   "source": [
    "# Alg Workbench problem 2"
   ]
  },
  {
   "cell_type": "code",
   "execution_count": null,
   "id": "6c960684",
   "metadata": {},
   "outputs": [],
   "source": [
    "# Examine the following function header, then write a statement that calls the function,\n",
    "# passing 12 as an argument.\n",
    "# def show_value(quantity):"
   ]
  },
  {
   "cell_type": "code",
   "execution_count": null,
   "id": "948e4cde",
   "metadata": {},
   "outputs": [],
   "source": [
    "# Step one - define function header\n",
    "\n",
    "def show_value(quantity):\n",
    "\n",
    "# Step two - call the function w/ an argument\n",
    "\n",
    "    show_value(12)\n",
    "    \n",
    "# This defines the function show_value, function code would define what I would\n",
    "# want to do with quantity"
   ]
  },
  {
   "cell_type": "markdown",
   "id": "dc872828",
   "metadata": {},
   "source": [
    "# Programming Exercise 1"
   ]
  },
  {
   "cell_type": "code",
   "execution_count": 1,
   "id": "6adaac1c",
   "metadata": {},
   "outputs": [
    {
     "name": "stdout",
     "output_type": "stream",
     "text": [
      "Enter a distance in kilometers: 45\n",
      "45.0 km is equal to 27.962999999999997 miles.\n"
     ]
    }
   ],
   "source": [
    "# Step one - ask user to enter a distance in kilometers.\n",
    "\n",
    "kilometers = float(input(\"Enter a distance in kilometers: \"))\n",
    "\n",
    "# Step two - use the conversion formula to calculate distance in miles.\n",
    "\n",
    "miles = kilometers * 0.6214\n",
    "\n",
    "# Step three - display miles to user\n",
    "\n",
    "print(f\"{kilometers} km is equal to {miles} miles.\")\n",
    "\n",
    "# Wrong approach for this assignment type - but useful to help me work"
   ]
  },
  {
   "cell_type": "code",
   "execution_count": 7,
   "id": "3b91adf1",
   "metadata": {
    "scrolled": true
   },
   "outputs": [
    {
     "name": "stdout",
     "output_type": "stream",
     "text": [
      "Enter a distance in kilometers: 66\n",
      "66.0 kilometers is equal to 41.0124 miles.\n"
     ]
    }
   ],
   "source": [
    "# Ask user for distance in km.\n",
    "\n",
    "def get_distance_in_km():\n",
    "    kilometers = float(input(\"Enter a distance in kilometers: \"))\n",
    "    return kilometers\n",
    "\n",
    "# Convert km to miles\n",
    "\n",
    "def km_to_miles(kilometers): #ChatGPT caught this - needed to pass kilometers variable as an argument.\n",
    "    miles = kilometers * 0.6214\n",
    "    return miles\n",
    "    \n",
    "# Display converted distance in miles\n",
    "\n",
    "def the_output():\n",
    "    kilometers = get_distance_in_km()\n",
    "    miles = km_to_miles(kilometers) #same issue as above - fixed\n",
    "    print(f\"{kilometers} kilometers is equal to {miles} miles.\")\n",
    "    \n",
    "# Call the function\n",
    "\n",
    "the_output()"
   ]
  },
  {
   "cell_type": "markdown",
   "id": "20e7e9d0",
   "metadata": {},
   "source": [
    "# Programming Exercise - 3\n",
    "How much Insurance?\n",
    "Many financial experts advise that property owners should insure their homes or buildings\n",
    "for at least 80 percent of the amount it would cost to replace the structure. Write a program\n",
    "that asks the user to enter the replacement cost of a building, then displays the minimum\n",
    "amount of insurance he or she should buy for the property."
   ]
  },
  {
   "cell_type": "code",
   "execution_count": 8,
   "id": "fcb2bc67",
   "metadata": {},
   "outputs": [
    {
     "ename": "SyntaxError",
     "evalue": "unterminated string literal (detected at line 17) (2617608445.py, line 17)",
     "output_type": "error",
     "traceback": [
      "\u001b[1;36m  Cell \u001b[1;32mIn[8], line 17\u001b[1;36m\u001b[0m\n\u001b[1;33m    print(f\"You should buy at least ${min_insurance:.2f} in insurance for your property)\u001b[0m\n\u001b[1;37m          ^\u001b[0m\n\u001b[1;31mSyntaxError\u001b[0m\u001b[1;31m:\u001b[0m unterminated string literal (detected at line 17)\n"
     ]
    }
   ],
   "source": [
    "# Step one - build the function to calculate insurance based on replacement cost\n",
    "\n",
    "def calculate_insurance():\n",
    "    minimum_coverage = .8 * replacement_cost\n",
    "    return minimum_coverage\n",
    "\n",
    "# Step two - get the replacement cost from user\n",
    "\n",
    "replacement_cost = float(input(\"Enter the replacement cost of the building: \"))\n",
    "\n",
    "# Step three - calculate the minimum insurance coverage\n",
    "\n",
    "min_insurance = calculate_insurance()\n",
    "\n",
    "# Step four - display the result\n",
    "\n",
    "print(f\"You should buy at least ${min_insurance:.2f} in insurance for your property)"
   ]
  },
  {
   "cell_type": "code",
   "execution_count": null,
   "id": "827c3586",
   "metadata": {},
   "outputs": [],
   "source": []
  }
 ],
 "metadata": {
  "kernelspec": {
   "display_name": "Python 3 (ipykernel)",
   "language": "python",
   "name": "python3"
  },
  "language_info": {
   "codemirror_mode": {
    "name": "ipython",
    "version": 3
   },
   "file_extension": ".py",
   "mimetype": "text/x-python",
   "name": "python",
   "nbconvert_exporter": "python",
   "pygments_lexer": "ipython3",
   "version": "3.11.4"
  }
 },
 "nbformat": 4,
 "nbformat_minor": 5
}
