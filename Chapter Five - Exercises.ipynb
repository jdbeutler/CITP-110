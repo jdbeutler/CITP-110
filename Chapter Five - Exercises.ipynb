{
 "cells": [
  {
   "cell_type": "markdown",
   "id": "d1abc7c6",
   "metadata": {},
   "source": [
    "# Chapter Five Exercises\n",
    "Workbench 2 problems, exercises 1, 17, 18, and ?"
   ]
  },
  {
   "cell_type": "code",
   "execution_count": 1,
   "id": "31326a0d",
   "metadata": {},
   "outputs": [],
   "source": [
    "# Alg workbench problem 1\n",
    "# Write a function named times_ten. The function should accept an argument and\n",
    "# display the product of its argument multiplied times 10."
   ]
  },
  {
   "cell_type": "code",
   "execution_count": 4,
   "id": "1303d2e2",
   "metadata": {},
   "outputs": [],
   "source": [
    "# Step one - define function\n",
    "\n",
    "def ten_times(number):\n",
    "    \n",
    "# Step two - get a value from the user\n",
    "\n",
    "    user_input = input(\"Enter a number: \")\n",
    "    \n",
    "# Step three - convert number to a float from a string\n",
    "\n",
    "    user_number = float(user_input)\n",
    "\n",
    "# Step four - do the math\n",
    "\n",
    "    result = user_number * 10\n",
    "\n",
    "# Step five - print result\n",
    "\n",
    "    print(\"Result:\")"
   ]
  },
  {
   "cell_type": "code",
   "execution_count": null,
   "id": "82a629c8",
   "metadata": {},
   "outputs": [],
   "source": []
  }
 ],
 "metadata": {
  "kernelspec": {
   "display_name": "Python 3 (ipykernel)",
   "language": "python",
   "name": "python3"
  },
  "language_info": {
   "codemirror_mode": {
    "name": "ipython",
    "version": 3
   },
   "file_extension": ".py",
   "mimetype": "text/x-python",
   "name": "python",
   "nbconvert_exporter": "python",
   "pygments_lexer": "ipython3",
   "version": "3.11.4"
  }
 },
 "nbformat": 4,
 "nbformat_minor": 5
}
