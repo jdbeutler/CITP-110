{
 "cells": [
  {
   "cell_type": "markdown",
   "id": "6ff24c96",
   "metadata": {},
   "source": [
    "# Chapter 8 - Exercises\n",
    "Alg WB Problem 1"
   ]
  },
  {
   "cell_type": "markdown",
   "id": "3a46bffa",
   "metadata": {},
   "source": [
    "Assume choice references a string. The following if statement determines whether\n",
    "choice is equal to ‘Y’ or ‘y’:\n",
    "if choice == 'Y' or choice == 'y':\n",
    "Rewrite this statement so it only makes one comparison, and does not use the or\n",
    "operator. (Hint: use either the upper or lower methods.)"
   ]
  },
  {
   "cell_type": "code",
   "execution_count": null,
   "id": "799e8778",
   "metadata": {},
   "outputs": [],
   "source": [
    "# Going to use the upper() function to compare the input and see if it's true.\n",
    "\n",
    "if choice.upper () == 'Y':\n",
    "    \n",
    "# If the input was Y, it should report as true, if it isn't, it'll report as false."
   ]
  },
  {
   "cell_type": "markdown",
   "id": "f8ad5b90",
   "metadata": {},
   "source": [
    "# Alg WB problem 10\n",
    "Look at the following statement:\n",
    "mystring = 'cookies>milk>fudge>cake>ice cream'\n",
    "Write a statement that splits this string, creating the following list:\n",
    "['cookies', 'milk', 'fudge', 'cake', 'ice cream']"
   ]
  },
  {
   "cell_type": "code",
   "execution_count": 2,
   "id": "e0d4b01f",
   "metadata": {},
   "outputs": [
    {
     "name": "stdout",
     "output_type": "stream",
     "text": [
      "['cookies', 'milk', 'fudge', 'cake', 'ice cream']\n"
     ]
    }
   ],
   "source": [
    "# need to split this string with > as the delimiter\n",
    "\n",
    "mystring = \"cookies>milk>fudge>cake>ice cream\"\n",
    "\n",
    "snacklist = mystring.split('>')\n",
    "\n",
    "print(snacklist)"
   ]
  },
  {
   "cell_type": "markdown",
   "id": "4c1b4607",
   "metadata": {},
   "source": [
    "# Programming Exercise 1\n",
    "Write a program that gets a string containing a person’s first, middle, and last names, and\n",
    "displays their first, middle, and last initials. For example, if the user enters John William\n",
    "Smith, the program should display J. W. S."
   ]
  },
  {
   "cell_type": "code",
   "execution_count": 3,
   "id": "ff3dce65",
   "metadata": {},
   "outputs": [
    {
     "ename": "SyntaxError",
     "evalue": "invalid syntax (739773106.py, line 7)",
     "output_type": "error",
     "traceback": [
      "\u001b[1;36m  Cell \u001b[1;32mIn[3], line 7\u001b[1;36m\u001b[0m\n\u001b[1;33m    names = full_name.split():\u001b[0m\n\u001b[1;37m                             ^\u001b[0m\n\u001b[1;31mSyntaxError\u001b[0m\u001b[1;31m:\u001b[0m invalid syntax\n"
     ]
    }
   ],
   "source": [
    "# Step one - get user input\n",
    "\n",
    "full_name = input(\"Please enter your full name, including middle name: \")\n",
    "\n",
    "# Step two - split the name string into individual names to breakdown\n",
    "\n",
    "names = full_name.split():\n",
    "\n",
    "# Step three - get the first initial of each name - need to use len to check number of elements in string.\n",
    "\n",
    "if len(names) != 3:\n",
    "    print(\"Please enter your first, middle, and last name.\")\n",
    "\n",
    "else:\n",
    "    first_initial = names[0][0]\n",
    "    middle_initial = names[1][0]\n",
    "    last_initial = names[2][0]\n",
    "    \n",
    "# Step four - display the initials\n",
    "\n",
    "print(f\"Your initials are: {first_initial}, {middle_initial}, {last_initial}\")"
   ]
  },
  {
   "cell_type": "code",
   "execution_count": null,
   "id": "8209b3b7",
   "metadata": {},
   "outputs": [],
   "source": []
  }
 ],
 "metadata": {
  "kernelspec": {
   "display_name": "Python 3 (ipykernel)",
   "language": "python",
   "name": "python3"
  },
  "language_info": {
   "codemirror_mode": {
    "name": "ipython",
    "version": 3
   },
   "file_extension": ".py",
   "mimetype": "text/x-python",
   "name": "python",
   "nbconvert_exporter": "python",
   "pygments_lexer": "ipython3",
   "version": "3.11.4"
  }
 },
 "nbformat": 4,
 "nbformat_minor": 5
}
