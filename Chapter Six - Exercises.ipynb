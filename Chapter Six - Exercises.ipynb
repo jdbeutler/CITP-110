{
 "cells": [
  {
   "cell_type": "markdown",
   "id": "e91a47d8",
   "metadata": {},
   "source": [
    "# Chapter Six Exercises\n",
    "Alg workbench - any 2\n",
    "Prog exercises 1, 6, 9, and ?"
   ]
  },
  {
   "cell_type": "markdown",
   "id": "acfdc2a3",
   "metadata": {},
   "source": [
    "# Algorithm Workbench - Problem 1\n",
    "Write a program that opens an output file with the filename my_name.txt, writes your\n",
    "name to the file, then closes the file."
   ]
  },
  {
   "cell_type": "code",
   "execution_count": 6,
   "id": "36570c08",
   "metadata": {},
   "outputs": [
    {
     "ename": "NameError",
     "evalue": "name 'file_write' is not defined",
     "output_type": "error",
     "traceback": [
      "\u001b[1;31m---------------------------------------------------------------------------\u001b[0m",
      "\u001b[1;31mNameError\u001b[0m                                 Traceback (most recent call last)",
      "Cell \u001b[1;32mIn[6], line 10\u001b[0m\n\u001b[0;32m      8\u001b[0m     \u001b[38;5;28;01mwith\u001b[39;00m \u001b[38;5;28mopen\u001b[39m(file_name, \u001b[38;5;124m'\u001b[39m\u001b[38;5;124mw\u001b[39m\u001b[38;5;124m'\u001b[39m) \u001b[38;5;28;01mas\u001b[39;00m file:\n\u001b[0;32m      9\u001b[0m         your_name \u001b[38;5;241m=\u001b[39m \u001b[38;5;124m\"\u001b[39m\u001b[38;5;124mJames Beutler\u001b[39m\u001b[38;5;124m\"\u001b[39m\n\u001b[1;32m---> 10\u001b[0m         file_write(your_name)\n\u001b[0;32m     12\u001b[0m \u001b[38;5;66;03m# Step three - Close file\u001b[39;00m\n\u001b[0;32m     14\u001b[0m     \u001b[38;5;28mprint\u001b[39m(\u001b[38;5;124mf\u001b[39m\u001b[38;5;124m\"\u001b[39m\u001b[38;5;124mYour name is now written to \u001b[39m\u001b[38;5;132;01m{\u001b[39;00mfile_name\u001b[38;5;132;01m}\u001b[39;00m\u001b[38;5;124m\"\u001b[39m)\n",
      "\u001b[1;31mNameError\u001b[0m: name 'file_write' is not defined"
     ]
    }
   ],
   "source": [
    "# Step one - Open file\n",
    "\n",
    "file_name = \"my_name.txt\"\n",
    "\n",
    "# Step two - Write name, to file\n",
    "\n",
    "try:\n",
    "    with open(file_name, 'w') as file:\n",
    "        your_name = \"James Beutler\"\n",
    "        file_write(your_name)\n",
    "        \n",
    "# Step three - Close file\n",
    "\n",
    "    print(f\"Your name is now written to {file_name}\")\n",
    "\n",
    "except IOError as e:\n",
    "    print(\"An error occured.\")"
   ]
  },
  {
   "cell_type": "code",
   "execution_count": null,
   "id": "de6b115d",
   "metadata": {},
   "outputs": [],
   "source": []
  },
  {
   "cell_type": "code",
   "execution_count": null,
   "id": "70cb65c3",
   "metadata": {},
   "outputs": [],
   "source": []
  }
 ],
 "metadata": {
  "kernelspec": {
   "display_name": "Python 3 (ipykernel)",
   "language": "python",
   "name": "python3"
  },
  "language_info": {
   "codemirror_mode": {
    "name": "ipython",
    "version": 3
   },
   "file_extension": ".py",
   "mimetype": "text/x-python",
   "name": "python",
   "nbconvert_exporter": "python",
   "pygments_lexer": "ipython3",
   "version": "3.11.4"
  }
 },
 "nbformat": 4,
 "nbformat_minor": 5
}
