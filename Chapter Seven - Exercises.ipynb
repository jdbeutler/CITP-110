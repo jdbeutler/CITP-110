{
 "cells": [
  {
   "cell_type": "markdown",
   "id": "ab617730",
   "metadata": {},
   "source": [
    "# Chapter 7 - Exercises\n",
    "Alg WB any 2, prog exercises 1, 14, ?, ?"
   ]
  },
  {
   "cell_type": "markdown",
   "id": "d9dc4733",
   "metadata": {},
   "source": [
    "# Alg WB 1\n",
    "Write a statement that creates a list with the following strings: 'Einstein', 'Newton',\n",
    "'Copernicus', and 'Kepler'."
   ]
  },
  {
   "cell_type": "code",
   "execution_count": 1,
   "id": "63ed721e",
   "metadata": {},
   "outputs": [],
   "source": [
    "science_guys = [\"Einstein\", \"Newton\", \"Copernicus\", \"Kepler\"]\n",
    "\n",
    "# Looks good - will check in chatGPT to be sure.\n",
    "\n",
    "# yup - all set"
   ]
  },
  {
   "cell_type": "markdown",
   "id": "e245f80d",
   "metadata": {},
   "source": [
    "# Alg WB 5\n",
    "Write a function that accepts a list as an argument (assume the list contains integers)\n",
    "and returns the total of the values in the list."
   ]
  },
  {
   "cell_type": "code",
   "execution_count": null,
   "id": "af2093d4",
   "metadata": {},
   "outputs": [],
   "source": [
    "# Step one - call a function that will add up all the integers in the string\n",
    "\n",
    "# Step two - Use the sum function\n",
    "\n",
    "# Step three - return result"
   ]
  }
 ],
 "metadata": {
  "kernelspec": {
   "display_name": "Python 3 (ipykernel)",
   "language": "python",
   "name": "python3"
  },
  "language_info": {
   "codemirror_mode": {
    "name": "ipython",
    "version": 3
   },
   "file_extension": ".py",
   "mimetype": "text/x-python",
   "name": "python",
   "nbconvert_exporter": "python",
   "pygments_lexer": "ipython3",
   "version": "3.11.4"
  }
 },
 "nbformat": 4,
 "nbformat_minor": 5
}
