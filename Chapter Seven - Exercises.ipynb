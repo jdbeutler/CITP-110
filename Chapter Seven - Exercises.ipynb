{
 "cells": [
  {
   "cell_type": "markdown",
   "id": "fcf93956",
   "metadata": {},
   "source": [
    "# Chapter 7 - Exercises\n",
    "Alg WB any 2, prog exercises 1, 14, ?, ?"
   ]
  },
  {
   "cell_type": "markdown",
   "id": "710a277a",
   "metadata": {},
   "source": [
    "# Alg WB 1\n",
    "Write a statement that creates a list with the following strings: 'Einstein', 'Newton',\n",
    "'Copernicus', and 'Kepler'."
   ]
  },
  {
   "cell_type": "code",
   "execution_count": 1,
   "id": "aa5ba615",
   "metadata": {},
   "outputs": [],
   "source": [
    "science_guys = [\"Einstein\", \"Newton\", \"Copernicus\", \"Kepler\"]\n",
    "\n",
    "# Looks good - will check in chatGPT to be sure."
   ]
  },
  {
   "cell_type": "code",
   "execution_count": null,
   "id": "dfb8cebb",
   "metadata": {},
   "outputs": [],
   "source": []
  }
 ],
 "metadata": {
  "kernelspec": {
   "display_name": "Python 3 (ipykernel)",
   "language": "python",
   "name": "python3"
  },
  "language_info": {
   "codemirror_mode": {
    "name": "ipython",
    "version": 3
   },
   "file_extension": ".py",
   "mimetype": "text/x-python",
   "name": "python",
   "nbconvert_exporter": "python",
   "pygments_lexer": "ipython3",
   "version": "3.11.4"
  }
 },
 "nbformat": 4,
 "nbformat_minor": 5
}
