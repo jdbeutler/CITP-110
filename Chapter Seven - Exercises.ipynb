{
 "cells": [
  {
   "cell_type": "markdown",
   "id": "8e00c5b0",
   "metadata": {},
   "source": [
    "# Chapter 7 - Exercises\n",
    "Alg WB any 2, prog exercises 1, 14, ?, ?"
   ]
  },
  {
   "cell_type": "markdown",
   "id": "0b1c3da7",
   "metadata": {},
   "source": [
    "# Alg WB 1\n",
    "Write a statement that creates a list with the following strings: 'Einstein', 'Newton',\n",
    "'Copernicus', and 'Kepler'."
   ]
  },
  {
   "cell_type": "code",
   "execution_count": null,
   "id": "35cfdb25",
   "metadata": {},
   "outputs": [],
   "source": [
    "science_guys = [\"Einstein\", \"Newton\", \"Copernicus\", \"Kepler\"]\n",
    "\n",
    "# Looks good - will check in chatGPT to be sure.\n",
    "\n",
    "# yup - all set"
   ]
  },
  {
   "cell_type": "markdown",
   "id": "d9e4296f",
   "metadata": {},
   "source": [
    "# Alg WB 5\n",
    "Write a function that accepts a list as an argument (assume the list contains integers)\n",
    "and returns the total of the values in the list."
   ]
  },
  {
   "cell_type": "code",
   "execution_count": null,
   "id": "f0e04ec7",
   "metadata": {},
   "outputs": [],
   "source": [
    "# Step one - call a function that will add up all the integers in the string\n",
    "\n",
    "def calculate_total(numbers):\n",
    "\n",
    "# Step two - need a variable\n",
    "\n",
    "    total = 0\n",
    "        \n",
    "    for num in numbers:\n",
    "        try:\n",
    "            num = int(num) # need to convert to an integer\n",
    "            total += num # moving this into the loop\n",
    "        except ValueError:\n",
    "            continue\n",
    "            \n",
    "    return total\n",
    "\n",
    "# Step three - need to call sum\n",
    "answer = calculate_total(['1', '5', '11'])\n",
    "\n",
    "print (answer)\n",
    "\n",
    "# Step four - return result"
   ]
  },
  {
   "cell_type": "markdown",
   "id": "fb201ef7",
   "metadata": {},
   "source": [
    "# Programming Exercise 1\n",
    "Design a program that asks the user to enter a store’s sales for each day of the week. The\n",
    "amounts should be stored in a list. Use a loop to calculate the total sales for the week and\n",
    "display the result."
   ]
  },
  {
   "cell_type": "code",
   "execution_count": null,
   "id": "512fd6af",
   "metadata": {},
   "outputs": [],
   "source": [
    "# Step one - initialize a list\n",
    "\n",
    "sales = []\n",
    "\n",
    "# Step two - Use a loop to input sales for each day\n",
    "# Forgot to define the days of week variable\n",
    "\n",
    "days_of_week = [\"Monday\", \"Tuesday\", \"Wednesday\", \"Thursday\", \"Friday\", \"Saturday\", \"Sunday\"]\n",
    "\n",
    "# whoops - didn't start that loop right\n",
    "\n",
    "for day in days_of_week:\n",
    "    try:\n",
    "        sales_amount = float(input(f\"Enter sales for {day}: $\"))\n",
    "        sales.append(sales_amount)\n",
    "    except ValueError:\n",
    "        print(\"Invalid input. Please input a valid number\")\n",
    "\n",
    "# Step three - calculate total sales for the week\n",
    "\n",
    "total_sales = sum(sales)\n",
    "\n",
    "# Step four - display result\n",
    "\n",
    "print(f\"Total sales for the week: ${total_sales:.2f}\")"
   ]
  },
  {
   "cell_type": "markdown",
   "id": "ed31849c",
   "metadata": {},
   "source": [
    "# Programming Exercise 14\n",
    "Create a text file that contains your expenses for last month in the following categories:\n",
    "• Rent\n",
    "• Gas\n",
    "• Food\n",
    "• Clothing\n",
    "• Car payment\n",
    "• Misc\n",
    "Write a Python program that reads the data from the file and uses matplotlib to plot a pie\n",
    "chart showing how you spend your money."
   ]
  },
  {
   "cell_type": "code",
   "execution_count": null,
   "id": "08bab587",
   "metadata": {
    "scrolled": true
   },
   "outputs": [],
   "source": [
    "import matplotlib.pyplot as plt\n",
    "\n",
    "# whoops - forgot to import matplotlib...\n",
    "# Step one - define function to read file\n",
    "\n",
    "def read_my_expenses(CITPExpenses):\n",
    "    \n",
    "# Step two - create empty directory for expenses\n",
    "\n",
    "    expenses = {}\n",
    "\n",
    "# Step three - create a loop to read through the file\n",
    "    \n",
    "    with open(CITPExpenses, 'r') as file:\n",
    "        for line in file:\n",
    "            expense_type, expense_amount = line.strip().split(': ')\n",
    "            expense_amount = float(expense_amount)\n",
    "            expenses[expense_type] = expense_amount\n",
    "            \n",
    "    return expenses\n",
    "\n",
    "# Step four - store the data\n",
    "\n",
    "# Step five - create pie chart\n",
    "\n",
    "def create_pie_chart(expenses):\n",
    "    categories = list(expenses.keys())\n",
    "    amounts = list(expenses.values())\n",
    "    \n",
    "    plt.figure(figsize=(7, 7))\n",
    "    plt.pie(amounts)\n",
    "    plt.title(\"Expense Chart\")\n",
    "    plt.axis(\"equal\")\n",
    "    plt.show()\n",
    "\n",
    "expense_data = read_my_expenses('CITPExpenses.txt')\n",
    "\n",
    "create_pie_chart(expense_data)    "
   ]
  },
  {
   "cell_type": "markdown",
   "id": "14263dd1",
   "metadata": {},
   "source": [
    "# Programming Exercise 3\n",
    "Design a program that lets the user enter the total rainfall for each of 12 months into a\n",
    "list. The program should calculate and display the total rainfall for the year, the average\n",
    "monthly rainfall, the months with the highest and lowest amounts."
   ]
  },
  {
   "cell_type": "code",
   "execution_count": null,
   "id": "974e7de7",
   "metadata": {},
   "outputs": [],
   "source": [
    "# Step one - create an empty list to store data\n",
    "\n",
    "rainfall_data = []\n",
    "\n",
    "# Step two - Use a for loop to input rainfall\n",
    "\n",
    "months = [\"January\", \"February\", \"March\", \"April\", \"May\", \"June\", \n",
    "          \"July\", \"August\", \"September\", \"October\", \"November\", \"December\"]\n",
    "\n",
    "for month in range(1, 13):\n",
    "    while True:\n",
    "        try:\n",
    "            rainfall = float(input(f\"Enter the rainfall for the month of {months[month - 1]}: \"))\n",
    "            if rainfall >= 0:\n",
    "                rainfall_data.append(rainfall)\n",
    "                break\n",
    "            else:\n",
    "                print(\"Not a valid input\")\n",
    "        except ValueError:\n",
    "            print(\"Error - please enter a valid number\")\n",
    "            \n",
    "# Step three - calculate total rainfall\n",
    "\n",
    "total_rainfall = sum(rainfall_data)\n",
    "\n",
    "# Step four - calculate the average\n",
    "\n",
    "average_rainfall = total_rainfall / len(rainfall_data) # Thanks chatGPT\n",
    "\n",
    "# Step five - find the highest and lowest rainfall months\n",
    "\n",
    "max_rainfall = max(rainfall_data)\n",
    "min_rainfall = min(rainfall_data)\n",
    "\n",
    "max_month = months[rainfall_data.index(max_rainfall)]\n",
    "min_month = months[rainfall_data.index(min_rainfall)]\n",
    "\n",
    "# used ChatGPT to tighten this up - was way off on formatting\n",
    "\n",
    "# Step six - diplay results\n",
    "\n",
    "print(f\"Total rainfall for the year: {total_rainfall} inches\")\n",
    "print(f\"Average monthly rainfall: {average_rainfall:.2f} inches\")\n",
    "print(f\"Month with the highest rainfall: {max_month}\")\n",
    "print(f\"Month with the lowest rainfall: {min_month}\")"
   ]
  },
  {
   "cell_type": "markdown",
   "id": "08759fbd",
   "metadata": {},
   "source": [
    "# Programming Exercise 2\n",
    "Design a program that generates a seven-digit lottery number. The program should generate seven random numbers, each in the range of 0 through 9, and assign each number to a\n",
    "list element. (Random numbers were discussed in Chapter 5.) Then write another loop that\n",
    "displays the contents of the list."
   ]
  },
  {
   "cell_type": "code",
   "execution_count": 1,
   "id": "50b6fca5",
   "metadata": {},
   "outputs": [
    {
     "name": "stdout",
     "output_type": "stream",
     "text": [
      "The winning lotto numbers are: \n",
      "4 9 0 1 8 8 2 "
     ]
    }
   ],
   "source": [
    "# Step one - import random\n",
    "\n",
    "import random\n",
    "\n",
    "# Step two - Initialize variables\n",
    "\n",
    "lotto_numbers = []\n",
    "\n",
    "# Step three - Generate random numbers\n",
    "\n",
    "for _ in range(7):\n",
    "    number = random.randint(0, 9)\n",
    "    lotto_numbers.append(number)\n",
    "\n",
    "# Step four - Display lotto numbers\n",
    "\n",
    "print(\"The winning lotto numbers are: \")\n",
    "for num in lotto_numbers:\n",
    "    print(num, end=\" \")"
   ]
  },
  {
   "cell_type": "code",
   "execution_count": null,
   "id": "468187c8",
   "metadata": {},
   "outputs": [],
   "source": []
  }
 ],
 "metadata": {
  "kernelspec": {
   "display_name": "Python 3 (ipykernel)",
   "language": "python",
   "name": "python3"
  },
  "language_info": {
   "codemirror_mode": {
    "name": "ipython",
    "version": 3
   },
   "file_extension": ".py",
   "mimetype": "text/x-python",
   "name": "python",
   "nbconvert_exporter": "python",
   "pygments_lexer": "ipython3",
   "version": "3.11.4"
  }
 },
 "nbformat": 4,
 "nbformat_minor": 5
}
