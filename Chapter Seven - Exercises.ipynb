{
 "cells": [
  {
   "cell_type": "markdown",
   "id": "d2c02d00",
   "metadata": {},
   "source": [
    "# Chapter 7 - Exercises\n",
    "Alg WB any 2, prog exercises 1, 14, ?, ?"
   ]
  },
  {
   "cell_type": "markdown",
   "id": "2132f03a",
   "metadata": {},
   "source": [
    "# Alg WB 1\n",
    "Write a statement that creates a list with the following strings: 'Einstein', 'Newton',\n",
    "'Copernicus', and 'Kepler'."
   ]
  },
  {
   "cell_type": "code",
   "execution_count": 1,
   "id": "ffedd9e0",
   "metadata": {},
   "outputs": [],
   "source": [
    "science_guys = [\"Einstein\", \"Newton\", \"Copernicus\", \"Kepler\"]\n",
    "\n",
    "# Looks good - will check in chatGPT to be sure.\n",
    "\n",
    "# yup - all set"
   ]
  },
  {
   "cell_type": "markdown",
   "id": "5712a4d5",
   "metadata": {},
   "source": [
    "# Alg WB 5\n",
    "Write a function that accepts a list as an argument (assume the list contains integers)\n",
    "and returns the total of the values in the list."
   ]
  },
  {
   "cell_type": "code",
   "execution_count": 14,
   "id": "49c79c41",
   "metadata": {},
   "outputs": [
    {
     "name": "stdout",
     "output_type": "stream",
     "text": [
      "17\n"
     ]
    }
   ],
   "source": [
    "# Step one - call a function that will add up all the integers in the string\n",
    "\n",
    "def calculate_total(numbers):\n",
    "\n",
    "# Step two - need a variable\n",
    "\n",
    "    total = 0\n",
    "        \n",
    "    for num in numbers:\n",
    "        try:\n",
    "            num = int(num) # need to convert to an integer\n",
    "            total += num # moving this into the loop\n",
    "        except ValueError:\n",
    "            continue\n",
    "            \n",
    "    return total\n",
    "\n",
    "# Step three - need to call sum\n",
    "answer = calculate_total(['1', '5', '11'])\n",
    "\n",
    "print (answer)\n",
    "\n",
    "# Step four - return result"
   ]
  },
  {
   "cell_type": "markdown",
   "id": "4e77f143",
   "metadata": {},
   "source": [
    "# Programming Exercise 1\n",
    "Design a program that asks the user to enter a store’s sales for each day of the week. The\n",
    "amounts should be stored in a list. Use a loop to calculate the total sales for the week and\n",
    "display the result."
   ]
  },
  {
   "cell_type": "code",
   "execution_count": null,
   "id": "fc7930c6",
   "metadata": {},
   "outputs": [],
   "source": [
    "# Step one - initialize a list\n",
    "\n",
    "# Step two - Use a loop to input sales for each day\n",
    "\n",
    "# Step three - calculate total sales for the week\n",
    "\n",
    "# Step four - display result"
   ]
  }
 ],
 "metadata": {
  "kernelspec": {
   "display_name": "Python 3 (ipykernel)",
   "language": "python",
   "name": "python3"
  },
  "language_info": {
   "codemirror_mode": {
    "name": "ipython",
    "version": 3
   },
   "file_extension": ".py",
   "mimetype": "text/x-python",
   "name": "python",
   "nbconvert_exporter": "python",
   "pygments_lexer": "ipython3",
   "version": "3.11.4"
  }
 },
 "nbformat": 4,
 "nbformat_minor": 5
}
