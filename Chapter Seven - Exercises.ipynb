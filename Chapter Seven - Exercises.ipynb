{
 "cells": [
  {
   "cell_type": "markdown",
   "id": "6117a553",
   "metadata": {},
   "source": [
    "# Chapter 7 - Exercises\n",
    "Alg WB any 2, prog exercises 1, 14, ?, ?"
   ]
  },
  {
   "cell_type": "markdown",
   "id": "fa3bb4a3",
   "metadata": {},
   "source": [
    "# Alg WB 1\n",
    "Write a statement that creates a list with the following strings: 'Einstein', 'Newton',\n",
    "'Copernicus', and 'Kepler'."
   ]
  },
  {
   "cell_type": "code",
   "execution_count": 1,
   "id": "77b37f43",
   "metadata": {},
   "outputs": [],
   "source": [
    "science_guys = [\"Einstein\", \"Newton\", \"Copernicus\", \"Kepler\"]\n",
    "\n",
    "# Looks good - will check in chatGPT to be sure.\n",
    "\n",
    "# yup - all set"
   ]
  },
  {
   "cell_type": "markdown",
   "id": "d889ff94",
   "metadata": {},
   "source": [
    "# Alg WB 5\n",
    "Write a function that accepts a list as an argument (assume the list contains integers)\n",
    "and returns the total of the values in the list."
   ]
  },
  {
   "cell_type": "code",
   "execution_count": 14,
   "id": "f46e2ad8",
   "metadata": {},
   "outputs": [
    {
     "name": "stdout",
     "output_type": "stream",
     "text": [
      "17\n"
     ]
    }
   ],
   "source": [
    "# Step one - call a function that will add up all the integers in the string\n",
    "\n",
    "def calculate_total(numbers):\n",
    "\n",
    "# Step two - need a variable\n",
    "\n",
    "    total = 0\n",
    "        \n",
    "    for num in numbers:\n",
    "        try:\n",
    "            num = int(num) # need to convert to an integer\n",
    "            total += num # moving this into the loop\n",
    "        except ValueError:\n",
    "            continue\n",
    "            \n",
    "    return total\n",
    "\n",
    "# Step three - need to call sum\n",
    "answer = calculate_total(['1', '5', '11'])\n",
    "\n",
    "print (answer)\n",
    "\n",
    "# Step four - return result"
   ]
  },
  {
   "cell_type": "markdown",
   "id": "5b576cc8",
   "metadata": {},
   "source": [
    "# Programming Exercise 1\n",
    "Design a program that asks the user to enter a store’s sales for each day of the week. The\n",
    "amounts should be stored in a list. Use a loop to calculate the total sales for the week and\n",
    "display the result."
   ]
  },
  {
   "cell_type": "code",
   "execution_count": 21,
   "id": "7793e904",
   "metadata": {},
   "outputs": [
    {
     "name": "stdout",
     "output_type": "stream",
     "text": [
      "Enter sales for Monday: $456456\n",
      "Enter sales for Tuesday: $546445\n",
      "Enter sales for Wednesday: $2434\n",
      "Enter sales for Thursday: $45648\n",
      "Enter sales for Friday: $56757\n",
      "Enter sales for Saturday: $5618768\n",
      "Enter sales for Sunday: $561537\n",
      "Total sales for the week: $7288045.00\n"
     ]
    }
   ],
   "source": [
    "# Step one - initialize a list\n",
    "\n",
    "sales = []\n",
    "\n",
    "# Step two - Use a loop to input sales for each day\n",
    "# Forgot to define the days of week variable\n",
    "\n",
    "days_of_week = [\"Monday\", \"Tuesday\", \"Wednesday\", \"Thursday\", \"Friday\", \"Saturday\", \"Sunday\"]\n",
    "\n",
    "# whoops - didn't start that loop right\n",
    "\n",
    "for day in days_of_week:\n",
    "    try:\n",
    "        sales_amount = float(input(f\"Enter sales for {day}: $\"))\n",
    "        sales.append(sales_amount)\n",
    "    except ValueError:\n",
    "        print(\"Invalid input. Please input a valid number\")\n",
    "\n",
    "# Step three - calculate total sales for the week\n",
    "\n",
    "total_sales = sum(sales)\n",
    "\n",
    "# Step four - display result\n",
    "\n",
    "print(f\"Total sales for the week: ${total_sales:.2f}\")"
   ]
  },
  {
   "cell_type": "markdown",
   "id": "4be33dd1",
   "metadata": {},
   "source": [
    "# Programming Exercise 14\n",
    "Create a text file that contains your expenses for last month in the following categories:\n",
    "• Rent\n",
    "• Gas\n",
    "• Food\n",
    "• Clothing\n",
    "• Car payment\n",
    "• Misc\n",
    "Write a Python program that reads the data from the file and uses matplotlib to plot a pie\n",
    "chart showing how you spend your money."
   ]
  },
  {
   "cell_type": "code",
   "execution_count": 32,
   "id": "90bb36d4",
   "metadata": {},
   "outputs": [
    {
     "ename": "NameError",
     "evalue": "name 'expense_amounts' is not defined",
     "output_type": "error",
     "traceback": [
      "\u001b[1;31m---------------------------------------------------------------------------\u001b[0m",
      "\u001b[1;31mNameError\u001b[0m                                 Traceback (most recent call last)",
      "Cell \u001b[1;32mIn[32], line 35\u001b[0m\n\u001b[0;32m     31\u001b[0m     plt\u001b[38;5;241m.\u001b[39mshow()\n\u001b[0;32m     33\u001b[0m expense_data \u001b[38;5;241m=\u001b[39m read_my_expenses(\u001b[38;5;124m'\u001b[39m\u001b[38;5;124mCITPExpenses.txt\u001b[39m\u001b[38;5;124m'\u001b[39m)\n\u001b[1;32m---> 35\u001b[0m create_pie_chart(expense_data)\n",
      "Cell \u001b[1;32mIn[32], line 28\u001b[0m, in \u001b[0;36mcreate_pie_chart\u001b[1;34m(expenses)\u001b[0m\n\u001b[0;32m     26\u001b[0m \u001b[38;5;28;01mdef\u001b[39;00m \u001b[38;5;21mcreate_pie_chart\u001b[39m(expenses):\n\u001b[0;32m     27\u001b[0m     plt\u001b[38;5;241m.\u001b[39mfigure(figsize\u001b[38;5;241m=\u001b[39m(\u001b[38;5;241m7\u001b[39m, \u001b[38;5;241m7\u001b[39m))\n\u001b[1;32m---> 28\u001b[0m     plt\u001b[38;5;241m.\u001b[39mpie(expense_amounts)\n\u001b[0;32m     29\u001b[0m     plt\u001b[38;5;241m.\u001b[39mtitle(\u001b[38;5;124m\"\u001b[39m\u001b[38;5;124mExpense Chart\u001b[39m\u001b[38;5;124m\"\u001b[39m)\n\u001b[0;32m     30\u001b[0m     plt\u001b[38;5;241m.\u001b[39maxis(\u001b[38;5;124m\"\u001b[39m\u001b[38;5;124mequal\u001b[39m\u001b[38;5;124m\"\u001b[39m)\n",
      "\u001b[1;31mNameError\u001b[0m: name 'expense_amounts' is not defined"
     ]
    },
    {
     "data": {
      "text/plain": [
       "<Figure size 700x700 with 0 Axes>"
      ]
     },
     "metadata": {},
     "output_type": "display_data"
    }
   ],
   "source": [
    "import matplotlib.pyplot as plt\n",
    "\n",
    "# whoops - forgot to import matplotlib...\n",
    "# Step one - define function to read file\n",
    "\n",
    "def read_my_expenses(CITPExpenses):\n",
    "    \n",
    "# Step two - create empty directory for expenses\n",
    "\n",
    "    expenses = {}\n",
    "\n",
    "# Step three - create a loop to read through the file\n",
    "    \n",
    "    with open(CITPExpenses, 'r') as file:\n",
    "        for line in file:\n",
    "            expense_type, expense_amount = line.strip().split(': ')\n",
    "            expense_amount = float(expense_amount)\n",
    "            expenses[expense_type] = expense_amount\n",
    "            \n",
    "    return expenses\n",
    "\n",
    "# Step four - store the data\n",
    "\n",
    "# Step five - create pie chart\n",
    "\n",
    "def create_pie_chart(expenses):\n",
    "    plt.figure(figsize=(7, 7))\n",
    "    plt.pie(expense_amounts)\n",
    "    plt.title(\"Expense Chart\")\n",
    "    plt.axis(\"equal\")\n",
    "    plt.show()\n",
    "\n",
    "expense_data = read_my_expenses('CITPExpenses.txt')\n",
    "\n",
    "create_pie_chart(expense_data)    "
   ]
  },
  {
   "cell_type": "code",
   "execution_count": null,
   "id": "bcab0e0c",
   "metadata": {},
   "outputs": [],
   "source": []
  }
 ],
 "metadata": {
  "kernelspec": {
   "display_name": "Python 3 (ipykernel)",
   "language": "python",
   "name": "python3"
  },
  "language_info": {
   "codemirror_mode": {
    "name": "ipython",
    "version": 3
   },
   "file_extension": ".py",
   "mimetype": "text/x-python",
   "name": "python",
   "nbconvert_exporter": "python",
   "pygments_lexer": "ipython3",
   "version": "3.11.4"
  }
 },
 "nbformat": 4,
 "nbformat_minor": 5
}
